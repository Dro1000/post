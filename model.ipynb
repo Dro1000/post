{
 "cells": [
  {
   "cell_type": "code",
   "execution_count": 1,
   "metadata": {
    "id": "uaKzqUxsdjDa"
   },
   "outputs": [
    {
     "name": "stderr",
     "output_type": "stream",
     "text": [
      "/home/dro/.local/lib/python3.8/site-packages/scipy/__init__.py:146: UserWarning: A NumPy version >=1.16.5 and <1.23.0 is required for this version of SciPy (detected version 1.23.3\n",
      "  warnings.warn(f\"A NumPy version >={np_minversion} and <{np_maxversion}\"\n"
     ]
    }
   ],
   "source": [
    "import pandas as pd\n",
    "import seaborn as sns\n",
    "import matplotlib.pyplot as plt\n",
    "from sklearn.model_selection import train_test_split\n",
    "from sklearn.ensemble import RandomForestClassifier\n",
    "\n",
    "%matplotlib inline"
   ]
  },
  {
   "cell_type": "code",
   "execution_count": 2,
   "metadata": {
    "colab": {
     "base_uri": "https://localhost:8080/"
    },
    "id": "2scLoULoXkT0",
    "outputId": "f34d3abd-0c25-4cb1-bc9a-36e9a8739c3a"
   },
   "outputs": [
    {
     "name": "stderr",
     "output_type": "stream",
     "text": [
      "/tmp/ipykernel_178915/1091673467.py:1: DtypeWarning: Columns (2) have mixed types. Specify dtype option on import or set low_memory=False.\n",
      "  df = pd.read_csv(\"train_dataset_train.csv\")\n"
     ]
    }
   ],
   "source": [
    "df = pd.read_csv(\"train_dataset_train.csv\")"
   ]
  },
  {
   "cell_type": "code",
   "execution_count": 3,
   "metadata": {},
   "outputs": [
    {
     "name": "stderr",
     "output_type": "stream",
     "text": [
      "/tmp/ipykernel_178915/2639216236.py:1: DtypeWarning: Columns (2) have mixed types. Specify dtype option on import or set low_memory=False.\n",
      "  test = pd.read_csv('test_dataset_test.csv')\n"
     ]
    }
   ],
   "source": [
    "test = pd.read_csv('test_dataset_test.csv')"
   ]
  },
  {
   "cell_type": "code",
   "execution_count": 4,
   "metadata": {
    "id": "wuSmnOhneooh"
   },
   "outputs": [],
   "source": [
    "df[\"is_in_yandex\"] = pd.Categorical(df[\"is_in_yandex\"])\n",
    "df[\"is_in_yandex\"].astype('category').cat.codes\n",
    "df[\"is_in_yandex\"] = df[\"is_in_yandex\"].cat.codes"
   ]
  },
  {
   "cell_type": "code",
   "execution_count": 5,
   "metadata": {
    "id": "wuSmnOhneooh"
   },
   "outputs": [],
   "source": [
    "test[\"is_in_yandex\"] = pd.Categorical(test[\"is_in_yandex\"])\n",
    "test[\"is_in_yandex\"].astype('category').cat.codes\n",
    "test[\"is_in_yandex\"] = test[\"is_in_yandex\"].cat.codes"
   ]
  },
  {
   "cell_type": "code",
   "execution_count": 6,
   "metadata": {
    "id": "vdTdoZs293hM"
   },
   "outputs": [],
   "source": [
    "df[\"is_return\"] = pd.Categorical(df[\"is_return\"])\n",
    "df[\"is_return\"].astype('category').cat.codes\n",
    "df[\"is_return\"] = df[\"is_return\"].cat.codes"
   ]
  },
  {
   "cell_type": "code",
   "execution_count": 7,
   "metadata": {
    "id": "vdTdoZs293hM"
   },
   "outputs": [],
   "source": [
    "test[\"is_return\"] = pd.Categorical(test[\"is_return\"])\n",
    "test[\"is_return\"].astype('category').cat.codes\n",
    "test[\"is_return\"] = test[\"is_return\"].cat.codes"
   ]
  },
  {
   "cell_type": "code",
   "execution_count": 11,
   "metadata": {
    "id": "PYDt4hVn_GB9"
   },
   "outputs": [],
   "source": [
    "col_obj = df.select_dtypes(include=['object']).columns.values\n",
    "col_obj = list(set(col_obj) ^ set([\"id\", \"label\"]))"
   ]
  },
  {
   "cell_type": "code",
   "execution_count": 165,
   "metadata": {
    "id": "mkCL9b-8hmZ1"
   },
   "outputs": [],
   "source": [
    "X = df.drop(col_obj, axis = 1)\n",
    "y = df[[\"label\"]]"
   ]
  },
  {
   "cell_type": "code",
   "execution_count": 166,
   "metadata": {
    "id": "NfIOX9Lbik_i"
   },
   "outputs": [],
   "source": [
    "X_train, X_test, y_train, y_test = train_test_split(X, y, test_size=0.05, random_state=42)"
   ]
  },
  {
   "cell_type": "markdown",
   "metadata": {
    "id": "60NotS9ehbO5"
   },
   "source": [
    "## Обучение модели"
   ]
  },
  {
   "cell_type": "code",
   "execution_count": 167,
   "metadata": {},
   "outputs": [],
   "source": [
    "import lightgbm as lgb\n",
    "import catboost as cb"
   ]
  },
  {
   "cell_type": "code",
   "execution_count": 168,
   "metadata": {},
   "outputs": [],
   "source": [
    "from sklearn.ensemble import BaggingClassifier"
   ]
  },
  {
   "cell_type": "code",
   "execution_count": 169,
   "metadata": {
    "id": "jc-KKFlWf6_N"
   },
   "outputs": [],
   "source": [
    "clf = lgb.LGBMClassifier(num_leaves=2047, random_state=42, learning_rate=0.02, n_estimators=200)"
   ]
  },
  {
   "cell_type": "code",
   "execution_count": null,
   "metadata": {
    "colab": {
     "base_uri": "https://localhost:8080/"
    },
    "id": "bc8JAH4yf7Bs",
    "outputId": "6cf27cb3-b919-402d-cae3-f1fabc8ecc10"
   },
   "outputs": [
    {
     "name": "stderr",
     "output_type": "stream",
     "text": [
      "/home/dro/.local/lib/python3.8/site-packages/sklearn/preprocessing/_label.py:98: DataConversionWarning: A column-vector y was passed when a 1d array was expected. Please change the shape of y to (n_samples, ), for example using ravel().\n",
      "  y = column_or_1d(y, warn=True)\n",
      "/home/dro/.local/lib/python3.8/site-packages/sklearn/preprocessing/_label.py:133: DataConversionWarning: A column-vector y was passed when a 1d array was expected. Please change the shape of y to (n_samples, ), for example using ravel().\n",
      "  y = column_or_1d(y, warn=True)\n"
     ]
    },
    {
     "name": "stdout",
     "output_type": "stream",
     "text": [
      "[1]\tvalid_0's auc: 0.946691\tvalid_0's binary_logloss: 0.126523\n",
      "Training until validation scores don't improve for 50 rounds\n",
      "[2]\tvalid_0's auc: 0.947614\tvalid_0's binary_logloss: 0.122752\n",
      "[3]\tvalid_0's auc: 0.948013\tvalid_0's binary_logloss: 0.119697\n",
      "[4]\tvalid_0's auc: 0.948392\tvalid_0's binary_logloss: 0.11707\n",
      "[5]\tvalid_0's auc: 0.948582\tvalid_0's binary_logloss: 0.114804\n",
      "[6]\tvalid_0's auc: 0.948818\tvalid_0's binary_logloss: 0.112764\n",
      "[7]\tvalid_0's auc: 0.949078\tvalid_0's binary_logloss: 0.110933\n",
      "[8]\tvalid_0's auc: 0.949339\tvalid_0's binary_logloss: 0.109257\n",
      "[9]\tvalid_0's auc: 0.949461\tvalid_0's binary_logloss: 0.107735\n",
      "[10]\tvalid_0's auc: 0.949618\tvalid_0's binary_logloss: 0.106318\n",
      "[11]\tvalid_0's auc: 0.949672\tvalid_0's binary_logloss: 0.10502\n",
      "[12]\tvalid_0's auc: 0.949754\tvalid_0's binary_logloss: 0.103809\n",
      "[13]\tvalid_0's auc: 0.949827\tvalid_0's binary_logloss: 0.102678\n",
      "[14]\tvalid_0's auc: 0.949925\tvalid_0's binary_logloss: 0.101604\n",
      "[15]\tvalid_0's auc: 0.950053\tvalid_0's binary_logloss: 0.100603\n",
      "[16]\tvalid_0's auc: 0.950107\tvalid_0's binary_logloss: 0.0996528\n",
      "[17]\tvalid_0's auc: 0.950152\tvalid_0's binary_logloss: 0.0987557\n",
      "[18]\tvalid_0's auc: 0.950202\tvalid_0's binary_logloss: 0.0979081\n",
      "[19]\tvalid_0's auc: 0.950339\tvalid_0's binary_logloss: 0.0971016\n",
      "[20]\tvalid_0's auc: 0.950387\tvalid_0's binary_logloss: 0.0963313\n",
      "[21]\tvalid_0's auc: 0.95044\tvalid_0's binary_logloss: 0.0956009\n",
      "[22]\tvalid_0's auc: 0.950509\tvalid_0's binary_logloss: 0.0949047\n",
      "[23]\tvalid_0's auc: 0.950588\tvalid_0's binary_logloss: 0.0942366\n",
      "[24]\tvalid_0's auc: 0.950613\tvalid_0's binary_logloss: 0.0935995\n",
      "[25]\tvalid_0's auc: 0.950653\tvalid_0's binary_logloss: 0.0929896\n",
      "[26]\tvalid_0's auc: 0.950684\tvalid_0's binary_logloss: 0.0924041\n",
      "[27]\tvalid_0's auc: 0.950715\tvalid_0's binary_logloss: 0.0918423\n",
      "[28]\tvalid_0's auc: 0.950739\tvalid_0's binary_logloss: 0.0913024\n",
      "[29]\tvalid_0's auc: 0.950765\tvalid_0's binary_logloss: 0.0907853\n",
      "[30]\tvalid_0's auc: 0.950797\tvalid_0's binary_logloss: 0.0902861\n",
      "[31]\tvalid_0's auc: 0.95089\tvalid_0's binary_logloss: 0.0898099\n",
      "[32]\tvalid_0's auc: 0.950916\tvalid_0's binary_logloss: 0.0893494\n",
      "[33]\tvalid_0's auc: 0.950932\tvalid_0's binary_logloss: 0.0889065\n",
      "[34]\tvalid_0's auc: 0.950954\tvalid_0's binary_logloss: 0.088477\n",
      "[35]\tvalid_0's auc: 0.950965\tvalid_0's binary_logloss: 0.0880625\n",
      "[36]\tvalid_0's auc: 0.950967\tvalid_0's binary_logloss: 0.0876667\n",
      "[37]\tvalid_0's auc: 0.950988\tvalid_0's binary_logloss: 0.0872789\n",
      "[38]\tvalid_0's auc: 0.951001\tvalid_0's binary_logloss: 0.0869067\n",
      "[39]\tvalid_0's auc: 0.951014\tvalid_0's binary_logloss: 0.086548\n",
      "[40]\tvalid_0's auc: 0.951032\tvalid_0's binary_logloss: 0.0862006\n",
      "[41]\tvalid_0's auc: 0.951054\tvalid_0's binary_logloss: 0.0858649\n",
      "[42]\tvalid_0's auc: 0.951074\tvalid_0's binary_logloss: 0.0855385\n",
      "[43]\tvalid_0's auc: 0.951095\tvalid_0's binary_logloss: 0.0852258\n",
      "[44]\tvalid_0's auc: 0.951104\tvalid_0's binary_logloss: 0.0849242\n",
      "[45]\tvalid_0's auc: 0.951095\tvalid_0's binary_logloss: 0.084634\n",
      "[46]\tvalid_0's auc: 0.951102\tvalid_0's binary_logloss: 0.0843528\n",
      "[47]\tvalid_0's auc: 0.951116\tvalid_0's binary_logloss: 0.0840753\n",
      "[48]\tvalid_0's auc: 0.951127\tvalid_0's binary_logloss: 0.083806\n",
      "[49]\tvalid_0's auc: 0.951159\tvalid_0's binary_logloss: 0.0835479\n",
      "[50]\tvalid_0's auc: 0.951173\tvalid_0's binary_logloss: 0.083294\n",
      "[51]\tvalid_0's auc: 0.951181\tvalid_0's binary_logloss: 0.0830509\n",
      "[52]\tvalid_0's auc: 0.951175\tvalid_0's binary_logloss: 0.0828165\n",
      "[53]\tvalid_0's auc: 0.951186\tvalid_0's binary_logloss: 0.0825836\n",
      "[54]\tvalid_0's auc: 0.951187\tvalid_0's binary_logloss: 0.082362\n",
      "[55]\tvalid_0's auc: 0.951197\tvalid_0's binary_logloss: 0.0821464\n",
      "[56]\tvalid_0's auc: 0.951206\tvalid_0's binary_logloss: 0.0819338\n",
      "[57]\tvalid_0's auc: 0.951208\tvalid_0's binary_logloss: 0.0817316\n",
      "[58]\tvalid_0's auc: 0.951222\tvalid_0's binary_logloss: 0.0815317\n",
      "[59]\tvalid_0's auc: 0.951222\tvalid_0's binary_logloss: 0.0813419\n",
      "[60]\tvalid_0's auc: 0.951228\tvalid_0's binary_logloss: 0.0811544\n",
      "[61]\tvalid_0's auc: 0.951214\tvalid_0's binary_logloss: 0.0809796\n",
      "[62]\tvalid_0's auc: 0.95123\tvalid_0's binary_logloss: 0.080798\n",
      "[63]\tvalid_0's auc: 0.951235\tvalid_0's binary_logloss: 0.0806277\n",
      "[64]\tvalid_0's auc: 0.951265\tvalid_0's binary_logloss: 0.0804524\n",
      "[65]\tvalid_0's auc: 0.951276\tvalid_0's binary_logloss: 0.0802839\n",
      "[66]\tvalid_0's auc: 0.951295\tvalid_0's binary_logloss: 0.0801179\n",
      "[67]\tvalid_0's auc: 0.951313\tvalid_0's binary_logloss: 0.0799564\n",
      "[68]\tvalid_0's auc: 0.95155\tvalid_0's binary_logloss: 0.0798033\n",
      "[69]\tvalid_0's auc: 0.951566\tvalid_0's binary_logloss: 0.0796518\n",
      "[70]\tvalid_0's auc: 0.951574\tvalid_0's binary_logloss: 0.0795067\n",
      "[71]\tvalid_0's auc: 0.951596\tvalid_0's binary_logloss: 0.0793627\n",
      "[72]\tvalid_0's auc: 0.951605\tvalid_0's binary_logloss: 0.0792275\n",
      "[73]\tvalid_0's auc: 0.951609\tvalid_0's binary_logloss: 0.0790973\n",
      "[74]\tvalid_0's auc: 0.951662\tvalid_0's binary_logloss: 0.0789649\n",
      "[75]\tvalid_0's auc: 0.951681\tvalid_0's binary_logloss: 0.0788381\n",
      "[76]\tvalid_0's auc: 0.951688\tvalid_0's binary_logloss: 0.0787167\n",
      "[77]\tvalid_0's auc: 0.951704\tvalid_0's binary_logloss: 0.0785962\n",
      "[78]\tvalid_0's auc: 0.951671\tvalid_0's binary_logloss: 0.0784822\n",
      "[79]\tvalid_0's auc: 0.951675\tvalid_0's binary_logloss: 0.0783727\n",
      "[80]\tvalid_0's auc: 0.95169\tvalid_0's binary_logloss: 0.0782604\n",
      "[81]\tvalid_0's auc: 0.951699\tvalid_0's binary_logloss: 0.0781534\n",
      "[82]\tvalid_0's auc: 0.95171\tvalid_0's binary_logloss: 0.0780484\n",
      "[83]\tvalid_0's auc: 0.951744\tvalid_0's binary_logloss: 0.0779485\n",
      "[84]\tvalid_0's auc: 0.951753\tvalid_0's binary_logloss: 0.0778462\n",
      "[85]\tvalid_0's auc: 0.951775\tvalid_0's binary_logloss: 0.0777431\n",
      "[86]\tvalid_0's auc: 0.951792\tvalid_0's binary_logloss: 0.0776499\n",
      "[87]\tvalid_0's auc: 0.951801\tvalid_0's binary_logloss: 0.0775565\n",
      "[88]\tvalid_0's auc: 0.951808\tvalid_0's binary_logloss: 0.0774632\n",
      "[89]\tvalid_0's auc: 0.951821\tvalid_0's binary_logloss: 0.0773765\n",
      "[90]\tvalid_0's auc: 0.951838\tvalid_0's binary_logloss: 0.077288\n",
      "[91]\tvalid_0's auc: 0.95185\tvalid_0's binary_logloss: 0.0772027\n",
      "[92]\tvalid_0's auc: 0.951863\tvalid_0's binary_logloss: 0.0771176\n",
      "[93]\tvalid_0's auc: 0.951868\tvalid_0's binary_logloss: 0.0770381\n",
      "[94]\tvalid_0's auc: 0.951877\tvalid_0's binary_logloss: 0.0769605\n",
      "[95]\tvalid_0's auc: 0.951893\tvalid_0's binary_logloss: 0.0768834\n",
      "[96]\tvalid_0's auc: 0.951902\tvalid_0's binary_logloss: 0.0768109\n",
      "[97]\tvalid_0's auc: 0.951904\tvalid_0's binary_logloss: 0.0767397\n",
      "[98]\tvalid_0's auc: 0.95191\tvalid_0's binary_logloss: 0.0766687\n",
      "[99]\tvalid_0's auc: 0.951922\tvalid_0's binary_logloss: 0.076599\n",
      "[100]\tvalid_0's auc: 0.951937\tvalid_0's binary_logloss: 0.0765286\n",
      "[101]\tvalid_0's auc: 0.951938\tvalid_0's binary_logloss: 0.0764653\n",
      "[102]\tvalid_0's auc: 0.951948\tvalid_0's binary_logloss: 0.0763996\n",
      "[103]\tvalid_0's auc: 0.951976\tvalid_0's binary_logloss: 0.076335\n",
      "[104]\tvalid_0's auc: 0.95198\tvalid_0's binary_logloss: 0.0762739\n",
      "[105]\tvalid_0's auc: 0.951989\tvalid_0's binary_logloss: 0.0762159\n",
      "[106]\tvalid_0's auc: 0.95199\tvalid_0's binary_logloss: 0.0761618\n",
      "[107]\tvalid_0's auc: 0.952006\tvalid_0's binary_logloss: 0.0760991\n",
      "[108]\tvalid_0's auc: 0.952011\tvalid_0's binary_logloss: 0.0760454\n",
      "[109]\tvalid_0's auc: 0.952011\tvalid_0's binary_logloss: 0.0759919\n",
      "[110]\tvalid_0's auc: 0.952019\tvalid_0's binary_logloss: 0.075938\n",
      "[111]\tvalid_0's auc: 0.952021\tvalid_0's binary_logloss: 0.0758884\n",
      "[112]\tvalid_0's auc: 0.952021\tvalid_0's binary_logloss: 0.0758396\n",
      "[113]\tvalid_0's auc: 0.952017\tvalid_0's binary_logloss: 0.0757919\n",
      "[114]\tvalid_0's auc: 0.952032\tvalid_0's binary_logloss: 0.0757381\n",
      "[115]\tvalid_0's auc: 0.952044\tvalid_0's binary_logloss: 0.0756855\n",
      "[116]\tvalid_0's auc: 0.952051\tvalid_0's binary_logloss: 0.0756411\n",
      "[117]\tvalid_0's auc: 0.952057\tvalid_0's binary_logloss: 0.075596\n",
      "[118]\tvalid_0's auc: 0.952057\tvalid_0's binary_logloss: 0.0755511\n",
      "[119]\tvalid_0's auc: 0.952076\tvalid_0's binary_logloss: 0.0755065\n",
      "[120]\tvalid_0's auc: 0.952081\tvalid_0's binary_logloss: 0.0754664\n",
      "[121]\tvalid_0's auc: 0.952078\tvalid_0's binary_logloss: 0.0754289\n",
      "[122]\tvalid_0's auc: 0.952082\tvalid_0's binary_logloss: 0.0753885\n",
      "[123]\tvalid_0's auc: 0.952094\tvalid_0's binary_logloss: 0.0753456\n",
      "[124]\tvalid_0's auc: 0.952096\tvalid_0's binary_logloss: 0.0753069\n",
      "[125]\tvalid_0's auc: 0.952096\tvalid_0's binary_logloss: 0.0752675\n",
      "[126]\tvalid_0's auc: 0.952101\tvalid_0's binary_logloss: 0.0752274\n"
     ]
    },
    {
     "name": "stdout",
     "output_type": "stream",
     "text": [
      "[127]\tvalid_0's auc: 0.952114\tvalid_0's binary_logloss: 0.0751852\n",
      "[128]\tvalid_0's auc: 0.95212\tvalid_0's binary_logloss: 0.0751501\n",
      "[129]\tvalid_0's auc: 0.95212\tvalid_0's binary_logloss: 0.0751168\n",
      "[130]\tvalid_0's auc: 0.952119\tvalid_0's binary_logloss: 0.0750857\n",
      "[131]\tvalid_0's auc: 0.952133\tvalid_0's binary_logloss: 0.075047\n",
      "[132]\tvalid_0's auc: 0.952155\tvalid_0's binary_logloss: 0.0750073\n",
      "[133]\tvalid_0's auc: 0.952155\tvalid_0's binary_logloss: 0.0749786\n",
      "[134]\tvalid_0's auc: 0.952151\tvalid_0's binary_logloss: 0.074947\n",
      "[135]\tvalid_0's auc: 0.952157\tvalid_0's binary_logloss: 0.0749175\n",
      "[136]\tvalid_0's auc: 0.952171\tvalid_0's binary_logloss: 0.0748848\n",
      "[137]\tvalid_0's auc: 0.952178\tvalid_0's binary_logloss: 0.0748539\n",
      "[138]\tvalid_0's auc: 0.952191\tvalid_0's binary_logloss: 0.0748244\n",
      "[139]\tvalid_0's auc: 0.952207\tvalid_0's binary_logloss: 0.0747903\n",
      "[140]\tvalid_0's auc: 0.952205\tvalid_0's binary_logloss: 0.0747586\n",
      "[141]\tvalid_0's auc: 0.952215\tvalid_0's binary_logloss: 0.0747296\n",
      "[142]\tvalid_0's auc: 0.952238\tvalid_0's binary_logloss: 0.0747\n",
      "[143]\tvalid_0's auc: 0.952268\tvalid_0's binary_logloss: 0.0746696\n",
      "[144]\tvalid_0's auc: 0.95228\tvalid_0's binary_logloss: 0.0746387\n"
     ]
    }
   ],
   "source": [
    "clf.fit(X_train, y_train, eval_set=(X_test, y_test), eval_metric='auc', early_stopping_rounds=50)"
   ]
  },
  {
   "cell_type": "markdown",
   "metadata": {
    "id": "DrF2LeJIBNYN"
   },
   "source": [
    "## Оценка точности"
   ]
  },
  {
   "cell_type": "code",
   "execution_count": 155,
   "metadata": {
    "id": "5Ph7vcoxBNYO"
   },
   "outputs": [],
   "source": [
    "pred = clf.predict_proba(X_test)[:, 1] > 0.03"
   ]
  },
  {
   "cell_type": "code",
   "execution_count": 156,
   "metadata": {
    "id": "wfAZwwLXBNYO"
   },
   "outputs": [
    {
     "data": {
      "text/plain": [
       "0.6471670259254707"
      ]
     },
     "execution_count": 156,
     "metadata": {},
     "output_type": "execute_result"
    }
   ],
   "source": [
    "from sklearn.metrics import recall_score, roc_auc_score\n",
    "\n",
    "score = recall_score(y_test, pred, average = \"macro\" )\n",
    "roc_auc_score(y_test, pred, multi_class='ovo')"
   ]
  },
  {
   "cell_type": "code",
   "execution_count": 157,
   "metadata": {
    "colab": {
     "base_uri": "https://localhost:8080/"
    },
    "id": "sX6yHTGUBNYO",
    "outputId": "ab784c04-2e8c-4595-a968-d22f9923b4bd"
   },
   "outputs": [
    {
     "name": "stdout",
     "output_type": "stream",
     "text": [
      "Recall 0.6471670259254707\n"
     ]
    }
   ],
   "source": [
    "print(\"Recall\", score)"
   ]
  },
  {
   "cell_type": "code",
   "execution_count": 143,
   "metadata": {},
   "outputs": [],
   "source": [
    "import seaborn as sns"
   ]
  },
  {
   "cell_type": "code",
   "execution_count": 158,
   "metadata": {},
   "outputs": [
    {
     "data": {
      "text/plain": [
       "<AxesSubplot:>"
      ]
     },
     "execution_count": 158,
     "metadata": {},
     "output_type": "execute_result"
    },
    {
     "data": {
      "image/png": "[encoded data removed]",
      "text/plain": [
       "<Figure size 432x288 with 1 Axes>"
      ]
     },
     "metadata": {
      "needs_background": "light"
     },
     "output_type": "display_data"
    }
   ],
   "source": [
    "sns.barplot(y=X_test.columns, x=clf.feature_importances_)"
   ]
  },
  {
   "cell_type": "code",
   "execution_count": 145,
   "metadata": {},
   "outputs": [],
   "source": [
    "columns = ['weight', 'price_mfi', 'weight_mfi']"
   ]
  },
  {
   "cell_type": "code",
   "execution_count": 146,
   "metadata": {},
   "outputs": [
    {
     "data": {
      "text/html": [
       "<div>\n",
       "<style scoped>\n",
       "    .dataframe tbody tr th:only-of-type {\n",
       "        vertical-align: middle;\n",
       "    }\n",
       "\n",
       "    .dataframe tbody tr th {\n",
       "        vertical-align: top;\n",
       "    }\n",
       "\n",
       "    .dataframe thead th {\n",
       "        text-align: right;\n",
       "    }\n",
       "</style>\n",
       "<table border=\"1\" class=\"dataframe\">\n",
       "  <thead>\n",
       "    <tr style=\"text-align: right;\">\n",
       "      <th></th>\n",
       "      <th>weight</th>\n",
       "      <th>price_mfi</th>\n",
       "      <th>weight_mfi</th>\n",
       "    </tr>\n",
       "  </thead>\n",
       "  <tbody>\n",
       "    <tr>\n",
       "      <th>0</th>\n",
       "      <td>87.0</td>\n",
       "      <td>150.0</td>\n",
       "      <td>41.0</td>\n",
       "    </tr>\n",
       "    <tr>\n",
       "      <th>1</th>\n",
       "      <td>107.0</td>\n",
       "      <td>400.0</td>\n",
       "      <td>68.0</td>\n",
       "    </tr>\n",
       "    <tr>\n",
       "      <th>2</th>\n",
       "      <td>50.0</td>\n",
       "      <td>218.0</td>\n",
       "      <td>56.0</td>\n",
       "    </tr>\n",
       "    <tr>\n",
       "      <th>3</th>\n",
       "      <td>416.0</td>\n",
       "      <td>100.0</td>\n",
       "      <td>33.0</td>\n",
       "    </tr>\n",
       "    <tr>\n",
       "      <th>4</th>\n",
       "      <td>795.0</td>\n",
       "      <td>1000.0</td>\n",
       "      <td>716.0</td>\n",
       "    </tr>\n",
       "    <tr>\n",
       "      <th>...</th>\n",
       "      <td>...</td>\n",
       "      <td>...</td>\n",
       "      <td>...</td>\n",
       "    </tr>\n",
       "    <tr>\n",
       "      <th>5999995</th>\n",
       "      <td>25.0</td>\n",
       "      <td>100.0</td>\n",
       "      <td>24.0</td>\n",
       "    </tr>\n",
       "    <tr>\n",
       "      <th>5999996</th>\n",
       "      <td>83.0</td>\n",
       "      <td>1832.0</td>\n",
       "      <td>100.0</td>\n",
       "    </tr>\n",
       "    <tr>\n",
       "      <th>5999997</th>\n",
       "      <td>1700.0</td>\n",
       "      <td>800.0</td>\n",
       "      <td>952.0</td>\n",
       "    </tr>\n",
       "    <tr>\n",
       "      <th>5999998</th>\n",
       "      <td>269.0</td>\n",
       "      <td>0.0</td>\n",
       "      <td>0.0</td>\n",
       "    </tr>\n",
       "    <tr>\n",
       "      <th>5999999</th>\n",
       "      <td>41.0</td>\n",
       "      <td>400.0</td>\n",
       "      <td>40.0</td>\n",
       "    </tr>\n",
       "  </tbody>\n",
       "</table>\n",
       "<p>6000000 rows × 3 columns</p>\n",
       "</div>"
      ],
      "text/plain": [
       "         weight  price_mfi  weight_mfi\n",
       "0          87.0      150.0        41.0\n",
       "1         107.0      400.0        68.0\n",
       "2          50.0      218.0        56.0\n",
       "3         416.0      100.0        33.0\n",
       "4         795.0     1000.0       716.0\n",
       "...         ...        ...         ...\n",
       "5999995    25.0      100.0        24.0\n",
       "5999996    83.0     1832.0       100.0\n",
       "5999997  1700.0      800.0       952.0\n",
       "5999998   269.0        0.0         0.0\n",
       "5999999    41.0      400.0        40.0\n",
       "\n",
       "[6000000 rows x 3 columns]"
      ]
     },
     "execution_count": 146,
     "metadata": {},
     "output_type": "execute_result"
    }
   ],
   "source": [
    "X[columns]"
   ]
  },
  {
   "cell_type": "code",
   "execution_count": 105,
   "metadata": {},
   "outputs": [],
   "source": [
    "ss = pd.read_csv('sample_solution.csv')"
   ]
  },
  {
   "cell_type": "code",
   "execution_count": 95,
   "metadata": {},
   "outputs": [],
   "source": [
    "ss['label'] = (clf.predict_proba(test[X_test.columns])[:, 1] > 0.03).astype(int)"
   ]
  },
  {
   "cell_type": "code",
   "execution_count": 96,
   "metadata": {},
   "outputs": [],
   "source": [
    "ss.to_csv('solut.csv', index=False)"
   ]
  },
  {
   "cell_type": "code",
   "execution_count": 97,
   "metadata": {},
   "outputs": [
    {
     "data": {
      "text/plain": [
       "0.19474525"
      ]
     },
     "execution_count": 97,
     "metadata": {},
     "output_type": "execute_result"
    }
   ],
   "source": [
    "ss['label'].mean()"
   ]
  },
  {
   "cell_type": "code",
   "execution_count": null,
   "metadata": {},
   "outputs": [],
   "source": []
  }
 ],
 "metadata": {
  "colab": {
   "provenance": []
  },
  "kernelspec": {
   "display_name": "Python 3 (ipykernel)",
   "language": "python",
   "name": "python3"
  },
  "language_info": {
   "codemirror_mode": {
    "name": "ipython",
    "version": 3
   },
   "file_extension": ".py",
   "mimetype": "text/x-python",
   "name": "python",
   "nbconvert_exporter": "python",
   "pygments_lexer": "ipython3",
   "version": "3.8.10"
  }
 },
 "nbformat": 4,
 "nbformat_minor": 1
}
