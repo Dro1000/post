{
 "cells": [
  {
   "cell_type": "code",
   "execution_count": 1,
   "metadata": {},
   "outputs": [],
   "source": [
    "import pandas as pd\n",
    "import numpy as np\n",
    "import matplotlib.pyplot as plt"
   ]
  },
  {
   "cell_type": "code",
   "execution_count": 2,
   "metadata": {},
   "outputs": [
    {
     "data": {
      "text/plain": [
       "['catboost_info',\n",
       " 'sample_solution.csv',\n",
       " 'Untitled.ipynb',\n",
       " '.ipynb_checkpoints',\n",
       " 'Почта России.zip',\n",
       " 'test_dataset_test.csv',\n",
       " 'Почта России.pdf',\n",
       " 'sol.csv',\n",
       " 'Почта_baseline.ipynb',\n",
       " 'train_dataset_train.csv']"
      ]
     },
     "execution_count": 2,
     "metadata": {},
     "output_type": "execute_result"
    }
   ],
   "source": [
    "import os\n",
    "os.listdir()"
   ]
  },
  {
   "cell_type": "code",
   "execution_count": 3,
   "metadata": {},
   "outputs": [
    {
     "name": "stderr",
     "output_type": "stream",
     "text": [
      "<ipython-input-3-f921b583d017>:1: DtypeWarning: Columns (2) have mixed types. Specify dtype option on import or set low_memory=False.\n",
      "  train = pd.read_csv('train_dataset_train.csv')\n",
      "<ipython-input-3-f921b583d017>:2: DtypeWarning: Columns (2) have mixed types. Specify dtype option on import or set low_memory=False.\n",
      "  test = pd.read_csv('test_dataset_test.csv')\n"
     ]
    }
   ],
   "source": [
    "train = pd.read_csv('train_dataset_train.csv')\n",
    "test = pd.read_csv('test_dataset_test.csv')"
   ]
  },
  {
   "cell_type": "code",
   "execution_count": 4,
   "metadata": {},
   "outputs": [],
   "source": [
    "ss = pd.read_csv('sample_solution.csv')"
   ]
  },
  {
   "cell_type": "code",
   "execution_count": 5,
   "metadata": {},
   "outputs": [],
   "source": [
    "cols_obj = train.select_dtypes(include='object').columns.values\n",
    "label_col = 'label'"
   ]
  },
  {
   "cell_type": "code",
   "execution_count": 6,
   "metadata": {},
   "outputs": [],
   "source": [
    "train['index_oper'] = train['index_oper'].replace(' ', 0).astype(float)\n",
    "test['index_oper'] = test['index_oper'].replace(' ', 0).astype(float)"
   ]
  },
  {
   "cell_type": "code",
   "execution_count": 7,
   "metadata": {},
   "outputs": [],
   "source": [
    "from sklearn.preprocessing import LabelEncoder\n",
    "\n",
    "encs = {}\n",
    "\n",
    "for col in cols_obj:\n",
    "    enc = LabelEncoder()\n",
    "    enc.fit(pd.concat([train[col], test[col]]))\n",
    "    train[col + '_enc'] = enc.transform(train[col])\n",
    "    test[col + '_enc'] = enc.transform(test[col])\n",
    "    \n",
    "    encs[col] = enc"
   ]
  },
  {
   "cell_type": "code",
   "execution_count": 8,
   "metadata": {},
   "outputs": [],
   "source": [
    "import lightgbm as lgb\n",
    "from sklearn.metrics import roc_auc_score, recall_score\n",
    "from sklearn.model_selection import train_test_split\n"
   ]
  },
  {
   "cell_type": "code",
   "execution_count": 11,
   "metadata": {},
   "outputs": [
    {
     "data": {
      "text/plain": [
       "Index(['id', 'oper_type + oper_attr', 'index_oper', 'type', 'priority',\n",
       "       'is_privatecategory', 'class', 'is_in_yandex', 'is_return', 'weight',\n",
       "       'mailtype', 'mailctg', 'mailrank', 'directctg', 'transport_pay',\n",
       "       'postmark', 'name_mfi', 'weight_mfi', 'price_mfi',\n",
       "       'dist_qty_oper_login_1', 'total_qty_oper_login_1',\n",
       "       'total_qty_oper_login_0', 'total_qty_over_index_and_type',\n",
       "       'total_qty_over_index', 'is_wrong_sndr_name', 'is_wrong_rcpn_name',\n",
       "       'is_wrong_phone_number', 'is_wrong_address', 'label',\n",
       "       'oper_type + oper_attr_enc', 'index_oper_enc', 'type_enc',\n",
       "       'is_privatecategory_enc', 'is_in_yandex_enc', 'is_return_enc',\n",
       "       'name_mfi_enc'],\n",
       "      dtype='object')"
      ]
     },
     "execution_count": 11,
     "metadata": {},
     "output_type": "execute_result"
    }
   ],
   "source": [
    "train.columns"
   ]
  },
  {
   "cell_type": "code",
   "execution_count": 12,
   "metadata": {},
   "outputs": [],
   "source": [
    "X = train.drop(columns=list(cols_obj) + [label_col] + ['id'] + ['oper_type + oper_attr_enc'])\n",
    "y = train[label_col]"
   ]
  },
  {
   "cell_type": "code",
   "execution_count": 13,
   "metadata": {},
   "outputs": [],
   "source": [
    "X_train, X_test, y_train, y_test = train_test_split(X, y, test_size=0.2, random_state=150)"
   ]
  },
  {
   "cell_type": "code",
   "execution_count": 14,
   "metadata": {},
   "outputs": [
    {
     "name": "stdout",
     "output_type": "stream",
     "text": [
      "[1]\tvalid_0's binary_logloss: 0.11078\n",
      "[2]\tvalid_0's binary_logloss: 0.103044\n",
      "[3]\tvalid_0's binary_logloss: 0.0981756\n",
      "[4]\tvalid_0's binary_logloss: 0.0946763\n",
      "[5]\tvalid_0's binary_logloss: 0.0918508\n",
      "[6]\tvalid_0's binary_logloss: 0.0895743\n",
      "[7]\tvalid_0's binary_logloss: 0.0876537\n",
      "[8]\tvalid_0's binary_logloss: 0.0860399\n",
      "[9]\tvalid_0's binary_logloss: 0.0846302\n",
      "[10]\tvalid_0's binary_logloss: 0.0834393\n",
      "[11]\tvalid_0's binary_logloss: 0.0824051\n",
      "[12]\tvalid_0's binary_logloss: 0.0815097\n",
      "[13]\tvalid_0's binary_logloss: 0.080714\n",
      "[14]\tvalid_0's binary_logloss: 0.0800198\n",
      "[15]\tvalid_0's binary_logloss: 0.0794047\n",
      "[16]\tvalid_0's binary_logloss: 0.078869\n",
      "[17]\tvalid_0's binary_logloss: 0.078402\n",
      "[18]\tvalid_0's binary_logloss: 0.0779802\n",
      "[19]\tvalid_0's binary_logloss: 0.0776059\n",
      "[20]\tvalid_0's binary_logloss: 0.0772694\n",
      "[21]\tvalid_0's binary_logloss: 0.0769647\n",
      "[22]\tvalid_0's binary_logloss: 0.076702\n",
      "[23]\tvalid_0's binary_logloss: 0.0764669\n",
      "[24]\tvalid_0's binary_logloss: 0.0762682\n",
      "[25]\tvalid_0's binary_logloss: 0.0760675\n",
      "[26]\tvalid_0's binary_logloss: 0.0758924\n",
      "[27]\tvalid_0's binary_logloss: 0.0757245\n",
      "[28]\tvalid_0's binary_logloss: 0.075583\n",
      "[29]\tvalid_0's binary_logloss: 0.0754601\n",
      "[30]\tvalid_0's binary_logloss: 0.0753345\n",
      "[31]\tvalid_0's binary_logloss: 0.0752213\n",
      "[32]\tvalid_0's binary_logloss: 0.0751182\n",
      "[33]\tvalid_0's binary_logloss: 0.0750293\n",
      "[34]\tvalid_0's binary_logloss: 0.0751709\n",
      "[35]\tvalid_0's binary_logloss: 0.0749682\n",
      "[36]\tvalid_0's binary_logloss: 0.0748801\n",
      "[37]\tvalid_0's binary_logloss: 0.0748014\n",
      "[38]\tvalid_0's binary_logloss: 0.0747268\n",
      "[39]\tvalid_0's binary_logloss: 0.0747666\n",
      "[40]\tvalid_0's binary_logloss: 0.0747136\n",
      "[41]\tvalid_0's binary_logloss: 0.0747387\n",
      "[42]\tvalid_0's binary_logloss: 0.0747118\n",
      "[43]\tvalid_0's binary_logloss: 0.0746009\n",
      "[44]\tvalid_0's binary_logloss: 0.0745663\n",
      "[45]\tvalid_0's binary_logloss: 0.0745264\n",
      "[46]\tvalid_0's binary_logloss: 0.0744922\n",
      "[47]\tvalid_0's binary_logloss: 0.074653\n",
      "[48]\tvalid_0's binary_logloss: 0.0749601\n",
      "[49]\tvalid_0's binary_logloss: 0.0749715\n",
      "[50]\tvalid_0's binary_logloss: 0.0752488\n",
      "[51]\tvalid_0's binary_logloss: 0.0750613\n",
      "[52]\tvalid_0's binary_logloss: 0.0751884\n",
      "[53]\tvalid_0's binary_logloss: 0.0751876\n",
      "[54]\tvalid_0's binary_logloss: 0.0750948\n",
      "[55]\tvalid_0's binary_logloss: 0.07539\n",
      "[56]\tvalid_0's binary_logloss: 0.0749291\n",
      "[57]\tvalid_0's binary_logloss: 0.0757528\n",
      "[58]\tvalid_0's binary_logloss: 0.0751793\n",
      "[59]\tvalid_0's binary_logloss: 0.0755619\n",
      "[60]\tvalid_0's binary_logloss: 0.0764539\n",
      "[61]\tvalid_0's binary_logloss: 0.0750891\n",
      "[62]\tvalid_0's binary_logloss: 0.0759191\n",
      "[63]\tvalid_0's binary_logloss: 0.0751953\n",
      "[64]\tvalid_0's binary_logloss: 0.0775729\n",
      "[65]\tvalid_0's binary_logloss: 0.0753673\n",
      "[66]\tvalid_0's binary_logloss: 0.0777084\n",
      "[67]\tvalid_0's binary_logloss: 0.075761\n",
      "[68]\tvalid_0's binary_logloss: 0.0778996\n",
      "[69]\tvalid_0's binary_logloss: 0.0760591\n",
      "[70]\tvalid_0's binary_logloss: 0.0765666\n",
      "[71]\tvalid_0's binary_logloss: 0.0757967\n",
      "[72]\tvalid_0's binary_logloss: 0.07658\n",
      "[73]\tvalid_0's binary_logloss: 0.0778314\n",
      "[74]\tvalid_0's binary_logloss: 0.0762816\n",
      "[75]\tvalid_0's binary_logloss: 0.0783635\n",
      "[76]\tvalid_0's binary_logloss: 0.07678\n",
      "[77]\tvalid_0's binary_logloss: 0.0771429\n",
      "[78]\tvalid_0's binary_logloss: 0.0775311\n",
      "[79]\tvalid_0's binary_logloss: 0.0777905\n",
      "[80]\tvalid_0's binary_logloss: 0.0774153\n",
      "[81]\tvalid_0's binary_logloss: 0.0794573\n",
      "[82]\tvalid_0's binary_logloss: 0.0772851\n",
      "[83]\tvalid_0's binary_logloss: 0.0785111\n",
      "[84]\tvalid_0's binary_logloss: 0.0790557\n",
      "[85]\tvalid_0's binary_logloss: 0.0774089\n",
      "[86]\tvalid_0's binary_logloss: 0.0797432\n",
      "[87]\tvalid_0's binary_logloss: 0.0798765\n",
      "[88]\tvalid_0's binary_logloss: 0.0786091\n",
      "[89]\tvalid_0's binary_logloss: 0.0776881\n",
      "[90]\tvalid_0's binary_logloss: 0.0810512\n",
      "[91]\tvalid_0's binary_logloss: 0.077905\n",
      "[92]\tvalid_0's binary_logloss: 0.0798282\n",
      "[93]\tvalid_0's binary_logloss: 0.0810697\n",
      "[94]\tvalid_0's binary_logloss: 0.0783037\n",
      "[95]\tvalid_0's binary_logloss: 0.0794371\n",
      "[96]\tvalid_0's binary_logloss: 0.0780257\n",
      "[97]\tvalid_0's binary_logloss: 0.0829945\n",
      "[98]\tvalid_0's binary_logloss: 0.0772884\n",
      "[99]\tvalid_0's binary_logloss: 0.0804324\n",
      "[100]\tvalid_0's binary_logloss: 0.0775406\n"
     ]
    },
    {
     "data": {
      "text/plain": [
       "LGBMClassifier(num_leaves=127)"
      ]
     },
     "execution_count": 14,
     "metadata": {},
     "output_type": "execute_result"
    }
   ],
   "source": [
    "clf = lgb.LGBMClassifier(num_leaves=127)\n",
    "clf.fit(X_train, y_train, eval_set=(X_test, y_test))"
   ]
  },
  {
   "cell_type": "code",
   "execution_count": 30,
   "metadata": {},
   "outputs": [],
   "source": [
    "train_pred = clf.predict_proba(X_train)[:, 1] > 0.1\n",
    "test_pred = clf.predict_proba(X_test)[:, 1] > 0."
   ]
  },
  {
   "cell_type": "code",
   "execution_count": 31,
   "metadata": {},
   "outputs": [
    {
     "data": {
      "text/plain": [
       "array([False, False, False, ..., False, False, False])"
      ]
     },
     "execution_count": 31,
     "metadata": {},
     "output_type": "execute_result"
    }
   ],
   "source": [
    "train_pred"
   ]
  },
  {
   "cell_type": "code",
   "execution_count": 32,
   "metadata": {},
   "outputs": [
    {
     "data": {
      "text/plain": [
       "(0.8291254635253426, 0.8291254635253426)"
      ]
     },
     "execution_count": 32,
     "metadata": {},
     "output_type": "execute_result"
    }
   ],
   "source": [
    "roc_auc_score(y_train, train_pred), recall_score(y_train, train_pred, average='macro')"
   ]
  },
  {
   "cell_type": "code",
   "execution_count": 99,
   "metadata": {},
   "outputs": [
    {
     "data": {
      "text/plain": [
       "(0.976464845816201, 0.9764648458162011)"
      ]
     },
     "execution_count": 99,
     "metadata": {},
     "output_type": "execute_result"
    }
   ],
   "source": [
    "roc_auc_score(y_test, test_pred), recall_score(y_test, test_pred, average='macro')"
   ]
  },
  {
   "cell_type": "code",
   "execution_count": 100,
   "metadata": {},
   "outputs": [
    {
     "data": {
      "text/plain": [
       "0.9783796508123221"
      ]
     },
     "execution_count": 100,
     "metadata": {},
     "output_type": "execute_result"
    }
   ],
   "source": [
    "0.9 * roc_auc_score(y_test, test_pred) + 0.1 * recall_score(y_test, test_pred)"
   ]
  },
  {
   "cell_type": "code",
   "execution_count": 101,
   "metadata": {},
   "outputs": [
    {
     "data": {
      "text/plain": [
       "(6000000, 36)"
      ]
     },
     "execution_count": 101,
     "metadata": {},
     "output_type": "execute_result"
    }
   ],
   "source": [
    "train.shape"
   ]
  },
  {
   "cell_type": "code",
   "execution_count": 19,
   "metadata": {},
   "outputs": [],
   "source": [
    "ss['label'] = (clf.predict_proba(test[X.columns])[:, 1] > 0.01).astype(int)"
   ]
  },
  {
   "cell_type": "code",
   "execution_count": 20,
   "metadata": {},
   "outputs": [],
   "source": [
    "ss.to_csv('sol.csv', index=False)"
   ]
  },
  {
   "cell_type": "code",
   "execution_count": 105,
   "metadata": {},
   "outputs": [],
   "source": [
    "probs = clf.predict_proba(X_train)[:, 1]"
   ]
  },
  {
   "cell_type": "code",
   "execution_count": 124,
   "metadata": {},
   "outputs": [
    {
     "data": {
      "text/plain": [
       "0.7471225077334205"
      ]
     },
     "execution_count": 124,
     "metadata": {},
     "output_type": "execute_result"
    }
   ],
   "source": [
    "np.quantile(probs, q=0.99)"
   ]
  },
  {
   "cell_type": "code",
   "execution_count": 120,
   "metadata": {},
   "outputs": [],
   "source": [
    "probs_test = clf.predict_proba(test[X.columns])[:, 1]"
   ]
  },
  {
   "cell_type": "code",
   "execution_count": 123,
   "metadata": {},
   "outputs": [
    {
     "data": {
      "text/plain": [
       "0.7476322965156206"
      ]
     },
     "execution_count": 123,
     "metadata": {},
     "output_type": "execute_result"
    }
   ],
   "source": [
    "np.quantile(probs_test, q=0.99)"
   ]
  },
  {
   "cell_type": "code",
   "execution_count": 22,
   "metadata": {},
   "outputs": [],
   "source": [
    "import seaborn as sns"
   ]
  },
  {
   "cell_type": "code",
   "execution_count": 23,
   "metadata": {},
   "outputs": [
    {
     "data": {
      "text/plain": [
       "<AxesSubplot:>"
      ]
     },
     "execution_count": 23,
     "metadata": {},
     "output_type": "execute_result"
    },
    {
     "data": {
      "image/png": "[encoded data removed]",
      "text/plain": [
       "<Figure size 720x1440 with 1 Axes>"
      ]
     },
     "metadata": {
      "needs_background": "light"
     },
     "output_type": "display_data"
    }
   ],
   "source": [
    "plt.figure(figsize=(10, 20))\n",
    "sns.barplot(y=X_train.columns, x=clf.feature_importances_)"
   ]
  },
  {
   "cell_type": "code",
   "execution_count": 14,
   "metadata": {},
   "outputs": [],
   "source": [
    "means = y_train.groupby(X_train['oper_type + oper_attr_enc']).agg(['mean', 'count']).sort_values('mean')"
   ]
  },
  {
   "cell_type": "code",
   "execution_count": 18,
   "metadata": {},
   "outputs": [
    {
     "data": {
      "text/html": [
       "<div>\n",
       "<style scoped>\n",
       "    .dataframe tbody tr th:only-of-type {\n",
       "        vertical-align: middle;\n",
       "    }\n",
       "\n",
       "    .dataframe tbody tr th {\n",
       "        vertical-align: top;\n",
       "    }\n",
       "\n",
       "    .dataframe thead th {\n",
       "        text-align: right;\n",
       "    }\n",
       "</style>\n",
       "<table border=\"1\" class=\"dataframe\">\n",
       "  <thead>\n",
       "    <tr style=\"text-align: right;\">\n",
       "      <th></th>\n",
       "      <th>mean</th>\n",
       "      <th>count</th>\n",
       "    </tr>\n",
       "    <tr>\n",
       "      <th>oper_type + oper_attr_enc</th>\n",
       "      <th></th>\n",
       "      <th></th>\n",
       "    </tr>\n",
       "  </thead>\n",
       "  <tbody>\n",
       "    <tr>\n",
       "      <th>26</th>\n",
       "      <td>0.000116</td>\n",
       "      <td>111605</td>\n",
       "    </tr>\n",
       "    <tr>\n",
       "      <th>17</th>\n",
       "      <td>0.000516</td>\n",
       "      <td>554549</td>\n",
       "    </tr>\n",
       "    <tr>\n",
       "      <th>27</th>\n",
       "      <td>0.003871</td>\n",
       "      <td>107219</td>\n",
       "    </tr>\n",
       "    <tr>\n",
       "      <th>83</th>\n",
       "      <td>0.058124</td>\n",
       "      <td>757</td>\n",
       "    </tr>\n",
       "    <tr>\n",
       "      <th>84</th>\n",
       "      <td>0.083333</td>\n",
       "      <td>12</td>\n",
       "    </tr>\n",
       "    <tr>\n",
       "      <th>4</th>\n",
       "      <td>0.360019</td>\n",
       "      <td>246720</td>\n",
       "    </tr>\n",
       "    <tr>\n",
       "      <th>76</th>\n",
       "      <td>0.375000</td>\n",
       "      <td>16</td>\n",
       "    </tr>\n",
       "    <tr>\n",
       "      <th>71</th>\n",
       "      <td>0.403634</td>\n",
       "      <td>94717</td>\n",
       "    </tr>\n",
       "    <tr>\n",
       "      <th>75</th>\n",
       "      <td>0.448491</td>\n",
       "      <td>18453</td>\n",
       "    </tr>\n",
       "    <tr>\n",
       "      <th>100</th>\n",
       "      <td>0.785953</td>\n",
       "      <td>299</td>\n",
       "    </tr>\n",
       "    <tr>\n",
       "      <th>74</th>\n",
       "      <td>1.000000</td>\n",
       "      <td>1</td>\n",
       "    </tr>\n",
       "    <tr>\n",
       "      <th>78</th>\n",
       "      <td>1.000000</td>\n",
       "      <td>1</td>\n",
       "    </tr>\n",
       "  </tbody>\n",
       "</table>\n",
       "</div>"
      ],
      "text/plain": [
       "                               mean   count\n",
       "oper_type + oper_attr_enc                  \n",
       "26                         0.000116  111605\n",
       "17                         0.000516  554549\n",
       "27                         0.003871  107219\n",
       "83                         0.058124     757\n",
       "84                         0.083333      12\n",
       "4                          0.360019  246720\n",
       "76                         0.375000      16\n",
       "71                         0.403634   94717\n",
       "75                         0.448491   18453\n",
       "100                        0.785953     299\n",
       "74                         1.000000       1\n",
       "78                         1.000000       1"
      ]
     },
     "execution_count": 18,
     "metadata": {},
     "output_type": "execute_result"
    }
   ],
   "source": [
    "means.tail(12)"
   ]
  },
  {
   "cell_type": "code",
   "execution_count": 31,
   "metadata": {},
   "outputs": [],
   "source": [
    "fc = list(means.tail(6).index)"
   ]
  },
  {
   "cell_type": "code",
   "execution_count": 32,
   "metadata": {},
   "outputs": [
    {
     "data": {
      "text/plain": [
       "0.6632831077224818"
      ]
     },
     "execution_count": 32,
     "metadata": {},
     "output_type": "execute_result"
    }
   ],
   "source": [
    "roc_auc_score(y_test, X_test['oper_type + oper_attr_enc'].isin(fc).astype(int))"
   ]
  },
  {
   "cell_type": "code",
   "execution_count": 33,
   "metadata": {},
   "outputs": [
    {
     "data": {
      "text/plain": [
       "0.341010765722862"
      ]
     },
     "execution_count": 33,
     "metadata": {},
     "output_type": "execute_result"
    }
   ],
   "source": [
    "recall_score(y_test, X_test['oper_type + oper_attr_enc'].isin(fc).astype(int))"
   ]
  },
  {
   "cell_type": "code",
   "execution_count": 23,
   "metadata": {},
   "outputs": [],
   "source": [
    "ss['label'] = test['oper_type + oper_attr_enc'].isin(fc).astype(int)"
   ]
  },
  {
   "cell_type": "code",
   "execution_count": 24,
   "metadata": {},
   "outputs": [],
   "source": [
    "ss.to_csv('sol.csv', index=False)"
   ]
  },
  {
   "cell_type": "code",
   "execution_count": 41,
   "metadata": {},
   "outputs": [
    {
     "data": {
      "text/plain": [
       "is_wrong_sndr_name       0.002583\n",
       "is_wrong_rcpn_name       0.259796\n",
       "is_wrong_phone_number    0.170745\n",
       "is_wrong_address         0.001236\n",
       "dtype: float64"
      ]
     },
     "execution_count": 41,
     "metadata": {},
     "output_type": "execute_result"
    }
   ],
   "source": [
    "test[[x for x in test.columns if 'is_wrong' in x]].mean()"
   ]
  },
  {
   "cell_type": "code",
   "execution_count": 42,
   "metadata": {},
   "outputs": [
    {
     "data": {
      "text/plain": [
       "is_wrong_sndr_name       0.002564\n",
       "is_wrong_rcpn_name       0.259774\n",
       "is_wrong_phone_number    0.170971\n",
       "is_wrong_address         0.001263\n",
       "dtype: float64"
      ]
     },
     "execution_count": 42,
     "metadata": {},
     "output_type": "execute_result"
    }
   ],
   "source": [
    "train[[x for x in test.columns if 'is_wrong' in x]].mean()"
   ]
  },
  {
   "cell_type": "code",
   "execution_count": 48,
   "metadata": {},
   "outputs": [
    {
     "data": {
      "text/html": [
       "<div>\n",
       "<style scoped>\n",
       "    .dataframe tbody tr th:only-of-type {\n",
       "        vertical-align: middle;\n",
       "    }\n",
       "\n",
       "    .dataframe tbody tr th {\n",
       "        vertical-align: top;\n",
       "    }\n",
       "\n",
       "    .dataframe thead th {\n",
       "        text-align: right;\n",
       "    }\n",
       "</style>\n",
       "<table border=\"1\" class=\"dataframe\">\n",
       "  <thead>\n",
       "    <tr style=\"text-align: right;\">\n",
       "      <th></th>\n",
       "      <th>mean</th>\n",
       "      <th>count</th>\n",
       "    </tr>\n",
       "    <tr>\n",
       "      <th>index_oper</th>\n",
       "      <th></th>\n",
       "      <th></th>\n",
       "    </tr>\n",
       "  </thead>\n",
       "  <tbody>\n",
       "    <tr>\n",
       "      <th>404212.0</th>\n",
       "      <td>1.000000</td>\n",
       "      <td>1</td>\n",
       "    </tr>\n",
       "    <tr>\n",
       "      <th>346422.0</th>\n",
       "      <td>0.000000</td>\n",
       "      <td>1</td>\n",
       "    </tr>\n",
       "    <tr>\n",
       "      <th>397704.0</th>\n",
       "      <td>0.000000</td>\n",
       "      <td>1</td>\n",
       "    </tr>\n",
       "    <tr>\n",
       "      <th>442201.0</th>\n",
       "      <td>0.000000</td>\n",
       "      <td>1</td>\n",
       "    </tr>\n",
       "    <tr>\n",
       "      <th>626195.0</th>\n",
       "      <td>0.000000</td>\n",
       "      <td>1</td>\n",
       "    </tr>\n",
       "    <tr>\n",
       "      <th>...</th>\n",
       "      <td>...</td>\n",
       "      <td>...</td>\n",
       "    </tr>\n",
       "    <tr>\n",
       "      <th>102968.0</th>\n",
       "      <td>0.000000</td>\n",
       "      <td>98751</td>\n",
       "    </tr>\n",
       "    <tr>\n",
       "      <th>102998.0</th>\n",
       "      <td>0.000000</td>\n",
       "      <td>107961</td>\n",
       "    </tr>\n",
       "    <tr>\n",
       "      <th>620984.0</th>\n",
       "      <td>0.000337</td>\n",
       "      <td>136389</td>\n",
       "    </tr>\n",
       "    <tr>\n",
       "      <th>102971.0</th>\n",
       "      <td>0.000001</td>\n",
       "      <td>831679</td>\n",
       "    </tr>\n",
       "    <tr>\n",
       "      <th>102976.0</th>\n",
       "      <td>0.067847</td>\n",
       "      <td>1611563</td>\n",
       "    </tr>\n",
       "  </tbody>\n",
       "</table>\n",
       "<p>20686 rows × 2 columns</p>\n",
       "</div>"
      ],
      "text/plain": [
       "                mean    count\n",
       "index_oper                   \n",
       "404212.0    1.000000        1\n",
       "346422.0    0.000000        1\n",
       "397704.0    0.000000        1\n",
       "442201.0    0.000000        1\n",
       "626195.0    0.000000        1\n",
       "...              ...      ...\n",
       "102968.0    0.000000    98751\n",
       "102998.0    0.000000   107961\n",
       "620984.0    0.000337   136389\n",
       "102971.0    0.000001   831679\n",
       "102976.0    0.067847  1611563\n",
       "\n",
       "[20686 rows x 2 columns]"
      ]
     },
     "execution_count": 48,
     "metadata": {},
     "output_type": "execute_result"
    }
   ],
   "source": [
    "train.groupby('index_oper')['label'].agg(['mean', 'count']).sort_values('count')"
   ]
  },
  {
   "cell_type": "code",
   "execution_count": 45,
   "metadata": {},
   "outputs": [
    {
     "data": {
      "text/plain": [
       "102976.0    1073718\n",
       "102971.0     554139\n",
       "620984.0      91141\n",
       "102998.0      71389\n",
       "102968.0      65752\n",
       "             ...   \n",
       "352842.0          1\n",
       "619550.0          1\n",
       "155004.0          1\n",
       "442264.0          1\n",
       "442457.0          1\n",
       "Name: index_oper, Length: 19695, dtype: int64"
      ]
     },
     "execution_count": 45,
     "metadata": {},
     "output_type": "execute_result"
    }
   ],
   "source": [
    "test['index_oper'].value_counts()"
   ]
  },
  {
   "cell_type": "code",
   "execution_count": 28,
   "metadata": {},
   "outputs": [
    {
     "data": {
      "text/plain": [
       "N    3996480\n",
       "Y       1820\n",
       "0       1700\n",
       "Name: is_privatecategory, dtype: int64"
      ]
     },
     "execution_count": 28,
     "metadata": {},
     "output_type": "execute_result"
    }
   ],
   "source": [
    "test['is_privatecategory'].value_counts()"
   ]
  },
  {
   "cell_type": "code",
   "execution_count": 30,
   "metadata": {},
   "outputs": [
    {
     "data": {
      "text/plain": [
       "N    5994524\n",
       "Y       2806\n",
       "0       2670\n",
       "Name: is_privatecategory, dtype: int64"
      ]
     },
     "execution_count": 30,
     "metadata": {},
     "output_type": "execute_result"
    }
   ],
   "source": [
    "train['is_privatecategory'].value_counts()"
   ]
  },
  {
   "cell_type": "code",
   "execution_count": 214,
   "metadata": {},
   "outputs": [
    {
     "data": {
      "text/plain": [
       "[True, True, True, True, True, True, True, True, False, False]"
      ]
     },
     "execution_count": 214,
     "metadata": {},
     "output_type": "execute_result"
    }
   ],
   "source": [
    "[x in test['oper_type + oper_attr_enc'].values for x in fc]"
   ]
  },
  {
   "cell_type": "code",
   "execution_count": 204,
   "metadata": {},
   "outputs": [
    {
     "data": {
      "text/plain": [
       "class\n",
       "0.0    0.021629\n",
       "1.0    0.009806\n",
       "2.0    0.048413\n",
       "3.0    0.091738\n",
       "4.0    0.102679\n",
       "5.0    0.125459\n",
       "Name: label, dtype: float64"
      ]
     },
     "execution_count": 204,
     "metadata": {},
     "output_type": "execute_result"
    }
   ],
   "source": [
    "train.groupby('class')['label'].mean()"
   ]
  },
  {
   "cell_type": "code",
   "execution_count": 221,
   "metadata": {},
   "outputs": [
    {
     "data": {
      "text/plain": [
       "0.0751235"
      ]
     },
     "execution_count": 221,
     "metadata": {},
     "output_type": "execute_result"
    }
   ],
   "source": [
    "test['oper_type + oper_attr_enc'].isin(fc).mean()"
   ]
  },
  {
   "cell_type": "code",
   "execution_count": 222,
   "metadata": {},
   "outputs": [
    {
     "data": {
      "text/plain": [
       "0.07526383333333334"
      ]
     },
     "execution_count": 222,
     "metadata": {},
     "output_type": "execute_result"
    }
   ],
   "source": [
    "train['oper_type + oper_attr_enc'].isin(fc).mean()"
   ]
  },
  {
   "cell_type": "code",
   "execution_count": 169,
   "metadata": {},
   "outputs": [
    {
     "data": {
      "text/plain": [
       "7503.0    2660834\n",
       "7506.0    1162848\n",
       "7504.0     174225\n",
       "0.0          2093\n",
       "Name: priority, dtype: int64"
      ]
     },
     "execution_count": 169,
     "metadata": {},
     "output_type": "execute_result"
    }
   ],
   "source": [
    "test['priority'].value_counts() / test.shape[0]"
   ]
  },
  {
   "cell_type": "code",
   "execution_count": 170,
   "metadata": {},
   "outputs": [
    {
     "data": {
      "text/html": [
       "<div>\n",
       "<style scoped>\n",
       "    .dataframe tbody tr th:only-of-type {\n",
       "        vertical-align: middle;\n",
       "    }\n",
       "\n",
       "    .dataframe tbody tr th {\n",
       "        vertical-align: top;\n",
       "    }\n",
       "\n",
       "    .dataframe thead th {\n",
       "        text-align: right;\n",
       "    }\n",
       "</style>\n",
       "<table border=\"1\" class=\"dataframe\">\n",
       "  <thead>\n",
       "    <tr style=\"text-align: right;\">\n",
       "      <th></th>\n",
       "      <th>id</th>\n",
       "      <th>oper_type + oper_attr</th>\n",
       "      <th>index_oper</th>\n",
       "      <th>type</th>\n",
       "      <th>priority</th>\n",
       "      <th>is_privatecategory</th>\n",
       "      <th>class</th>\n",
       "      <th>is_in_yandex</th>\n",
       "      <th>is_return</th>\n",
       "      <th>weight</th>\n",
       "      <th>...</th>\n",
       "      <th>is_wrong_phone_number</th>\n",
       "      <th>is_wrong_address</th>\n",
       "      <th>label</th>\n",
       "      <th>oper_type + oper_attr_enc</th>\n",
       "      <th>index_oper_enc</th>\n",
       "      <th>type_enc</th>\n",
       "      <th>is_privatecategory_enc</th>\n",
       "      <th>is_in_yandex_enc</th>\n",
       "      <th>is_return_enc</th>\n",
       "      <th>name_mfi_enc</th>\n",
       "    </tr>\n",
       "  </thead>\n",
       "  <tbody>\n",
       "    <tr>\n",
       "      <th>0</th>\n",
       "      <td>6818780</td>\n",
       "      <td>1043_-1</td>\n",
       "      <td>628629.0</td>\n",
       "      <td>Участок</td>\n",
       "      <td>7503.0</td>\n",
       "      <td>N</td>\n",
       "      <td>0.0</td>\n",
       "      <td>Y</td>\n",
       "      <td>N</td>\n",
       "      <td>87.0</td>\n",
       "      <td>...</td>\n",
       "      <td>0</td>\n",
       "      <td>0</td>\n",
       "      <td>0</td>\n",
       "      <td>26</td>\n",
       "      <td>16827</td>\n",
       "      <td>18</td>\n",
       "      <td>1</td>\n",
       "      <td>2</td>\n",
       "      <td>0</td>\n",
       "      <td>48004</td>\n",
       "    </tr>\n",
       "    <tr>\n",
       "      <th>1</th>\n",
       "      <td>9907176</td>\n",
       "      <td>1023_-1</td>\n",
       "      <td>102976.0</td>\n",
       "      <td>ММПО</td>\n",
       "      <td>7503.0</td>\n",
       "      <td>N</td>\n",
       "      <td>0.0</td>\n",
       "      <td>N</td>\n",
       "      <td>N</td>\n",
       "      <td>107.0</td>\n",
       "      <td>...</td>\n",
       "      <td>0</td>\n",
       "      <td>0</td>\n",
       "      <td>0</td>\n",
       "      <td>20</td>\n",
       "      <td>19</td>\n",
       "      <td>4</td>\n",
       "      <td>1</td>\n",
       "      <td>1</td>\n",
       "      <td>0</td>\n",
       "      <td>200361</td>\n",
       "    </tr>\n",
       "    <tr>\n",
       "      <th>2</th>\n",
       "      <td>3304275</td>\n",
       "      <td>1018_-1</td>\n",
       "      <td>620962.0</td>\n",
       "      <td>Цех</td>\n",
       "      <td>7503.0</td>\n",
       "      <td>N</td>\n",
       "      <td>0.0</td>\n",
       "      <td>Y</td>\n",
       "      <td>N</td>\n",
       "      <td>50.0</td>\n",
       "      <td>...</td>\n",
       "      <td>0</td>\n",
       "      <td>0</td>\n",
       "      <td>0</td>\n",
       "      <td>15</td>\n",
       "      <td>15957</td>\n",
       "      <td>19</td>\n",
       "      <td>1</td>\n",
       "      <td>2</td>\n",
       "      <td>0</td>\n",
       "      <td>95090</td>\n",
       "    </tr>\n",
       "    <tr>\n",
       "      <th>3</th>\n",
       "      <td>9020937</td>\n",
       "      <td>1019_-1</td>\n",
       "      <td>344964.0</td>\n",
       "      <td>Цех</td>\n",
       "      <td>7503.0</td>\n",
       "      <td>N</td>\n",
       "      <td>0.0</td>\n",
       "      <td>Y</td>\n",
       "      <td>N</td>\n",
       "      <td>416.0</td>\n",
       "      <td>...</td>\n",
       "      <td>0</td>\n",
       "      <td>0</td>\n",
       "      <td>0</td>\n",
       "      <td>16</td>\n",
       "      <td>6038</td>\n",
       "      <td>19</td>\n",
       "      <td>1</td>\n",
       "      <td>2</td>\n",
       "      <td>0</td>\n",
       "      <td>82033</td>\n",
       "    </tr>\n",
       "    <tr>\n",
       "      <th>4</th>\n",
       "      <td>3082311</td>\n",
       "      <td>1020_-1</td>\n",
       "      <td>629819.0</td>\n",
       "      <td>Участок</td>\n",
       "      <td>7503.0</td>\n",
       "      <td>N</td>\n",
       "      <td>0.0</td>\n",
       "      <td>Y</td>\n",
       "      <td>N</td>\n",
       "      <td>795.0</td>\n",
       "      <td>...</td>\n",
       "      <td>0</td>\n",
       "      <td>0</td>\n",
       "      <td>0</td>\n",
       "      <td>17</td>\n",
       "      <td>16899</td>\n",
       "      <td>18</td>\n",
       "      <td>1</td>\n",
       "      <td>2</td>\n",
       "      <td>0</td>\n",
       "      <td>145548</td>\n",
       "    </tr>\n",
       "    <tr>\n",
       "      <th>...</th>\n",
       "      <td>...</td>\n",
       "      <td>...</td>\n",
       "      <td>...</td>\n",
       "      <td>...</td>\n",
       "      <td>...</td>\n",
       "      <td>...</td>\n",
       "      <td>...</td>\n",
       "      <td>...</td>\n",
       "      <td>...</td>\n",
       "      <td>...</td>\n",
       "      <td>...</td>\n",
       "      <td>...</td>\n",
       "      <td>...</td>\n",
       "      <td>...</td>\n",
       "      <td>...</td>\n",
       "      <td>...</td>\n",
       "      <td>...</td>\n",
       "      <td>...</td>\n",
       "      <td>...</td>\n",
       "      <td>...</td>\n",
       "      <td>...</td>\n",
       "    </tr>\n",
       "    <tr>\n",
       "      <th>5999995</th>\n",
       "      <td>9958614</td>\n",
       "      <td>1022_-1</td>\n",
       "      <td>102976.0</td>\n",
       "      <td>ММПО</td>\n",
       "      <td>7503.0</td>\n",
       "      <td>N</td>\n",
       "      <td>0.0</td>\n",
       "      <td>N</td>\n",
       "      <td>N</td>\n",
       "      <td>25.0</td>\n",
       "      <td>...</td>\n",
       "      <td>1</td>\n",
       "      <td>0</td>\n",
       "      <td>0</td>\n",
       "      <td>19</td>\n",
       "      <td>19</td>\n",
       "      <td>4</td>\n",
       "      <td>1</td>\n",
       "      <td>1</td>\n",
       "      <td>0</td>\n",
       "      <td>65306</td>\n",
       "    </tr>\n",
       "    <tr>\n",
       "      <th>5999996</th>\n",
       "      <td>2234489</td>\n",
       "      <td>1022_-1</td>\n",
       "      <td>241963.0</td>\n",
       "      <td>Цех</td>\n",
       "      <td>7503.0</td>\n",
       "      <td>N</td>\n",
       "      <td>0.0</td>\n",
       "      <td>Y</td>\n",
       "      <td>N</td>\n",
       "      <td>83.0</td>\n",
       "      <td>...</td>\n",
       "      <td>0</td>\n",
       "      <td>0</td>\n",
       "      <td>0</td>\n",
       "      <td>19</td>\n",
       "      <td>4408</td>\n",
       "      <td>19</td>\n",
       "      <td>1</td>\n",
       "      <td>2</td>\n",
       "      <td>0</td>\n",
       "      <td>37800</td>\n",
       "    </tr>\n",
       "    <tr>\n",
       "      <th>5999997</th>\n",
       "      <td>4304572</td>\n",
       "      <td>1041_-1</td>\n",
       "      <td>102971.0</td>\n",
       "      <td>Цех</td>\n",
       "      <td>7506.0</td>\n",
       "      <td>N</td>\n",
       "      <td>0.0</td>\n",
       "      <td>N</td>\n",
       "      <td>N</td>\n",
       "      <td>1700.0</td>\n",
       "      <td>...</td>\n",
       "      <td>0</td>\n",
       "      <td>0</td>\n",
       "      <td>0</td>\n",
       "      <td>24</td>\n",
       "      <td>16</td>\n",
       "      <td>19</td>\n",
       "      <td>1</td>\n",
       "      <td>1</td>\n",
       "      <td>0</td>\n",
       "      <td>38382</td>\n",
       "    </tr>\n",
       "    <tr>\n",
       "      <th>5999998</th>\n",
       "      <td>6550634</td>\n",
       "      <td>1018_-1</td>\n",
       "      <td>102152.0</td>\n",
       "      <td>Цех</td>\n",
       "      <td>7506.0</td>\n",
       "      <td>N</td>\n",
       "      <td>0.0</td>\n",
       "      <td>N</td>\n",
       "      <td>N</td>\n",
       "      <td>269.0</td>\n",
       "      <td>...</td>\n",
       "      <td>0</td>\n",
       "      <td>0</td>\n",
       "      <td>0</td>\n",
       "      <td>15</td>\n",
       "      <td>5</td>\n",
       "      <td>19</td>\n",
       "      <td>1</td>\n",
       "      <td>1</td>\n",
       "      <td>0</td>\n",
       "      <td>104</td>\n",
       "    </tr>\n",
       "    <tr>\n",
       "      <th>5999999</th>\n",
       "      <td>6423388</td>\n",
       "      <td>8_2</td>\n",
       "      <td>140531.0</td>\n",
       "      <td>СОПС</td>\n",
       "      <td>7503.0</td>\n",
       "      <td>N</td>\n",
       "      <td>4.0</td>\n",
       "      <td>Y</td>\n",
       "      <td>N</td>\n",
       "      <td>41.0</td>\n",
       "      <td>...</td>\n",
       "      <td>0</td>\n",
       "      <td>0</td>\n",
       "      <td>0</td>\n",
       "      <td>101</td>\n",
       "      <td>671</td>\n",
       "      <td>13</td>\n",
       "      <td>1</td>\n",
       "      <td>2</td>\n",
       "      <td>0</td>\n",
       "      <td>64444</td>\n",
       "    </tr>\n",
       "  </tbody>\n",
       "</table>\n",
       "<p>6000000 rows × 36 columns</p>\n",
       "</div>"
      ],
      "text/plain": [
       "              id oper_type + oper_attr  index_oper     type  priority  \\\n",
       "0        6818780               1043_-1    628629.0  Участок    7503.0   \n",
       "1        9907176               1023_-1    102976.0     ММПО    7503.0   \n",
       "2        3304275               1018_-1    620962.0      Цех    7503.0   \n",
       "3        9020937               1019_-1    344964.0      Цех    7503.0   \n",
       "4        3082311               1020_-1    629819.0  Участок    7503.0   \n",
       "...          ...                   ...         ...      ...       ...   \n",
       "5999995  9958614               1022_-1    102976.0     ММПО    7503.0   \n",
       "5999996  2234489               1022_-1    241963.0      Цех    7503.0   \n",
       "5999997  4304572               1041_-1    102971.0      Цех    7506.0   \n",
       "5999998  6550634               1018_-1    102152.0      Цех    7506.0   \n",
       "5999999  6423388                   8_2    140531.0     СОПС    7503.0   \n",
       "\n",
       "        is_privatecategory  class is_in_yandex is_return  weight  ...  \\\n",
       "0                        N    0.0            Y         N    87.0  ...   \n",
       "1                        N    0.0            N         N   107.0  ...   \n",
       "2                        N    0.0            Y         N    50.0  ...   \n",
       "3                        N    0.0            Y         N   416.0  ...   \n",
       "4                        N    0.0            Y         N   795.0  ...   \n",
       "...                    ...    ...          ...       ...     ...  ...   \n",
       "5999995                  N    0.0            N         N    25.0  ...   \n",
       "5999996                  N    0.0            Y         N    83.0  ...   \n",
       "5999997                  N    0.0            N         N  1700.0  ...   \n",
       "5999998                  N    0.0            N         N   269.0  ...   \n",
       "5999999                  N    4.0            Y         N    41.0  ...   \n",
       "\n",
       "         is_wrong_phone_number  is_wrong_address  label  \\\n",
       "0                            0                 0      0   \n",
       "1                            0                 0      0   \n",
       "2                            0                 0      0   \n",
       "3                            0                 0      0   \n",
       "4                            0                 0      0   \n",
       "...                        ...               ...    ...   \n",
       "5999995                      1                 0      0   \n",
       "5999996                      0                 0      0   \n",
       "5999997                      0                 0      0   \n",
       "5999998                      0                 0      0   \n",
       "5999999                      0                 0      0   \n",
       "\n",
       "         oper_type + oper_attr_enc  index_oper_enc  type_enc  \\\n",
       "0                               26           16827        18   \n",
       "1                               20              19         4   \n",
       "2                               15           15957        19   \n",
       "3                               16            6038        19   \n",
       "4                               17           16899        18   \n",
       "...                            ...             ...       ...   \n",
       "5999995                         19              19         4   \n",
       "5999996                         19            4408        19   \n",
       "5999997                         24              16        19   \n",
       "5999998                         15               5        19   \n",
       "5999999                        101             671        13   \n",
       "\n",
       "        is_privatecategory_enc  is_in_yandex_enc  is_return_enc  name_mfi_enc  \n",
       "0                            1                 2              0         48004  \n",
       "1                            1                 1              0        200361  \n",
       "2                            1                 2              0         95090  \n",
       "3                            1                 2              0         82033  \n",
       "4                            1                 2              0        145548  \n",
       "...                        ...               ...            ...           ...  \n",
       "5999995                      1                 1              0         65306  \n",
       "5999996                      1                 2              0         37800  \n",
       "5999997                      1                 1              0         38382  \n",
       "5999998                      1                 1              0           104  \n",
       "5999999                      1                 2              0         64444  \n",
       "\n",
       "[6000000 rows x 36 columns]"
      ]
     },
     "execution_count": 170,
     "metadata": {},
     "output_type": "execute_result"
    }
   ],
   "source": [
    "train.groupby(test['pr'])"
   ]
  },
  {
   "cell_type": "code",
   "execution_count": 164,
   "metadata": {},
   "outputs": [
    {
     "data": {
      "text/plain": [
       "0.9999995"
      ]
     },
     "execution_count": 164,
     "metadata": {},
     "output_type": "execute_result"
    }
   ],
   "source": [
    "test['oper_type + oper_attr_enc'].isin(train['oper_type + oper_attr_enc'].unique()).astype(int).mean()"
   ]
  },
  {
   "cell_type": "code",
   "execution_count": 154,
   "metadata": {},
   "outputs": [
    {
     "data": {
      "text/html": [
       "<div>\n",
       "<style scoped>\n",
       "    .dataframe tbody tr th:only-of-type {\n",
       "        vertical-align: middle;\n",
       "    }\n",
       "\n",
       "    .dataframe tbody tr th {\n",
       "        vertical-align: top;\n",
       "    }\n",
       "\n",
       "    .dataframe thead th {\n",
       "        text-align: right;\n",
       "    }\n",
       "</style>\n",
       "<table border=\"1\" class=\"dataframe\">\n",
       "  <thead>\n",
       "    <tr style=\"text-align: right;\">\n",
       "      <th></th>\n",
       "      <th>id</th>\n",
       "      <th>oper_type + oper_attr</th>\n",
       "      <th>index_oper</th>\n",
       "      <th>type</th>\n",
       "      <th>priority</th>\n",
       "      <th>is_privatecategory</th>\n",
       "      <th>class</th>\n",
       "      <th>is_in_yandex</th>\n",
       "      <th>is_return</th>\n",
       "      <th>weight</th>\n",
       "      <th>...</th>\n",
       "      <th>is_wrong_rcpn_name</th>\n",
       "      <th>is_wrong_phone_number</th>\n",
       "      <th>is_wrong_address</th>\n",
       "      <th>oper_type + oper_attr_enc</th>\n",
       "      <th>index_oper_enc</th>\n",
       "      <th>type_enc</th>\n",
       "      <th>is_privatecategory_enc</th>\n",
       "      <th>is_in_yandex_enc</th>\n",
       "      <th>is_return_enc</th>\n",
       "      <th>name_mfi_enc</th>\n",
       "    </tr>\n",
       "  </thead>\n",
       "  <tbody>\n",
       "    <tr>\n",
       "      <th>0</th>\n",
       "      <td>7815282</td>\n",
       "      <td>8_13</td>\n",
       "      <td>102976.0</td>\n",
       "      <td>ММПО</td>\n",
       "      <td>7503.0</td>\n",
       "      <td>N</td>\n",
       "      <td>0.0</td>\n",
       "      <td>N</td>\n",
       "      <td>N</td>\n",
       "      <td>85.0</td>\n",
       "      <td>...</td>\n",
       "      <td>0</td>\n",
       "      <td>0</td>\n",
       "      <td>0</td>\n",
       "      <td>97</td>\n",
       "      <td>19</td>\n",
       "      <td>4</td>\n",
       "      <td>1</td>\n",
       "      <td>1</td>\n",
       "      <td>0</td>\n",
       "      <td>113254</td>\n",
       "    </tr>\n",
       "    <tr>\n",
       "      <th>1</th>\n",
       "      <td>8443555</td>\n",
       "      <td>8_2</td>\n",
       "      <td>238753.0</td>\n",
       "      <td>ГОПС</td>\n",
       "      <td>7503.0</td>\n",
       "      <td>N</td>\n",
       "      <td>4.0</td>\n",
       "      <td>Y</td>\n",
       "      <td>N</td>\n",
       "      <td>21.0</td>\n",
       "      <td>...</td>\n",
       "      <td>1</td>\n",
       "      <td>1</td>\n",
       "      <td>0</td>\n",
       "      <td>101</td>\n",
       "      <td>4353</td>\n",
       "      <td>3</td>\n",
       "      <td>1</td>\n",
       "      <td>2</td>\n",
       "      <td>0</td>\n",
       "      <td>124848</td>\n",
       "    </tr>\n",
       "    <tr>\n",
       "      <th>2</th>\n",
       "      <td>6352559</td>\n",
       "      <td>1020_-1</td>\n",
       "      <td>618254.0</td>\n",
       "      <td>ГОПС</td>\n",
       "      <td>7503.0</td>\n",
       "      <td>N</td>\n",
       "      <td>4.0</td>\n",
       "      <td>Y</td>\n",
       "      <td>N</td>\n",
       "      <td>388.0</td>\n",
       "      <td>...</td>\n",
       "      <td>0</td>\n",
       "      <td>0</td>\n",
       "      <td>0</td>\n",
       "      <td>17</td>\n",
       "      <td>15779</td>\n",
       "      <td>3</td>\n",
       "      <td>1</td>\n",
       "      <td>2</td>\n",
       "      <td>0</td>\n",
       "      <td>64278</td>\n",
       "    </tr>\n",
       "    <tr>\n",
       "      <th>3</th>\n",
       "      <td>4921420</td>\n",
       "      <td>1016_-1</td>\n",
       "      <td>102968.0</td>\n",
       "      <td>ТИ</td>\n",
       "      <td>7503.0</td>\n",
       "      <td>N</td>\n",
       "      <td>0.0</td>\n",
       "      <td>N</td>\n",
       "      <td>N</td>\n",
       "      <td>1203.0</td>\n",
       "      <td>...</td>\n",
       "      <td>1</td>\n",
       "      <td>0</td>\n",
       "      <td>0</td>\n",
       "      <td>11</td>\n",
       "      <td>14</td>\n",
       "      <td>15</td>\n",
       "      <td>1</td>\n",
       "      <td>1</td>\n",
       "      <td>0</td>\n",
       "      <td>104</td>\n",
       "    </tr>\n",
       "    <tr>\n",
       "      <th>4</th>\n",
       "      <td>1420440</td>\n",
       "      <td>1018_-1</td>\n",
       "      <td>102971.0</td>\n",
       "      <td>Цех</td>\n",
       "      <td>7506.0</td>\n",
       "      <td>N</td>\n",
       "      <td>0.0</td>\n",
       "      <td>N</td>\n",
       "      <td>N</td>\n",
       "      <td>956.0</td>\n",
       "      <td>...</td>\n",
       "      <td>1</td>\n",
       "      <td>0</td>\n",
       "      <td>0</td>\n",
       "      <td>15</td>\n",
       "      <td>16</td>\n",
       "      <td>19</td>\n",
       "      <td>1</td>\n",
       "      <td>1</td>\n",
       "      <td>0</td>\n",
       "      <td>135636</td>\n",
       "    </tr>\n",
       "    <tr>\n",
       "      <th>...</th>\n",
       "      <td>...</td>\n",
       "      <td>...</td>\n",
       "      <td>...</td>\n",
       "      <td>...</td>\n",
       "      <td>...</td>\n",
       "      <td>...</td>\n",
       "      <td>...</td>\n",
       "      <td>...</td>\n",
       "      <td>...</td>\n",
       "      <td>...</td>\n",
       "      <td>...</td>\n",
       "      <td>...</td>\n",
       "      <td>...</td>\n",
       "      <td>...</td>\n",
       "      <td>...</td>\n",
       "      <td>...</td>\n",
       "      <td>...</td>\n",
       "      <td>...</td>\n",
       "      <td>...</td>\n",
       "      <td>...</td>\n",
       "      <td>...</td>\n",
       "    </tr>\n",
       "    <tr>\n",
       "      <th>3999995</th>\n",
       "      <td>9030800</td>\n",
       "      <td>1017_1001</td>\n",
       "      <td>655003.0</td>\n",
       "      <td>ГОПС</td>\n",
       "      <td>7503.0</td>\n",
       "      <td>N</td>\n",
       "      <td>4.0</td>\n",
       "      <td>Y</td>\n",
       "      <td>N</td>\n",
       "      <td>53.0</td>\n",
       "      <td>...</td>\n",
       "      <td>0</td>\n",
       "      <td>0</td>\n",
       "      <td>0</td>\n",
       "      <td>14</td>\n",
       "      <td>18480</td>\n",
       "      <td>3</td>\n",
       "      <td>1</td>\n",
       "      <td>2</td>\n",
       "      <td>0</td>\n",
       "      <td>205244</td>\n",
       "    </tr>\n",
       "    <tr>\n",
       "      <th>3999996</th>\n",
       "      <td>6275048</td>\n",
       "      <td>1023_-1</td>\n",
       "      <td>102976.0</td>\n",
       "      <td>ММПО</td>\n",
       "      <td>7503.0</td>\n",
       "      <td>N</td>\n",
       "      <td>0.0</td>\n",
       "      <td>N</td>\n",
       "      <td>N</td>\n",
       "      <td>286.0</td>\n",
       "      <td>...</td>\n",
       "      <td>1</td>\n",
       "      <td>0</td>\n",
       "      <td>0</td>\n",
       "      <td>20</td>\n",
       "      <td>19</td>\n",
       "      <td>4</td>\n",
       "      <td>1</td>\n",
       "      <td>1</td>\n",
       "      <td>0</td>\n",
       "      <td>104</td>\n",
       "    </tr>\n",
       "    <tr>\n",
       "      <th>3999997</th>\n",
       "      <td>4701757</td>\n",
       "      <td>1022_-1</td>\n",
       "      <td>102969.0</td>\n",
       "      <td>ТИ</td>\n",
       "      <td>7503.0</td>\n",
       "      <td>N</td>\n",
       "      <td>0.0</td>\n",
       "      <td>N</td>\n",
       "      <td>N</td>\n",
       "      <td>733.0</td>\n",
       "      <td>...</td>\n",
       "      <td>1</td>\n",
       "      <td>0</td>\n",
       "      <td>0</td>\n",
       "      <td>19</td>\n",
       "      <td>15</td>\n",
       "      <td>15</td>\n",
       "      <td>1</td>\n",
       "      <td>1</td>\n",
       "      <td>0</td>\n",
       "      <td>74769</td>\n",
       "    </tr>\n",
       "    <tr>\n",
       "      <th>3999998</th>\n",
       "      <td>611153</td>\n",
       "      <td>39_-1</td>\n",
       "      <td>104006.0</td>\n",
       "      <td>Участок</td>\n",
       "      <td>7503.0</td>\n",
       "      <td>N</td>\n",
       "      <td>0.0</td>\n",
       "      <td>N</td>\n",
       "      <td>N</td>\n",
       "      <td>265.0</td>\n",
       "      <td>...</td>\n",
       "      <td>0</td>\n",
       "      <td>0</td>\n",
       "      <td>0</td>\n",
       "      <td>79</td>\n",
       "      <td>25</td>\n",
       "      <td>18</td>\n",
       "      <td>1</td>\n",
       "      <td>1</td>\n",
       "      <td>0</td>\n",
       "      <td>38685</td>\n",
       "    </tr>\n",
       "    <tr>\n",
       "      <th>3999999</th>\n",
       "      <td>7776936</td>\n",
       "      <td>14_1</td>\n",
       "      <td>102976.0</td>\n",
       "      <td>ММПО</td>\n",
       "      <td>7503.0</td>\n",
       "      <td>N</td>\n",
       "      <td>0.0</td>\n",
       "      <td>N</td>\n",
       "      <td>N</td>\n",
       "      <td>416.0</td>\n",
       "      <td>...</td>\n",
       "      <td>0</td>\n",
       "      <td>0</td>\n",
       "      <td>0</td>\n",
       "      <td>46</td>\n",
       "      <td>19</td>\n",
       "      <td>4</td>\n",
       "      <td>1</td>\n",
       "      <td>1</td>\n",
       "      <td>0</td>\n",
       "      <td>149915</td>\n",
       "    </tr>\n",
       "  </tbody>\n",
       "</table>\n",
       "<p>4000000 rows × 35 columns</p>\n",
       "</div>"
      ],
      "text/plain": [
       "              id oper_type + oper_attr  index_oper     type  priority  \\\n",
       "0        7815282                  8_13    102976.0     ММПО    7503.0   \n",
       "1        8443555                   8_2    238753.0     ГОПС    7503.0   \n",
       "2        6352559               1020_-1    618254.0     ГОПС    7503.0   \n",
       "3        4921420               1016_-1    102968.0       ТИ    7503.0   \n",
       "4        1420440               1018_-1    102971.0      Цех    7506.0   \n",
       "...          ...                   ...         ...      ...       ...   \n",
       "3999995  9030800             1017_1001    655003.0     ГОПС    7503.0   \n",
       "3999996  6275048               1023_-1    102976.0     ММПО    7503.0   \n",
       "3999997  4701757               1022_-1    102969.0       ТИ    7503.0   \n",
       "3999998   611153                 39_-1    104006.0  Участок    7503.0   \n",
       "3999999  7776936                  14_1    102976.0     ММПО    7503.0   \n",
       "\n",
       "        is_privatecategory  class is_in_yandex is_return  weight  ...  \\\n",
       "0                        N    0.0            N         N    85.0  ...   \n",
       "1                        N    4.0            Y         N    21.0  ...   \n",
       "2                        N    4.0            Y         N   388.0  ...   \n",
       "3                        N    0.0            N         N  1203.0  ...   \n",
       "4                        N    0.0            N         N   956.0  ...   \n",
       "...                    ...    ...          ...       ...     ...  ...   \n",
       "3999995                  N    4.0            Y         N    53.0  ...   \n",
       "3999996                  N    0.0            N         N   286.0  ...   \n",
       "3999997                  N    0.0            N         N   733.0  ...   \n",
       "3999998                  N    0.0            N         N   265.0  ...   \n",
       "3999999                  N    0.0            N         N   416.0  ...   \n",
       "\n",
       "         is_wrong_rcpn_name  is_wrong_phone_number  is_wrong_address  \\\n",
       "0                         0                      0                 0   \n",
       "1                         1                      1                 0   \n",
       "2                         0                      0                 0   \n",
       "3                         1                      0                 0   \n",
       "4                         1                      0                 0   \n",
       "...                     ...                    ...               ...   \n",
       "3999995                   0                      0                 0   \n",
       "3999996                   1                      0                 0   \n",
       "3999997                   1                      0                 0   \n",
       "3999998                   0                      0                 0   \n",
       "3999999                   0                      0                 0   \n",
       "\n",
       "         oper_type + oper_attr_enc  index_oper_enc  type_enc  \\\n",
       "0                               97              19         4   \n",
       "1                              101            4353         3   \n",
       "2                               17           15779         3   \n",
       "3                               11              14        15   \n",
       "4                               15              16        19   \n",
       "...                            ...             ...       ...   \n",
       "3999995                         14           18480         3   \n",
       "3999996                         20              19         4   \n",
       "3999997                         19              15        15   \n",
       "3999998                         79              25        18   \n",
       "3999999                         46              19         4   \n",
       "\n",
       "        is_privatecategory_enc  is_in_yandex_enc  is_return_enc  name_mfi_enc  \n",
       "0                            1                 1              0        113254  \n",
       "1                            1                 2              0        124848  \n",
       "2                            1                 2              0         64278  \n",
       "3                            1                 1              0           104  \n",
       "4                            1                 1              0        135636  \n",
       "...                        ...               ...            ...           ...  \n",
       "3999995                      1                 2              0        205244  \n",
       "3999996                      1                 1              0           104  \n",
       "3999997                      1                 1              0         74769  \n",
       "3999998                      1                 1              0         38685  \n",
       "3999999                      1                 1              0        149915  \n",
       "\n",
       "[4000000 rows x 35 columns]"
      ]
     },
     "execution_count": 154,
     "metadata": {},
     "output_type": "execute_result"
    }
   ],
   "source": [
    "test['oper_type + oper_attr_enc'].isin()"
   ]
  },
  {
   "cell_type": "code",
   "execution_count": null,
   "metadata": {},
   "outputs": [],
   "source": [
    "preds"
   ]
  },
  {
   "cell_type": "code",
   "execution_count": 32,
   "metadata": {},
   "outputs": [
    {
     "data": {
      "text/html": [
       "<div>\n",
       "<style scoped>\n",
       "    .dataframe tbody tr th:only-of-type {\n",
       "        vertical-align: middle;\n",
       "    }\n",
       "\n",
       "    .dataframe tbody tr th {\n",
       "        vertical-align: top;\n",
       "    }\n",
       "\n",
       "    .dataframe thead th {\n",
       "        text-align: right;\n",
       "    }\n",
       "</style>\n",
       "<table border=\"1\" class=\"dataframe\">\n",
       "  <thead>\n",
       "    <tr style=\"text-align: right;\">\n",
       "      <th></th>\n",
       "      <th>mean</th>\n",
       "      <th>count</th>\n",
       "    </tr>\n",
       "    <tr>\n",
       "      <th>oper_type + oper_attr</th>\n",
       "      <th></th>\n",
       "      <th></th>\n",
       "    </tr>\n",
       "  </thead>\n",
       "  <tbody>\n",
       "    <tr>\n",
       "      <th>9</th>\n",
       "      <td>0.000000</td>\n",
       "      <td>1655</td>\n",
       "    </tr>\n",
       "    <tr>\n",
       "      <th>3</th>\n",
       "      <td>0.000000</td>\n",
       "      <td>117230</td>\n",
       "    </tr>\n",
       "    <tr>\n",
       "      <th>22</th>\n",
       "      <td>0.000000</td>\n",
       "      <td>5</td>\n",
       "    </tr>\n",
       "    <tr>\n",
       "      <th>21</th>\n",
       "      <td>0.000000</td>\n",
       "      <td>666</td>\n",
       "    </tr>\n",
       "    <tr>\n",
       "      <th>20</th>\n",
       "      <td>0.000000</td>\n",
       "      <td>2222</td>\n",
       "    </tr>\n",
       "    <tr>\n",
       "      <th>19</th>\n",
       "      <td>0.000000</td>\n",
       "      <td>4</td>\n",
       "    </tr>\n",
       "    <tr>\n",
       "      <th>18</th>\n",
       "      <td>0.000000</td>\n",
       "      <td>1073</td>\n",
       "    </tr>\n",
       "    <tr>\n",
       "      <th>17</th>\n",
       "      <td>0.000000</td>\n",
       "      <td>4</td>\n",
       "    </tr>\n",
       "    <tr>\n",
       "      <th>4</th>\n",
       "      <td>0.000000</td>\n",
       "      <td>3347</td>\n",
       "    </tr>\n",
       "    <tr>\n",
       "      <th>16</th>\n",
       "      <td>0.000000</td>\n",
       "      <td>107</td>\n",
       "    </tr>\n",
       "    <tr>\n",
       "      <th>13</th>\n",
       "      <td>0.000000</td>\n",
       "      <td>69600</td>\n",
       "    </tr>\n",
       "    <tr>\n",
       "      <th>51</th>\n",
       "      <td>0.000000</td>\n",
       "      <td>1</td>\n",
       "    </tr>\n",
       "    <tr>\n",
       "      <th>1002</th>\n",
       "      <td>0.000000</td>\n",
       "      <td>1</td>\n",
       "    </tr>\n",
       "    <tr>\n",
       "      <th>1001</th>\n",
       "      <td>0.000000</td>\n",
       "      <td>4579</td>\n",
       "    </tr>\n",
       "    <tr>\n",
       "      <th>1000</th>\n",
       "      <td>0.000000</td>\n",
       "      <td>1454</td>\n",
       "    </tr>\n",
       "    <tr>\n",
       "      <th>10</th>\n",
       "      <td>0.000000</td>\n",
       "      <td>9827</td>\n",
       "    </tr>\n",
       "    <tr>\n",
       "      <th>7</th>\n",
       "      <td>0.000000</td>\n",
       "      <td>1</td>\n",
       "    </tr>\n",
       "    <tr>\n",
       "      <th>0</th>\n",
       "      <td>0.000000</td>\n",
       "      <td>403151</td>\n",
       "    </tr>\n",
       "    <tr>\n",
       "      <th>15</th>\n",
       "      <td>0.000000</td>\n",
       "      <td>5</td>\n",
       "    </tr>\n",
       "    <tr>\n",
       "      <th>5</th>\n",
       "      <td>0.000000</td>\n",
       "      <td>8630</td>\n",
       "    </tr>\n",
       "    <tr>\n",
       "      <th>2</th>\n",
       "      <td>0.000007</td>\n",
       "      <td>143043</td>\n",
       "    </tr>\n",
       "    <tr>\n",
       "      <th>8</th>\n",
       "      <td>0.014315</td>\n",
       "      <td>489</td>\n",
       "    </tr>\n",
       "    <tr>\n",
       "      <th>-1</th>\n",
       "      <td>0.022981</td>\n",
       "      <td>4891634</td>\n",
       "    </tr>\n",
       "    <tr>\n",
       "      <th>6</th>\n",
       "      <td>0.065463</td>\n",
       "      <td>158135</td>\n",
       "    </tr>\n",
       "    <tr>\n",
       "      <th>11</th>\n",
       "      <td>0.083333</td>\n",
       "      <td>12</td>\n",
       "    </tr>\n",
       "    <tr>\n",
       "      <th>1</th>\n",
       "      <td>0.262153</td>\n",
       "      <td>182752</td>\n",
       "    </tr>\n",
       "    <tr>\n",
       "      <th>182</th>\n",
       "      <td>0.793566</td>\n",
       "      <td>373</td>\n",
       "    </tr>\n",
       "  </tbody>\n",
       "</table>\n",
       "</div>"
      ],
      "text/plain": [
       "                           mean    count\n",
       "oper_type + oper_attr                   \n",
       "9                      0.000000     1655\n",
       "3                      0.000000   117230\n",
       "22                     0.000000        5\n",
       "21                     0.000000      666\n",
       "20                     0.000000     2222\n",
       "19                     0.000000        4\n",
       "18                     0.000000     1073\n",
       "17                     0.000000        4\n",
       "4                      0.000000     3347\n",
       "16                     0.000000      107\n",
       "13                     0.000000    69600\n",
       "51                     0.000000        1\n",
       "1002                   0.000000        1\n",
       "1001                   0.000000     4579\n",
       "1000                   0.000000     1454\n",
       "10                     0.000000     9827\n",
       "7                      0.000000        1\n",
       "0                      0.000000   403151\n",
       "15                     0.000000        5\n",
       "5                      0.000000     8630\n",
       "2                      0.000007   143043\n",
       "8                      0.014315      489\n",
       "-1                     0.022981  4891634\n",
       "6                      0.065463   158135\n",
       "11                     0.083333       12\n",
       "1                      0.262153   182752\n",
       "182                    0.793566      373"
      ]
     },
     "execution_count": 32,
     "metadata": {},
     "output_type": "execute_result"
    }
   ],
   "source": [
    "train.groupby(train['oper_type + oper_attr'].apply(lambda x: x.split('_')[1]))['label'].agg(['mean', 'count']).sort_values('mean')"
   ]
  }
 ],
 "metadata": {
  "kernelspec": {
   "display_name": "Python 3",
   "language": "python",
   "name": "python3"
  },
  "language_info": {
   "codemirror_mode": {
    "name": "ipython",
    "version": 3
   },
   "file_extension": ".py",
   "mimetype": "text/x-python",
   "name": "python",
   "nbconvert_exporter": "python",
   "pygments_lexer": "ipython3",
   "version": "3.8.10"
  }
 },
 "nbformat": 4,
 "nbformat_minor": 4
}
