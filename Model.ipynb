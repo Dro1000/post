{
 "cells": [
  {
   "cell_type": "code",
   "execution_count": 1,
   "metadata": {
    "id": "uaKzqUxsdjDa"
   },
   "outputs": [
    {
     "name": "stderr",
     "output_type": "stream",
     "text": [
      "/home/dro/.local/lib/python3.8/site-packages/scipy/__init__.py:146: UserWarning: A NumPy version >=1.16.5 and <1.23.0 is required for this version of SciPy (detected version 1.23.3\n",
      "  warnings.warn(f\"A NumPy version >={np_minversion} and <{np_maxversion}\"\n"
     ]
    }
   ],
   "source": [
    "import pandas as pd\n",
    "import seaborn as sns\n",
    "import matplotlib.pyplot as plt\n",
    "from sklearn.model_selection import train_test_split\n",
    "from sklearn.ensemble import RandomForestClassifier\n",
    "\n",
    "%matplotlib inline"
   ]
  },
  {
   "cell_type": "code",
   "execution_count": 2,
   "metadata": {
    "colab": {
     "base_uri": "https://localhost:8080/"
    },
    "id": "2scLoULoXkT0",
    "outputId": "f34d3abd-0c25-4cb1-bc9a-36e9a8739c3a"
   },
   "outputs": [
    {
     "name": "stderr",
     "output_type": "stream",
     "text": [
      "/tmp/ipykernel_661513/398589533.py:1: DtypeWarning: Columns (2) have mixed types. Specify dtype option on import or set low_memory=False.\n",
      "  df = pd.read_csv(\"train_dataset_train.csv\")\n",
      "/tmp/ipykernel_661513/398589533.py:2: DtypeWarning: Columns (2) have mixed types. Specify dtype option on import or set low_memory=False.\n",
      "  test = pd.read_csv('test_dataset_test.csv')\n"
     ]
    }
   ],
   "source": [
    "df = pd.read_csv(\"train_dataset_train.csv\")\n",
    "test = pd.read_csv('test_dataset_test.csv')"
   ]
  },
  {
   "cell_type": "code",
   "execution_count": 3,
   "metadata": {},
   "outputs": [],
   "source": [
    "df['index_oper'] = df['index_oper'].astype(str).apply(lambda x: x if len(x) >= 4 else '0').astype(float).astype(int)\n",
    "test['index_oper'] = test['index_oper'].astype(str).apply(lambda x: x if len(x) >= 4 else '0').astype(float).astype(int)"
   ]
  },
  {
   "cell_type": "code",
   "execution_count": 4,
   "metadata": {
    "id": "wuSmnOhneooh"
   },
   "outputs": [],
   "source": [
    "df[\"is_in_yandex\"] = pd.Categorical(df[\"is_in_yandex\"])\n",
    "df[\"is_in_yandex\"].astype('category').cat.codes\n",
    "df[\"is_in_yandex\"] = df[\"is_in_yandex\"].cat.codes"
   ]
  },
  {
   "cell_type": "code",
   "execution_count": 5,
   "metadata": {
    "id": "wuSmnOhneooh"
   },
   "outputs": [],
   "source": [
    "test[\"is_in_yandex\"] = pd.Categorical(test[\"is_in_yandex\"])\n",
    "test[\"is_in_yandex\"].astype('category').cat.codes\n",
    "test[\"is_in_yandex\"] = test[\"is_in_yandex\"].cat.codes"
   ]
  },
  {
   "cell_type": "code",
   "execution_count": 6,
   "metadata": {
    "id": "vdTdoZs293hM"
   },
   "outputs": [],
   "source": [
    "df[\"is_return\"] = pd.Categorical(df[\"is_return\"])\n",
    "df[\"is_return\"].astype('category').cat.codes\n",
    "df[\"is_return\"] = df[\"is_return\"].cat.codes"
   ]
  },
  {
   "cell_type": "code",
   "execution_count": 7,
   "metadata": {
    "id": "vdTdoZs293hM"
   },
   "outputs": [],
   "source": [
    "test[\"is_return\"] = pd.Categorical(test[\"is_return\"])\n",
    "test[\"is_return\"].astype('category').cat.codes\n",
    "test[\"is_return\"] = test[\"is_return\"].cat.codes"
   ]
  },
  {
   "cell_type": "markdown",
   "metadata": {
    "id": "V-7e0uZ0As9z"
   },
   "source": [
    "Обьединим список не нужных строк с списком строк типа object"
   ]
  },
  {
   "cell_type": "code",
   "execution_count": 8,
   "metadata": {},
   "outputs": [],
   "source": [
    "cols_to_enc = ['type', 'is_privatecategory']"
   ]
  },
  {
   "cell_type": "code",
   "execution_count": 9,
   "metadata": {},
   "outputs": [],
   "source": [
    "from sklearn.preprocessing import LabelEncoder\n",
    "\n",
    "for col in cols_to_enc:\n",
    "    enc = LabelEncoder()\n",
    "    enc.fit(df[col])\n",
    "    \n",
    "    df[col] = enc.transform(df[col])\n",
    "    test[col] = enc.transform(test[col])"
   ]
  },
  {
   "cell_type": "code",
   "execution_count": 10,
   "metadata": {
    "id": "PYDt4hVn_GB9"
   },
   "outputs": [],
   "source": [
    "col_obj = df.select_dtypes(include=['object']).columns.values\n",
    "col_obj = list(set(col_obj) ^ set([\"id\", \"label\"]))"
   ]
  },
  {
   "cell_type": "code",
   "execution_count": 11,
   "metadata": {
    "colab": {
     "base_uri": "https://localhost:8080/"
    },
    "id": "lcpuRWOTAoGJ",
    "outputId": "5b4db5c0-e6f8-4208-b981-aafc9c5c23c5"
   },
   "outputs": [
    {
     "data": {
      "text/plain": [
       "['oper_type + oper_attr', 'label', 'name_mfi', 'id']"
      ]
     },
     "execution_count": 11,
     "metadata": {},
     "output_type": "execute_result"
    }
   ],
   "source": [
    "col_obj"
   ]
  },
  {
   "cell_type": "code",
   "execution_count": 12,
   "metadata": {
    "id": "mkCL9b-8hmZ1"
   },
   "outputs": [],
   "source": [
    "X = df.drop(col_obj, axis = 1)\n",
    "y = df[[\"label\"]]"
   ]
  },
  {
   "cell_type": "code",
   "execution_count": 13,
   "metadata": {
    "id": "NfIOX9Lbik_i"
   },
   "outputs": [],
   "source": [
    "X_train, X_test, y_train, y_test = train_test_split(X, y, test_size=0.1, random_state=42)"
   ]
  },
  {
   "cell_type": "markdown",
   "metadata": {
    "id": "60NotS9ehbO5"
   },
   "source": [
    "## Обучение модели"
   ]
  },
  {
   "cell_type": "code",
   "execution_count": 14,
   "metadata": {},
   "outputs": [],
   "source": [
    "from sklearn.metrics import recall_score\n",
    "\n",
    "def scorer(y_true, y_pred):\n",
    "\n",
    "    return 'recall', recall_score(y_true, y_pred > 0.01, average='macro'), True"
   ]
  },
  {
   "cell_type": "code",
   "execution_count": 15,
   "metadata": {},
   "outputs": [],
   "source": [
    "import lightgbm as lgb"
   ]
  },
  {
   "cell_type": "code",
   "execution_count": 16,
   "metadata": {
    "id": "jc-KKFlWf6_N"
   },
   "outputs": [],
   "source": [
    "clf = lgb.LGBMClassifier(num_leaves=12023, random_state=42, n_estimators=100)"
   ]
  },
  {
   "cell_type": "code",
   "execution_count": 17,
   "metadata": {
    "colab": {
     "base_uri": "https://localhost:8080/"
    },
    "id": "bc8JAH4yf7Bs",
    "outputId": "6cf27cb3-b919-402d-cae3-f1fabc8ecc10"
   },
   "outputs": [
    {
     "name": "stderr",
     "output_type": "stream",
     "text": [
      "/home/dro/.local/lib/python3.8/site-packages/sklearn/preprocessing/_label.py:98: DataConversionWarning: A column-vector y was passed when a 1d array was expected. Please change the shape of y to (n_samples, ), for example using ravel().\n",
      "  y = column_or_1d(y, warn=True)\n",
      "/home/dro/.local/lib/python3.8/site-packages/sklearn/preprocessing/_label.py:133: DataConversionWarning: A column-vector y was passed when a 1d array was expected. Please change the shape of y to (n_samples, ), for example using ravel().\n",
      "  y = column_or_1d(y, warn=True)\n"
     ]
    },
    {
     "name": "stdout",
     "output_type": "stream",
     "text": [
      "[1]\tvalid_0's binary_logloss: 0.106419\tvalid_0's recall: 0.5\n",
      "[2]\tvalid_0's binary_logloss: 0.100707\tvalid_0's recall: 0.5\n",
      "[3]\tvalid_0's binary_logloss: 0.0965881\tvalid_0's recall: 0.5\n",
      "[4]\tvalid_0's binary_logloss: 0.0934473\tvalid_0's recall: 0.5\n",
      "[5]\tvalid_0's binary_logloss: 0.0908926\tvalid_0's recall: 0.5\n",
      "[6]\tvalid_0's binary_logloss: 0.0887974\tvalid_0's recall: 0.5\n",
      "[7]\tvalid_0's binary_logloss: 0.0870255\tvalid_0's recall: 0.5\n",
      "[8]\tvalid_0's binary_logloss: 0.0855371\tvalid_0's recall: 0.5\n",
      "[9]\tvalid_0's binary_logloss: 0.0842832\tvalid_0's recall: 0.5\n",
      "[10]\tvalid_0's binary_logloss: 0.0832354\tvalid_0's recall: 0.5\n",
      "[11]\tvalid_0's binary_logloss: 0.0823079\tvalid_0's recall: 0.825031\n",
      "[12]\tvalid_0's binary_logloss: 0.0815044\tvalid_0's recall: 0.832284\n",
      "[13]\tvalid_0's binary_logloss: 0.0807774\tvalid_0's recall: 0.837681\n",
      "[14]\tvalid_0's binary_logloss: 0.0801407\tvalid_0's recall: 0.851904\n",
      "[15]\tvalid_0's binary_logloss: 0.0796503\tvalid_0's recall: 0.86266\n",
      "[16]\tvalid_0's binary_logloss: 0.0791581\tvalid_0's recall: 0.866882\n",
      "[17]\tvalid_0's binary_logloss: 0.0787559\tvalid_0's recall: 0.869359\n",
      "[18]\tvalid_0's binary_logloss: 0.0784079\tvalid_0's recall: 0.870256\n",
      "[19]\tvalid_0's binary_logloss: 0.0781289\tvalid_0's recall: 0.871391\n",
      "[20]\tvalid_0's binary_logloss: 0.077898\tvalid_0's recall: 0.872436\n",
      "[21]\tvalid_0's binary_logloss: 0.0776782\tvalid_0's recall: 0.873002\n",
      "[22]\tvalid_0's binary_logloss: 0.0774577\tvalid_0's recall: 0.873617\n",
      "[23]\tvalid_0's binary_logloss: 0.07729\tvalid_0's recall: 0.874634\n",
      "[24]\tvalid_0's binary_logloss: 0.0771353\tvalid_0's recall: 0.875031\n",
      "[25]\tvalid_0's binary_logloss: 0.0770344\tvalid_0's recall: 0.875158\n",
      "[26]\tvalid_0's binary_logloss: 0.0769646\tvalid_0's recall: 0.875894\n",
      "[27]\tvalid_0's binary_logloss: 0.0768853\tvalid_0's recall: 0.876531\n",
      "[28]\tvalid_0's binary_logloss: 0.0768756\tvalid_0's recall: 0.876809\n",
      "[29]\tvalid_0's binary_logloss: 0.0768322\tvalid_0's recall: 0.877267\n",
      "[30]\tvalid_0's binary_logloss: 0.0768061\tvalid_0's recall: 0.877454\n",
      "[31]\tvalid_0's binary_logloss: 0.0767299\tvalid_0's recall: 0.877844\n",
      "[32]\tvalid_0's binary_logloss: 0.0766964\tvalid_0's recall: 0.878229\n",
      "[33]\tvalid_0's binary_logloss: 0.0767872\tvalid_0's recall: 0.878489\n",
      "[34]\tvalid_0's binary_logloss: 0.0768051\tvalid_0's recall: 0.878945\n",
      "[35]\tvalid_0's binary_logloss: 0.0769097\tvalid_0's recall: 0.879128\n",
      "[36]\tvalid_0's binary_logloss: 0.0768972\tvalid_0's recall: 0.879568\n",
      "[37]\tvalid_0's binary_logloss: 0.0768452\tvalid_0's recall: 0.879781\n",
      "[38]\tvalid_0's binary_logloss: 0.0769128\tvalid_0's recall: 0.879995\n",
      "[39]\tvalid_0's binary_logloss: 0.0769294\tvalid_0's recall: 0.880263\n",
      "[40]\tvalid_0's binary_logloss: 0.0768999\tvalid_0's recall: 0.880462\n",
      "[41]\tvalid_0's binary_logloss: 0.0769789\tvalid_0's recall: 0.880511\n",
      "[42]\tvalid_0's binary_logloss: 0.0770232\tvalid_0's recall: 0.880675\n",
      "[43]\tvalid_0's binary_logloss: 0.0770553\tvalid_0's recall: 0.880866\n",
      "[44]\tvalid_0's binary_logloss: 0.0770805\tvalid_0's recall: 0.88095\n",
      "[45]\tvalid_0's binary_logloss: 0.0771591\tvalid_0's recall: 0.8811\n",
      "[46]\tvalid_0's binary_logloss: 0.0773108\tvalid_0's recall: 0.881334\n",
      "[47]\tvalid_0's binary_logloss: 0.07751\tvalid_0's recall: 0.881606\n",
      "[48]\tvalid_0's binary_logloss: 0.0775127\tvalid_0's recall: 0.881752\n",
      "[49]\tvalid_0's binary_logloss: 0.0776224\tvalid_0's recall: 0.881638\n",
      "[50]\tvalid_0's binary_logloss: 0.0777507\tvalid_0's recall: 0.881695\n",
      "[51]\tvalid_0's binary_logloss: 0.0778203\tvalid_0's recall: 0.882028\n",
      "[52]\tvalid_0's binary_logloss: 0.0781059\tvalid_0's recall: 0.882187\n",
      "[53]\tvalid_0's binary_logloss: 0.0783168\tvalid_0's recall: 0.882295\n",
      "[54]\tvalid_0's binary_logloss: 0.0781982\tvalid_0's recall: 0.882064\n",
      "[55]\tvalid_0's binary_logloss: 0.0783451\tvalid_0's recall: 0.882216\n",
      "[56]\tvalid_0's binary_logloss: 0.0786127\tvalid_0's recall: 0.882404\n",
      "[57]\tvalid_0's binary_logloss: 0.0786585\tvalid_0's recall: 0.882359\n",
      "[58]\tvalid_0's binary_logloss: 0.0788289\tvalid_0's recall: 0.882533\n",
      "[59]\tvalid_0's binary_logloss: 0.0791554\tvalid_0's recall: 0.882326\n",
      "[60]\tvalid_0's binary_logloss: 0.079194\tvalid_0's recall: 0.882199\n",
      "[61]\tvalid_0's binary_logloss: 0.0792856\tvalid_0's recall: 0.88218\n",
      "[62]\tvalid_0's binary_logloss: 0.0794182\tvalid_0's recall: 0.882131\n",
      "[63]\tvalid_0's binary_logloss: 0.0796874\tvalid_0's recall: 0.882285\n",
      "[64]\tvalid_0's binary_logloss: 0.0795432\tvalid_0's recall: 0.88238\n",
      "[65]\tvalid_0's binary_logloss: 0.0801825\tvalid_0's recall: 0.88224\n",
      "[66]\tvalid_0's binary_logloss: 0.0801707\tvalid_0's recall: 0.881981\n",
      "[67]\tvalid_0's binary_logloss: 0.080064\tvalid_0's recall: 0.882001\n",
      "[68]\tvalid_0's binary_logloss: 0.0802903\tvalid_0's recall: 0.882142\n",
      "[69]\tvalid_0's binary_logloss: 0.080317\tvalid_0's recall: 0.882151\n",
      "[70]\tvalid_0's binary_logloss: 0.0806074\tvalid_0's recall: 0.88209\n",
      "[71]\tvalid_0's binary_logloss: 0.0812491\tvalid_0's recall: 0.882029\n",
      "[72]\tvalid_0's binary_logloss: 0.081359\tvalid_0's recall: 0.881668\n",
      "[73]\tvalid_0's binary_logloss: 0.0808884\tvalid_0's recall: 0.881607\n",
      "[74]\tvalid_0's binary_logloss: 0.0812446\tvalid_0's recall: 0.881571\n",
      "[75]\tvalid_0's binary_logloss: 0.0812805\tvalid_0's recall: 0.881547\n",
      "[76]\tvalid_0's binary_logloss: 0.0818234\tvalid_0's recall: 0.881256\n",
      "[77]\tvalid_0's binary_logloss: 0.0820783\tvalid_0's recall: 0.881316\n",
      "[78]\tvalid_0's binary_logloss: 0.0816299\tvalid_0's recall: 0.881318\n",
      "[79]\tvalid_0's binary_logloss: 0.0826422\tvalid_0's recall: 0.881157\n",
      "[80]\tvalid_0's binary_logloss: 0.0821944\tvalid_0's recall: 0.880921\n",
      "[81]\tvalid_0's binary_logloss: 0.0821008\tvalid_0's recall: 0.880793\n",
      "[82]\tvalid_0's binary_logloss: 0.083685\tvalid_0's recall: 0.880813\n",
      "[83]\tvalid_0's binary_logloss: 0.083146\tvalid_0's recall: 0.880685\n",
      "[84]\tvalid_0's binary_logloss: 0.0841266\tvalid_0's recall: 0.880419\n",
      "[85]\tvalid_0's binary_logloss: 0.0833243\tvalid_0's recall: 0.880176\n",
      "[86]\tvalid_0's binary_logloss: 0.0850279\tvalid_0's recall: 0.880261\n",
      "[87]\tvalid_0's binary_logloss: 0.0838201\tvalid_0's recall: 0.880198\n",
      "[88]\tvalid_0's binary_logloss: 0.0847713\tvalid_0's recall: 0.879774\n",
      "[89]\tvalid_0's binary_logloss: 0.0851989\tvalid_0's recall: 0.879766\n",
      "[90]\tvalid_0's binary_logloss: 0.0862979\tvalid_0's recall: 0.879776\n",
      "[91]\tvalid_0's binary_logloss: 0.0860278\tvalid_0's recall: 0.879707\n",
      "[92]\tvalid_0's binary_logloss: 0.0830361\tvalid_0's recall: 0.879738\n",
      "[93]\tvalid_0's binary_logloss: 0.0851654\tvalid_0's recall: 0.879667\n",
      "[94]\tvalid_0's binary_logloss: 0.0849915\tvalid_0's recall: 0.879274\n",
      "[95]\tvalid_0's binary_logloss: 0.0856513\tvalid_0's recall: 0.879198\n",
      "[96]\tvalid_0's binary_logloss: 0.0904122\tvalid_0's recall: 0.8788\n",
      "[97]\tvalid_0's binary_logloss: 0.090308\tvalid_0's recall: 0.878919\n",
      "[98]\tvalid_0's binary_logloss: 0.0880564\tvalid_0's recall: 0.879001\n",
      "[99]\tvalid_0's binary_logloss: 0.0950843\tvalid_0's recall: 0.878833\n",
      "[100]\tvalid_0's binary_logloss: 0.0914354\tvalid_0's recall: 0.878666\n"
     ]
    },
    {
     "data": {
      "text/plain": [
       "LGBMClassifier(num_leaves=12023, random_state=42)"
      ]
     },
     "execution_count": 17,
     "metadata": {},
     "output_type": "execute_result"
    }
   ],
   "source": [
    "clf.fit(X_train, y_train, eval_set=(X_test, y_test), eval_metric=scorer)"
   ]
  },
  {
   "cell_type": "markdown",
   "metadata": {
    "id": "DrF2LeJIBNYN"
   },
   "source": [
    "## Оценка точности"
   ]
  },
  {
   "cell_type": "code",
   "execution_count": 18,
   "metadata": {
    "id": "5Ph7vcoxBNYO"
   },
   "outputs": [],
   "source": [
    "pred = clf.predict_proba(X_test)[:, 1] > 0.007"
   ]
  },
  {
   "cell_type": "code",
   "execution_count": 19,
   "metadata": {
    "id": "wfAZwwLXBNYO"
   },
   "outputs": [],
   "source": [
    "from sklearn.metrics import recall_score\n",
    "\n",
    "score = recall_score(y_test, pred, average = \"macro\" )"
   ]
  },
  {
   "cell_type": "code",
   "execution_count": 20,
   "metadata": {
    "colab": {
     "base_uri": "https://localhost:8080/"
    },
    "id": "sX6yHTGUBNYO",
    "outputId": "ab784c04-2e8c-4595-a968-d22f9923b4bd"
   },
   "outputs": [
    {
     "name": "stdout",
     "output_type": "stream",
     "text": [
      "Recall 0.8809808493631688\n"
     ]
    }
   ],
   "source": [
    "print(\"Recall\", score)"
   ]
  },
  {
   "cell_type": "code",
   "execution_count": 21,
   "metadata": {},
   "outputs": [],
   "source": [
    "ss = pd.read_csv('sample_solution.csv')"
   ]
  },
  {
   "cell_type": "code",
   "execution_count": 22,
   "metadata": {},
   "outputs": [],
   "source": [
    "ss['label'] = (clf.predict_proba(test[X_test.columns])[:, 1] > 0.007).astype(int)\n"
   ]
  },
  {
   "cell_type": "code",
   "execution_count": 23,
   "metadata": {},
   "outputs": [],
   "source": [
    "ss.to_csv('solut.csv', index=False)"
   ]
  },
  {
   "cell_type": "code",
   "execution_count": 24,
   "metadata": {},
   "outputs": [
    {
     "data": {
      "text/plain": [
       "0.19133825"
      ]
     },
     "execution_count": 24,
     "metadata": {},
     "output_type": "execute_result"
    }
   ],
   "source": [
    "ss['label'].mean()"
   ]
  }
 ],
 "metadata": {
  "colab": {
   "provenance": []
  },
  "kernelspec": {
   "display_name": "Python 3 (ipykernel)",
   "language": "python",
   "name": "python3"
  },
  "language_info": {
   "codemirror_mode": {
    "name": "ipython",
    "version": 3
   },
   "file_extension": ".py",
   "mimetype": "text/x-python",
   "name": "python",
   "nbconvert_exporter": "python",
   "pygments_lexer": "ipython3",
   "version": "3.8.10"
  }
 },
 "nbformat": 4,
 "nbformat_minor": 1
}
