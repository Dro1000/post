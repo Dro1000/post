{
 "cells": [
  {
   "cell_type": "code",
   "execution_count": 1,
   "metadata": {
    "id": "uaKzqUxsdjDa"
   },
   "outputs": [
    {
     "name": "stderr",
     "output_type": "stream",
     "text": [
      "/home/dro/.local/lib/python3.8/site-packages/scipy/__init__.py:146: UserWarning: A NumPy version >=1.16.5 and <1.23.0 is required for this version of SciPy (detected version 1.23.3\n",
      "  warnings.warn(f\"A NumPy version >={np_minversion} and <{np_maxversion}\"\n"
     ]
    }
   ],
   "source": [
    "import pandas as pd\n",
    "import seaborn as sns\n",
    "import matplotlib.pyplot as plt\n",
    "from sklearn.model_selection import train_test_split\n",
    "from sklearn.ensemble import RandomForestClassifier\n",
    "\n",
    "%matplotlib inline"
   ]
  },
  {
   "cell_type": "code",
   "execution_count": 2,
   "metadata": {
    "colab": {
     "base_uri": "https://localhost:8080/"
    },
    "id": "2scLoULoXkT0",
    "outputId": "f34d3abd-0c25-4cb1-bc9a-36e9a8739c3a"
   },
   "outputs": [
    {
     "name": "stderr",
     "output_type": "stream",
     "text": [
      "/tmp/ipykernel_615702/398589533.py:1: DtypeWarning: Columns (2) have mixed types. Specify dtype option on import or set low_memory=False.\n",
      "  df = pd.read_csv(\"train_dataset_train.csv\")\n",
      "/tmp/ipykernel_615702/398589533.py:2: DtypeWarning: Columns (2) have mixed types. Specify dtype option on import or set low_memory=False.\n",
      "  test = pd.read_csv('test_dataset_test.csv')\n"
     ]
    }
   ],
   "source": [
    "df = pd.read_csv(\"train_dataset_train.csv\")\n",
    "test = pd.read_csv('test_dataset_test.csv')"
   ]
  },
  {
   "cell_type": "code",
   "execution_count": 3,
   "metadata": {
    "id": "wuSmnOhneooh"
   },
   "outputs": [],
   "source": [
    "df[\"is_in_yandex\"] = pd.Categorical(df[\"is_in_yandex\"])\n",
    "df[\"is_in_yandex\"].astype('category').cat.codes\n",
    "df[\"is_in_yandex\"] = df[\"is_in_yandex\"].cat.codes"
   ]
  },
  {
   "cell_type": "code",
   "execution_count": 4,
   "metadata": {
    "id": "wuSmnOhneooh"
   },
   "outputs": [],
   "source": [
    "test[\"is_in_yandex\"] = pd.Categorical(test[\"is_in_yandex\"])\n",
    "test[\"is_in_yandex\"].astype('category').cat.codes\n",
    "test[\"is_in_yandex\"] = test[\"is_in_yandex\"].cat.codes"
   ]
  },
  {
   "cell_type": "code",
   "execution_count": 5,
   "metadata": {
    "id": "vdTdoZs293hM"
   },
   "outputs": [],
   "source": [
    "df[\"is_return\"] = pd.Categorical(df[\"is_return\"])\n",
    "df[\"is_return\"].astype('category').cat.codes\n",
    "df[\"is_return\"] = df[\"is_return\"].cat.codes"
   ]
  },
  {
   "cell_type": "code",
   "execution_count": 6,
   "metadata": {
    "id": "vdTdoZs293hM"
   },
   "outputs": [],
   "source": [
    "test[\"is_return\"] = pd.Categorical(test[\"is_return\"])\n",
    "test[\"is_return\"].astype('category').cat.codes\n",
    "test[\"is_return\"] = test[\"is_return\"].cat.codes"
   ]
  },
  {
   "cell_type": "markdown",
   "metadata": {
    "id": "V-7e0uZ0As9z"
   },
   "source": [
    "Обьединим список не нужных строк с списком строк типа object"
   ]
  },
  {
   "cell_type": "code",
   "execution_count": 7,
   "metadata": {
    "id": "PYDt4hVn_GB9"
   },
   "outputs": [],
   "source": [
    "col_obj = df.select_dtypes(include=['object']).columns.values\n",
    "col_obj = list(set(col_obj) ^ set([\"id\", \"label\"]))"
   ]
  },
  {
   "cell_type": "code",
   "execution_count": 8,
   "metadata": {
    "colab": {
     "base_uri": "https://localhost:8080/"
    },
    "id": "lcpuRWOTAoGJ",
    "outputId": "5b4db5c0-e6f8-4208-b981-aafc9c5c23c5"
   },
   "outputs": [
    {
     "data": {
      "text/plain": [
       "['name_mfi',\n",
       " 'type',\n",
       " 'index_oper',\n",
       " 'is_privatecategory',\n",
       " 'label',\n",
       " 'oper_type + oper_attr',\n",
       " 'id']"
      ]
     },
     "execution_count": 8,
     "metadata": {},
     "output_type": "execute_result"
    }
   ],
   "source": [
    "col_obj"
   ]
  },
  {
   "cell_type": "code",
   "execution_count": 9,
   "metadata": {
    "id": "mkCL9b-8hmZ1"
   },
   "outputs": [],
   "source": [
    "X = df.drop(col_obj, axis = 1)\n",
    "y = df[[\"label\"]]"
   ]
  },
  {
   "cell_type": "code",
   "execution_count": 10,
   "metadata": {
    "id": "NfIOX9Lbik_i"
   },
   "outputs": [],
   "source": [
    "X_train, X_test, y_train, y_test = train_test_split(X, y, test_size=0.1, random_state=42)"
   ]
  },
  {
   "cell_type": "markdown",
   "metadata": {
    "id": "60NotS9ehbO5"
   },
   "source": [
    "## Обучение модели"
   ]
  },
  {
   "cell_type": "code",
   "execution_count": null,
   "metadata": {},
   "outputs": [],
   "source": []
  },
  {
   "cell_type": "code",
   "execution_count": 11,
   "metadata": {},
   "outputs": [],
   "source": [
    "import lightgbm as lgb"
   ]
  },
  {
   "cell_type": "code",
   "execution_count": 35,
   "metadata": {
    "id": "jc-KKFlWf6_N"
   },
   "outputs": [],
   "source": [
    "clf = lgb.LGBMClassifier(num_leaves=8023, random_state=42)"
   ]
  },
  {
   "cell_type": "code",
   "execution_count": 36,
   "metadata": {
    "colab": {
     "base_uri": "https://localhost:8080/"
    },
    "id": "bc8JAH4yf7Bs",
    "outputId": "6cf27cb3-b919-402d-cae3-f1fabc8ecc10"
   },
   "outputs": [
    {
     "name": "stderr",
     "output_type": "stream",
     "text": [
      "/home/dro/.local/lib/python3.8/site-packages/sklearn/preprocessing/_label.py:98: DataConversionWarning: A column-vector y was passed when a 1d array was expected. Please change the shape of y to (n_samples, ), for example using ravel().\n",
      "  y = column_or_1d(y, warn=True)\n",
      "/home/dro/.local/lib/python3.8/site-packages/sklearn/preprocessing/_label.py:133: DataConversionWarning: A column-vector y was passed when a 1d array was expected. Please change the shape of y to (n_samples, ), for example using ravel().\n",
      "  y = column_or_1d(y, warn=True)\n"
     ]
    },
    {
     "name": "stdout",
     "output_type": "stream",
     "text": [
      "[1]\tvalid_0's binary_logloss: 0.106725\n",
      "[2]\tvalid_0's binary_logloss: 0.100913\n",
      "[3]\tvalid_0's binary_logloss: 0.0967008\n",
      "[4]\tvalid_0's binary_logloss: 0.0934574\n",
      "[5]\tvalid_0's binary_logloss: 0.0908481\n",
      "[6]\tvalid_0's binary_logloss: 0.0886759\n",
      "[7]\tvalid_0's binary_logloss: 0.0868675\n",
      "[8]\tvalid_0's binary_logloss: 0.08536\n",
      "[9]\tvalid_0's binary_logloss: 0.0840366\n",
      "[10]\tvalid_0's binary_logloss: 0.0829165\n",
      "[11]\tvalid_0's binary_logloss: 0.0819493\n",
      "[12]\tvalid_0's binary_logloss: 0.0810898\n",
      "[13]\tvalid_0's binary_logloss: 0.0803226\n",
      "[14]\tvalid_0's binary_logloss: 0.079681\n",
      "[15]\tvalid_0's binary_logloss: 0.0791489\n",
      "[16]\tvalid_0's binary_logloss: 0.0786146\n",
      "[17]\tvalid_0's binary_logloss: 0.0781884\n",
      "[18]\tvalid_0's binary_logloss: 0.0778248\n",
      "[19]\tvalid_0's binary_logloss: 0.0775037\n",
      "[20]\tvalid_0's binary_logloss: 0.0771882\n",
      "[21]\tvalid_0's binary_logloss: 0.0769307\n",
      "[22]\tvalid_0's binary_logloss: 0.0767312\n",
      "[23]\tvalid_0's binary_logloss: 0.0765295\n",
      "[24]\tvalid_0's binary_logloss: 0.0763985\n",
      "[25]\tvalid_0's binary_logloss: 0.0763059\n",
      "[26]\tvalid_0's binary_logloss: 0.0761613\n",
      "[27]\tvalid_0's binary_logloss: 0.0761228\n",
      "[28]\tvalid_0's binary_logloss: 0.0759894\n",
      "[29]\tvalid_0's binary_logloss: 0.0759212\n",
      "[30]\tvalid_0's binary_logloss: 0.0758505\n",
      "[31]\tvalid_0's binary_logloss: 0.0758138\n",
      "[32]\tvalid_0's binary_logloss: 0.0757906\n",
      "[33]\tvalid_0's binary_logloss: 0.0757931\n",
      "[34]\tvalid_0's binary_logloss: 0.0757787\n",
      "[35]\tvalid_0's binary_logloss: 0.075771\n",
      "[36]\tvalid_0's binary_logloss: 0.0757605\n",
      "[37]\tvalid_0's binary_logloss: 0.0756892\n",
      "[38]\tvalid_0's binary_logloss: 0.0756648\n",
      "[39]\tvalid_0's binary_logloss: 0.0756085\n",
      "[40]\tvalid_0's binary_logloss: 0.0756423\n",
      "[41]\tvalid_0's binary_logloss: 0.07563\n",
      "[42]\tvalid_0's binary_logloss: 0.0757125\n",
      "[43]\tvalid_0's binary_logloss: 0.075752\n",
      "[44]\tvalid_0's binary_logloss: 0.0756916\n",
      "[45]\tvalid_0's binary_logloss: 0.0757681\n",
      "[46]\tvalid_0's binary_logloss: 0.0757981\n",
      "[47]\tvalid_0's binary_logloss: 0.0757396\n",
      "[48]\tvalid_0's binary_logloss: 0.0757249\n",
      "[49]\tvalid_0's binary_logloss: 0.0757692\n",
      "[50]\tvalid_0's binary_logloss: 0.0759438\n",
      "[51]\tvalid_0's binary_logloss: 0.075826\n",
      "[52]\tvalid_0's binary_logloss: 0.0760657\n",
      "[53]\tvalid_0's binary_logloss: 0.0761862\n",
      "[54]\tvalid_0's binary_logloss: 0.0766819\n",
      "[55]\tvalid_0's binary_logloss: 0.0761754\n",
      "[56]\tvalid_0's binary_logloss: 0.0765011\n",
      "[57]\tvalid_0's binary_logloss: 0.0765301\n",
      "[58]\tvalid_0's binary_logloss: 0.0769383\n",
      "[59]\tvalid_0's binary_logloss: 0.0769238\n",
      "[60]\tvalid_0's binary_logloss: 0.0780739\n",
      "[61]\tvalid_0's binary_logloss: 0.0774057\n",
      "[62]\tvalid_0's binary_logloss: 0.0781345\n",
      "[63]\tvalid_0's binary_logloss: 0.0781763\n",
      "[64]\tvalid_0's binary_logloss: 0.077886\n",
      "[65]\tvalid_0's binary_logloss: 0.0769608\n",
      "[66]\tvalid_0's binary_logloss: 0.0790424\n",
      "[67]\tvalid_0's binary_logloss: 0.0784617\n",
      "[68]\tvalid_0's binary_logloss: 0.0786956\n",
      "[69]\tvalid_0's binary_logloss: 0.077766\n",
      "[70]\tvalid_0's binary_logloss: 0.0781706\n",
      "[71]\tvalid_0's binary_logloss: 0.0794619\n",
      "[72]\tvalid_0's binary_logloss: 0.0801071\n",
      "[73]\tvalid_0's binary_logloss: 0.0789669\n",
      "[74]\tvalid_0's binary_logloss: 0.0793674\n",
      "[75]\tvalid_0's binary_logloss: 0.0785905\n",
      "[76]\tvalid_0's binary_logloss: 0.0794582\n",
      "[77]\tvalid_0's binary_logloss: 0.0809518\n",
      "[78]\tvalid_0's binary_logloss: 0.0809798\n",
      "[79]\tvalid_0's binary_logloss: 0.0817465\n",
      "[80]\tvalid_0's binary_logloss: 0.0805397\n",
      "[81]\tvalid_0's binary_logloss: 0.0807854\n",
      "[82]\tvalid_0's binary_logloss: 0.0810872\n",
      "[83]\tvalid_0's binary_logloss: 0.0825037\n",
      "[84]\tvalid_0's binary_logloss: 0.0828255\n",
      "[85]\tvalid_0's binary_logloss: 0.0812228\n",
      "[86]\tvalid_0's binary_logloss: 0.0866982\n",
      "[87]\tvalid_0's binary_logloss: 0.0863315\n",
      "[88]\tvalid_0's binary_logloss: 0.0836843\n",
      "[89]\tvalid_0's binary_logloss: 0.0887831\n",
      "[90]\tvalid_0's binary_logloss: 0.0812449\n",
      "[91]\tvalid_0's binary_logloss: 0.0872875\n",
      "[92]\tvalid_0's binary_logloss: 0.0861407\n",
      "[93]\tvalid_0's binary_logloss: 0.0912024\n",
      "[94]\tvalid_0's binary_logloss: 0.0877106\n",
      "[95]\tvalid_0's binary_logloss: 0.0852407\n",
      "[96]\tvalid_0's binary_logloss: 0.09238\n",
      "[97]\tvalid_0's binary_logloss: 0.087331\n",
      "[98]\tvalid_0's binary_logloss: 0.0891556\n",
      "[99]\tvalid_0's binary_logloss: 0.0861735\n",
      "[100]\tvalid_0's binary_logloss: 0.0907301\n"
     ]
    },
    {
     "data": {
      "text/plain": [
       "LGBMClassifier(num_leaves=8023, random_state=42)"
      ]
     },
     "execution_count": 36,
     "metadata": {},
     "output_type": "execute_result"
    }
   ],
   "source": [
    "clf.fit(X_train, y_train, eval_set=(X_test, y_test))"
   ]
  },
  {
   "cell_type": "markdown",
   "metadata": {
    "id": "DrF2LeJIBNYN"
   },
   "source": [
    "## Оценка точности"
   ]
  },
  {
   "cell_type": "code",
   "execution_count": 37,
   "metadata": {
    "id": "5Ph7vcoxBNYO"
   },
   "outputs": [],
   "source": [
    "pred = clf.predict_proba(X_test)[:, 1] > 0.009"
   ]
  },
  {
   "cell_type": "code",
   "execution_count": 38,
   "metadata": {
    "id": "wfAZwwLXBNYO"
   },
   "outputs": [],
   "source": [
    "from sklearn.metrics import recall_score\n",
    "\n",
    "score = recall_score(y_test, pred, average = \"macro\" )"
   ]
  },
  {
   "cell_type": "code",
   "execution_count": 39,
   "metadata": {
    "colab": {
     "base_uri": "https://localhost:8080/"
    },
    "id": "sX6yHTGUBNYO",
    "outputId": "ab784c04-2e8c-4595-a968-d22f9923b4bd"
   },
   "outputs": [
    {
     "name": "stdout",
     "output_type": "stream",
     "text": [
      "Recall 0.8805939941513985\n"
     ]
    }
   ],
   "source": [
    "print(\"Recall\", score)"
   ]
  },
  {
   "cell_type": "code",
   "execution_count": 40,
   "metadata": {},
   "outputs": [],
   "source": [
    "ss = pd.read_csv('sample_solution.csv')"
   ]
  },
  {
   "cell_type": "code",
   "execution_count": 41,
   "metadata": {},
   "outputs": [],
   "source": [
    "ss['label'] = (clf.predict_proba(test[X_test.columns])[:, 1] > 0.009).astype(int)\n"
   ]
  },
  {
   "cell_type": "code",
   "execution_count": 42,
   "metadata": {},
   "outputs": [],
   "source": [
    "ss.to_csv('solut.csv', index=False)"
   ]
  },
  {
   "cell_type": "code",
   "execution_count": 43,
   "metadata": {},
   "outputs": [
    {
     "data": {
      "text/plain": [
       "0.2049975"
      ]
     },
     "execution_count": 43,
     "metadata": {},
     "output_type": "execute_result"
    }
   ],
   "source": [
    "ss['label'].mean()"
   ]
  }
 ],
 "metadata": {
  "colab": {
   "provenance": []
  },
  "kernelspec": {
   "display_name": "Python 3 (ipykernel)",
   "language": "python",
   "name": "python3"
  },
  "language_info": {
   "codemirror_mode": {
    "name": "ipython",
    "version": 3
   },
   "file_extension": ".py",
   "mimetype": "text/x-python",
   "name": "python",
   "nbconvert_exporter": "python",
   "pygments_lexer": "ipython3",
   "version": "3.8.10"
  }
 },
 "nbformat": 4,
 "nbformat_minor": 1
}
