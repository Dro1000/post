{
 "cells": [
  {
   "cell_type": "code",
   "execution_count": 1,
   "metadata": {
    "id": "uaKzqUxsdjDa"
   },
   "outputs": [
    {
     "name": "stderr",
     "output_type": "stream",
     "text": [
      "/home/dro/.local/lib/python3.8/site-packages/scipy/__init__.py:146: UserWarning: A NumPy version >=1.16.5 and <1.23.0 is required for this version of SciPy (detected version 1.23.3\n",
      "  warnings.warn(f\"A NumPy version >={np_minversion} and <{np_maxversion}\"\n"
     ]
    }
   ],
   "source": [
    "import pandas as pd\n",
    "import seaborn as sns\n",
    "import matplotlib.pyplot as plt\n",
    "from sklearn.model_selection import train_test_split\n",
    "from sklearn.ensemble import RandomForestClassifier\n",
    "\n",
    "%matplotlib inline"
   ]
  },
  {
   "cell_type": "code",
   "execution_count": 2,
   "metadata": {
    "colab": {
     "base_uri": "https://localhost:8080/"
    },
    "id": "2scLoULoXkT0",
    "outputId": "f34d3abd-0c25-4cb1-bc9a-36e9a8739c3a"
   },
   "outputs": [
    {
     "name": "stderr",
     "output_type": "stream",
     "text": [
      "/tmp/ipykernel_661513/398589533.py:1: DtypeWarning: Columns (2) have mixed types. Specify dtype option on import or set low_memory=False.\n",
      "  df = pd.read_csv(\"train_dataset_train.csv\")\n",
      "/tmp/ipykernel_661513/398589533.py:2: DtypeWarning: Columns (2) have mixed types. Specify dtype option on import or set low_memory=False.\n",
      "  test = pd.read_csv('test_dataset_test.csv')\n"
     ]
    }
   ],
   "source": [
    "df = pd.read_csv(\"train_dataset_train.csv\")\n",
    "test = pd.read_csv('test_dataset_test.csv')"
   ]
  },
  {
   "cell_type": "markdown",
   "metadata": {},
   "source": [
    "## Преобразуем индекс операции"
   ]
  },
  {
   "cell_type": "code",
   "execution_count": 3,
   "metadata": {},
   "outputs": [],
   "source": [
    "df['index_oper'] = df['index_oper'].astype(str).apply(lambda x: x if len(x) >= 4 else '0').astype(float).astype(int)\n",
    "test['index_oper'] = test['index_oper'].astype(str).apply(lambda x: x if len(x) >= 4 else '0').astype(float).astype(int)"
   ]
  },
  {
   "cell_type": "markdown",
   "metadata": {},
   "source": [
    "## Категоризуем некоторые столбцы"
   ]
  },
  {
   "cell_type": "code",
   "execution_count": 25,
   "metadata": {},
   "outputs": [],
   "source": [
    "cols_to_categorize = ['is_in_yandex', 'is_return', 'type', 'is_privatecategory']"
   ]
  },
  {
   "cell_type": "code",
   "execution_count": 26,
   "metadata": {},
   "outputs": [],
   "source": [
    "for col in cols_to_categorize:\n",
    "    df[col] = pd.Categorical(df[col])\n",
    "    df[col].astype('category').cat.codes\n",
    "    df[col] = df[col].cat.codes\n",
    "    \n",
    "    test[col] = pd.Categorical(test[col])\n",
    "    test[col].astype('category').cat.codes\n",
    "    test[col] = test[col].cat.codes"
   ]
  },
  {
   "cell_type": "markdown",
   "metadata": {},
   "source": [
    "## Готовие обучающие выборки"
   ]
  },
  {
   "cell_type": "code",
   "execution_count": 29,
   "metadata": {
    "id": "PYDt4hVn_GB9"
   },
   "outputs": [],
   "source": [
    "col_obj = df.select_dtypes(include=['object']).columns.values\n",
    "col_obj = list(set(col_obj) ^ set([\"id\", \"label\"]))"
   ]
  },
  {
   "cell_type": "code",
   "execution_count": 30,
   "metadata": {
    "colab": {
     "base_uri": "https://localhost:8080/"
    },
    "id": "lcpuRWOTAoGJ",
    "outputId": "5b4db5c0-e6f8-4208-b981-aafc9c5c23c5"
   },
   "outputs": [
    {
     "data": {
      "text/plain": [
       "['oper_type + oper_attr', 'label', 'name_mfi', 'id']"
      ]
     },
     "execution_count": 30,
     "metadata": {},
     "output_type": "execute_result"
    }
   ],
   "source": [
    "col_obj"
   ]
  },
  {
   "cell_type": "code",
   "execution_count": 31,
   "metadata": {
    "id": "mkCL9b-8hmZ1"
   },
   "outputs": [],
   "source": [
    "X = df.drop(col_obj, axis = 1)\n",
    "y = df[[\"label\"]]"
   ]
  },
  {
   "cell_type": "code",
   "execution_count": 32,
   "metadata": {
    "id": "NfIOX9Lbik_i"
   },
   "outputs": [],
   "source": [
    "X_train, X_test, y_train, y_test = train_test_split(X, y, test_size=0.01, random_state=42)"
   ]
  },
  {
   "cell_type": "markdown",
   "metadata": {
    "id": "60NotS9ehbO5"
   },
   "source": [
    "## Обучение модели"
   ]
  },
  {
   "cell_type": "code",
   "execution_count": 33,
   "metadata": {},
   "outputs": [],
   "source": [
    "from sklearn.metrics import recall_score\n",
    "\n",
    "def scorer(y_true, y_pred):\n",
    "\n",
    "    return 'recall', recall_score(y_true, y_pred > 0.01, average='macro'), True"
   ]
  },
  {
   "cell_type": "code",
   "execution_count": 34,
   "metadata": {},
   "outputs": [],
   "source": [
    "import lightgbm as lgb"
   ]
  },
  {
   "cell_type": "code",
   "execution_count": 35,
   "metadata": {
    "id": "jc-KKFlWf6_N"
   },
   "outputs": [],
   "source": [
    "clf = lgb.LGBMClassifier(num_leaves=12023, random_state=42, n_estimators=100)"
   ]
  },
  {
   "cell_type": "code",
   "execution_count": 36,
   "metadata": {
    "colab": {
     "base_uri": "https://localhost:8080/"
    },
    "id": "bc8JAH4yf7Bs",
    "outputId": "6cf27cb3-b919-402d-cae3-f1fabc8ecc10"
   },
   "outputs": [
    {
     "name": "stderr",
     "output_type": "stream",
     "text": [
      "/home/dro/.local/lib/python3.8/site-packages/sklearn/preprocessing/_label.py:98: DataConversionWarning: A column-vector y was passed when a 1d array was expected. Please change the shape of y to (n_samples, ), for example using ravel().\n",
      "  y = column_or_1d(y, warn=True)\n",
      "/home/dro/.local/lib/python3.8/site-packages/sklearn/preprocessing/_label.py:133: DataConversionWarning: A column-vector y was passed when a 1d array was expected. Please change the shape of y to (n_samples, ), for example using ravel().\n",
      "  y = column_or_1d(y, warn=True)\n"
     ]
    },
    {
     "name": "stdout",
     "output_type": "stream",
     "text": [
      "[1]\tvalid_0's binary_logloss: 0.107354\tvalid_0's recall: 0.5\n",
      "[2]\tvalid_0's binary_logloss: 0.10136\tvalid_0's recall: 0.5\n",
      "[3]\tvalid_0's binary_logloss: 0.0972032\tvalid_0's recall: 0.5\n",
      "[4]\tvalid_0's binary_logloss: 0.0939592\tvalid_0's recall: 0.5\n",
      "[5]\tvalid_0's binary_logloss: 0.0913446\tvalid_0's recall: 0.5\n",
      "[6]\tvalid_0's binary_logloss: 0.0892653\tvalid_0's recall: 0.5\n",
      "[7]\tvalid_0's binary_logloss: 0.0875784\tvalid_0's recall: 0.5\n",
      "[8]\tvalid_0's binary_logloss: 0.0860028\tvalid_0's recall: 0.5\n",
      "[9]\tvalid_0's binary_logloss: 0.084646\tvalid_0's recall: 0.5\n",
      "[10]\tvalid_0's binary_logloss: 0.0835598\tvalid_0's recall: 0.5\n",
      "[11]\tvalid_0's binary_logloss: 0.0825489\tvalid_0's recall: 0.823847\n",
      "[12]\tvalid_0's binary_logloss: 0.0817786\tvalid_0's recall: 0.830588\n",
      "[13]\tvalid_0's binary_logloss: 0.0810976\tvalid_0's recall: 0.835435\n",
      "[14]\tvalid_0's binary_logloss: 0.0804506\tvalid_0's recall: 0.849896\n",
      "[15]\tvalid_0's binary_logloss: 0.07996\tvalid_0's recall: 0.862189\n",
      "[16]\tvalid_0's binary_logloss: 0.0795263\tvalid_0's recall: 0.86539\n",
      "[17]\tvalid_0's binary_logloss: 0.0791381\tvalid_0's recall: 0.866618\n",
      "[18]\tvalid_0's binary_logloss: 0.0787627\tvalid_0's recall: 0.866544\n",
      "[19]\tvalid_0's binary_logloss: 0.078418\tvalid_0's recall: 0.86726\n",
      "[20]\tvalid_0's binary_logloss: 0.0781593\tvalid_0's recall: 0.86831\n",
      "[21]\tvalid_0's binary_logloss: 0.0779111\tvalid_0's recall: 0.868847\n",
      "[22]\tvalid_0's binary_logloss: 0.0777459\tvalid_0's recall: 0.869972\n",
      "[23]\tvalid_0's binary_logloss: 0.07751\tvalid_0's recall: 0.870498\n",
      "[24]\tvalid_0's binary_logloss: 0.0773163\tvalid_0's recall: 0.871128\n",
      "[25]\tvalid_0's binary_logloss: 0.0771893\tvalid_0's recall: 0.871023\n",
      "[26]\tvalid_0's binary_logloss: 0.0771005\tvalid_0's recall: 0.871531\n",
      "[27]\tvalid_0's binary_logloss: 0.0769953\tvalid_0's recall: 0.872091\n",
      "[28]\tvalid_0's binary_logloss: 0.0768975\tvalid_0's recall: 0.873111\n",
      "[29]\tvalid_0's binary_logloss: 0.0769298\tvalid_0's recall: 0.873654\n",
      "[30]\tvalid_0's binary_logloss: 0.0768805\tvalid_0's recall: 0.873889\n",
      "[31]\tvalid_0's binary_logloss: 0.0768949\tvalid_0's recall: 0.873525\n",
      "[32]\tvalid_0's binary_logloss: 0.076848\tvalid_0's recall: 0.873144\n",
      "[33]\tvalid_0's binary_logloss: 0.076858\tvalid_0's recall: 0.873736\n",
      "[34]\tvalid_0's binary_logloss: 0.0769095\tvalid_0's recall: 0.874023\n",
      "[35]\tvalid_0's binary_logloss: 0.0769178\tvalid_0's recall: 0.874233\n",
      "[36]\tvalid_0's binary_logloss: 0.0769098\tvalid_0's recall: 0.874451\n",
      "[37]\tvalid_0's binary_logloss: 0.077024\tvalid_0's recall: 0.873523\n",
      "[38]\tvalid_0's binary_logloss: 0.077074\tvalid_0's recall: 0.873473\n",
      "[39]\tvalid_0's binary_logloss: 0.0771816\tvalid_0's recall: 0.873853\n",
      "[40]\tvalid_0's binary_logloss: 0.0771998\tvalid_0's recall: 0.874495\n",
      "[41]\tvalid_0's binary_logloss: 0.0771875\tvalid_0's recall: 0.874813\n",
      "[42]\tvalid_0's binary_logloss: 0.077233\tvalid_0's recall: 0.874993\n",
      "[43]\tvalid_0's binary_logloss: 0.0772953\tvalid_0's recall: 0.87597\n",
      "[44]\tvalid_0's binary_logloss: 0.0773981\tvalid_0's recall: 0.87617\n",
      "[45]\tvalid_0's binary_logloss: 0.0775403\tvalid_0's recall: 0.876189\n",
      "[46]\tvalid_0's binary_logloss: 0.0776836\tvalid_0's recall: 0.876626\n",
      "[47]\tvalid_0's binary_logloss: 0.077528\tvalid_0's recall: 0.876884\n",
      "[48]\tvalid_0's binary_logloss: 0.0775837\tvalid_0's recall: 0.877664\n",
      "[49]\tvalid_0's binary_logloss: 0.0778012\tvalid_0's recall: 0.877769\n",
      "[50]\tvalid_0's binary_logloss: 0.0776586\tvalid_0's recall: 0.878037\n",
      "[51]\tvalid_0's binary_logloss: 0.0776377\tvalid_0's recall: 0.878337\n",
      "[52]\tvalid_0's binary_logloss: 0.0777015\tvalid_0's recall: 0.878425\n",
      "[53]\tvalid_0's binary_logloss: 0.0777517\tvalid_0's recall: 0.878682\n",
      "[54]\tvalid_0's binary_logloss: 0.0778403\tvalid_0's recall: 0.878497\n",
      "[55]\tvalid_0's binary_logloss: 0.0783811\tvalid_0's recall: 0.879302\n",
      "[56]\tvalid_0's binary_logloss: 0.078741\tvalid_0's recall: 0.879484\n",
      "[57]\tvalid_0's binary_logloss: 0.0789036\tvalid_0's recall: 0.879385\n",
      "[58]\tvalid_0's binary_logloss: 0.0785127\tvalid_0's recall: 0.879379\n",
      "[59]\tvalid_0's binary_logloss: 0.0786446\tvalid_0's recall: 0.878527\n",
      "[60]\tvalid_0's binary_logloss: 0.0805903\tvalid_0's recall: 0.878198\n",
      "[61]\tvalid_0's binary_logloss: 0.0795455\tvalid_0's recall: 0.878484\n",
      "[62]\tvalid_0's binary_logloss: 0.080182\tvalid_0's recall: 0.878725\n",
      "[63]\tvalid_0's binary_logloss: 0.0791289\tvalid_0's recall: 0.87923\n",
      "[64]\tvalid_0's binary_logloss: 0.0798651\tvalid_0's recall: 0.878873\n",
      "[65]\tvalid_0's binary_logloss: 0.081228\tvalid_0's recall: 0.878184\n",
      "[66]\tvalid_0's binary_logloss: 0.0806359\tvalid_0's recall: 0.87851\n",
      "[67]\tvalid_0's binary_logloss: 0.0803333\tvalid_0's recall: 0.878316\n",
      "[68]\tvalid_0's binary_logloss: 0.081071\tvalid_0's recall: 0.878429\n",
      "[69]\tvalid_0's binary_logloss: 0.0805919\tvalid_0's recall: 0.877765\n",
      "[70]\tvalid_0's binary_logloss: 0.0800941\tvalid_0's recall: 0.877126\n",
      "[71]\tvalid_0's binary_logloss: 0.080664\tvalid_0's recall: 0.877699\n",
      "[72]\tvalid_0's binary_logloss: 0.0808471\tvalid_0's recall: 0.877917\n",
      "[73]\tvalid_0's binary_logloss: 0.0821184\tvalid_0's recall: 0.877979\n",
      "[74]\tvalid_0's binary_logloss: 0.080451\tvalid_0's recall: 0.878845\n",
      "[75]\tvalid_0's binary_logloss: 0.0817023\tvalid_0's recall: 0.878958\n",
      "[76]\tvalid_0's binary_logloss: 0.0812053\tvalid_0's recall: 0.879233\n",
      "[77]\tvalid_0's binary_logloss: 0.0841735\tvalid_0's recall: 0.879037\n",
      "[78]\tvalid_0's binary_logloss: 0.0843742\tvalid_0's recall: 0.878869\n",
      "[79]\tvalid_0's binary_logloss: 0.0832784\tvalid_0's recall: 0.878724\n",
      "[80]\tvalid_0's binary_logloss: 0.0816226\tvalid_0's recall: 0.878623\n",
      "[81]\tvalid_0's binary_logloss: 0.0834629\tvalid_0's recall: 0.878343\n",
      "[82]\tvalid_0's binary_logloss: 0.0852988\tvalid_0's recall: 0.878218\n",
      "[83]\tvalid_0's binary_logloss: 0.0854049\tvalid_0's recall: 0.877817\n",
      "[84]\tvalid_0's binary_logloss: 0.0867082\tvalid_0's recall: 0.877273\n",
      "[85]\tvalid_0's binary_logloss: 0.0873636\tvalid_0's recall: 0.877111\n",
      "[86]\tvalid_0's binary_logloss: 0.0868442\tvalid_0's recall: 0.876728\n",
      "[87]\tvalid_0's binary_logloss: 0.0846437\tvalid_0's recall: 0.877183\n",
      "[88]\tvalid_0's binary_logloss: 0.0829797\tvalid_0's recall: 0.877568\n",
      "[89]\tvalid_0's binary_logloss: 0.0864871\tvalid_0's recall: 0.878159\n",
      "[90]\tvalid_0's binary_logloss: 0.0860382\tvalid_0's recall: 0.878647\n",
      "[91]\tvalid_0's binary_logloss: 0.091899\tvalid_0's recall: 0.878092\n",
      "[92]\tvalid_0's binary_logloss: 0.0885882\tvalid_0's recall: 0.878128\n",
      "[93]\tvalid_0's binary_logloss: 0.089268\tvalid_0's recall: 0.877609\n",
      "[94]\tvalid_0's binary_logloss: 0.0893135\tvalid_0's recall: 0.877176\n",
      "[95]\tvalid_0's binary_logloss: 0.0917483\tvalid_0's recall: 0.877681\n",
      "[96]\tvalid_0's binary_logloss: 0.0895729\tvalid_0's recall: 0.87672\n",
      "[97]\tvalid_0's binary_logloss: 0.0879117\tvalid_0's recall: 0.876585\n",
      "[98]\tvalid_0's binary_logloss: 0.0989355\tvalid_0's recall: 0.876493\n",
      "[99]\tvalid_0's binary_logloss: 0.0927697\tvalid_0's recall: 0.876709\n",
      "[100]\tvalid_0's binary_logloss: 0.0980536\tvalid_0's recall: 0.877001\n"
     ]
    },
    {
     "data": {
      "text/plain": [
       "LGBMClassifier(num_leaves=12023, random_state=42)"
      ]
     },
     "execution_count": 36,
     "metadata": {},
     "output_type": "execute_result"
    }
   ],
   "source": [
    "clf.fit(X_train, y_train, eval_set=(X_test, y_test), eval_metric=scorer)"
   ]
  },
  {
   "cell_type": "markdown",
   "metadata": {
    "id": "DrF2LeJIBNYN"
   },
   "source": [
    "## Оценка точности"
   ]
  },
  {
   "cell_type": "code",
   "execution_count": 37,
   "metadata": {
    "id": "5Ph7vcoxBNYO"
   },
   "outputs": [],
   "source": [
    "pred = clf.predict_proba(X_test)[:, 1] > 0.007"
   ]
  },
  {
   "cell_type": "code",
   "execution_count": 38,
   "metadata": {
    "id": "wfAZwwLXBNYO"
   },
   "outputs": [],
   "source": [
    "from sklearn.metrics import recall_score\n",
    "\n",
    "score = recall_score(y_test, pred, average = \"macro\" )"
   ]
  },
  {
   "cell_type": "code",
   "execution_count": 39,
   "metadata": {
    "colab": {
     "base_uri": "https://localhost:8080/"
    },
    "id": "sX6yHTGUBNYO",
    "outputId": "ab784c04-2e8c-4595-a968-d22f9923b4bd"
   },
   "outputs": [
    {
     "name": "stdout",
     "output_type": "stream",
     "text": [
      "Recall 0.8778555748401962\n"
     ]
    }
   ],
   "source": [
    "print(\"Recall\", score)"
   ]
  },
  {
   "cell_type": "code",
   "execution_count": 40,
   "metadata": {},
   "outputs": [],
   "source": [
    "ss = pd.read_csv('sample_solution.csv')"
   ]
  },
  {
   "cell_type": "code",
   "execution_count": 41,
   "metadata": {},
   "outputs": [],
   "source": [
    "ss['label'] = (clf.predict_proba(test[X_test.columns])[:, 1] > 0.007).astype(int)\n"
   ]
  },
  {
   "cell_type": "code",
   "execution_count": 42,
   "metadata": {},
   "outputs": [],
   "source": [
    "ss.to_csv('solut.csv', index=False)"
   ]
  },
  {
   "cell_type": "code",
   "execution_count": 43,
   "metadata": {},
   "outputs": [
    {
     "data": {
      "text/plain": [
       "0.1994335"
      ]
     },
     "execution_count": 43,
     "metadata": {},
     "output_type": "execute_result"
    }
   ],
   "source": [
    "ss['label'].mean()"
   ]
  },
  {
   "cell_type": "code",
   "execution_count": null,
   "metadata": {},
   "outputs": [],
   "source": []
  }
 ],
 "metadata": {
  "colab": {
   "provenance": []
  },
  "kernelspec": {
   "display_name": "Python 3 (ipykernel)",
   "language": "python",
   "name": "python3"
  },
  "language_info": {
   "codemirror_mode": {
    "name": "ipython",
    "version": 3
   },
   "file_extension": ".py",
   "mimetype": "text/x-python",
   "name": "python",
   "nbconvert_exporter": "python",
   "pygments_lexer": "ipython3",
   "version": "3.8.10"
  }
 },
 "nbformat": 4,
 "nbformat_minor": 1
}
