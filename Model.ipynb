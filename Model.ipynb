{
 "cells": [
  {
   "cell_type": "code",
   "execution_count": 1,
   "metadata": {
    "id": "uaKzqUxsdjDa"
   },
   "outputs": [
    {
     "name": "stderr",
     "output_type": "stream",
     "text": [
      "/home/dro/.local/lib/python3.8/site-packages/scipy/__init__.py:146: UserWarning: A NumPy version >=1.16.5 and <1.23.0 is required for this version of SciPy (detected version 1.23.3\n",
      "  warnings.warn(f\"A NumPy version >={np_minversion} and <{np_maxversion}\"\n"
     ]
    }
   ],
   "source": [
    "import pandas as pd\n",
    "import seaborn as sns\n",
    "import matplotlib.pyplot as plt\n",
    "from sklearn.model_selection import train_test_split\n",
    "from sklearn.ensemble import RandomForestClassifier\n",
    "\n",
    "%matplotlib inline"
   ]
  },
  {
   "cell_type": "code",
   "execution_count": 2,
   "metadata": {
    "colab": {
     "base_uri": "https://localhost:8080/"
    },
    "id": "2scLoULoXkT0",
    "outputId": "f34d3abd-0c25-4cb1-bc9a-36e9a8739c3a"
   },
   "outputs": [
    {
     "name": "stderr",
     "output_type": "stream",
     "text": [
      "/tmp/ipykernel_631872/398589533.py:1: DtypeWarning: Columns (2) have mixed types. Specify dtype option on import or set low_memory=False.\n",
      "  df = pd.read_csv(\"train_dataset_train.csv\")\n",
      "/tmp/ipykernel_631872/398589533.py:2: DtypeWarning: Columns (2) have mixed types. Specify dtype option on import or set low_memory=False.\n",
      "  test = pd.read_csv('test_dataset_test.csv')\n"
     ]
    }
   ],
   "source": [
    "df = pd.read_csv(\"train_dataset_train.csv\")\n",
    "test = pd.read_csv('test_dataset_test.csv')"
   ]
  },
  {
   "cell_type": "code",
   "execution_count": 3,
   "metadata": {
    "id": "wuSmnOhneooh"
   },
   "outputs": [],
   "source": [
    "df[\"is_in_yandex\"] = pd.Categorical(df[\"is_in_yandex\"])\n",
    "df[\"is_in_yandex\"].astype('category').cat.codes\n",
    "df[\"is_in_yandex\"] = df[\"is_in_yandex\"].cat.codes"
   ]
  },
  {
   "cell_type": "code",
   "execution_count": 4,
   "metadata": {
    "id": "wuSmnOhneooh"
   },
   "outputs": [],
   "source": [
    "test[\"is_in_yandex\"] = pd.Categorical(test[\"is_in_yandex\"])\n",
    "test[\"is_in_yandex\"].astype('category').cat.codes\n",
    "test[\"is_in_yandex\"] = test[\"is_in_yandex\"].cat.codes"
   ]
  },
  {
   "cell_type": "code",
   "execution_count": 5,
   "metadata": {
    "id": "vdTdoZs293hM"
   },
   "outputs": [],
   "source": [
    "df[\"is_return\"] = pd.Categorical(df[\"is_return\"])\n",
    "df[\"is_return\"].astype('category').cat.codes\n",
    "df[\"is_return\"] = df[\"is_return\"].cat.codes"
   ]
  },
  {
   "cell_type": "code",
   "execution_count": 6,
   "metadata": {
    "id": "vdTdoZs293hM"
   },
   "outputs": [],
   "source": [
    "test[\"is_return\"] = pd.Categorical(test[\"is_return\"])\n",
    "test[\"is_return\"].astype('category').cat.codes\n",
    "test[\"is_return\"] = test[\"is_return\"].cat.codes"
   ]
  },
  {
   "cell_type": "markdown",
   "metadata": {
    "id": "V-7e0uZ0As9z"
   },
   "source": [
    "Обьединим список не нужных строк с списком строк типа object"
   ]
  },
  {
   "cell_type": "code",
   "execution_count": 7,
   "metadata": {
    "id": "PYDt4hVn_GB9"
   },
   "outputs": [],
   "source": [
    "col_obj = df.select_dtypes(include=['object']).columns.values\n",
    "col_obj = list(set(col_obj) ^ set([\"id\", \"label\"]))"
   ]
  },
  {
   "cell_type": "code",
   "execution_count": 8,
   "metadata": {
    "colab": {
     "base_uri": "https://localhost:8080/"
    },
    "id": "lcpuRWOTAoGJ",
    "outputId": "5b4db5c0-e6f8-4208-b981-aafc9c5c23c5"
   },
   "outputs": [
    {
     "data": {
      "text/plain": [
       "['name_mfi',\n",
       " 'label',\n",
       " 'is_privatecategory',\n",
       " 'index_oper',\n",
       " 'oper_type + oper_attr',\n",
       " 'id',\n",
       " 'type']"
      ]
     },
     "execution_count": 8,
     "metadata": {},
     "output_type": "execute_result"
    }
   ],
   "source": [
    "col_obj"
   ]
  },
  {
   "cell_type": "code",
   "execution_count": 9,
   "metadata": {
    "id": "mkCL9b-8hmZ1"
   },
   "outputs": [],
   "source": [
    "X = df.drop(col_obj, axis = 1)\n",
    "y = df[[\"label\"]]"
   ]
  },
  {
   "cell_type": "code",
   "execution_count": 10,
   "metadata": {
    "id": "NfIOX9Lbik_i"
   },
   "outputs": [],
   "source": [
    "X_train, X_test, y_train, y_test = train_test_split(X, y, test_size=0.1, random_state=42)"
   ]
  },
  {
   "cell_type": "markdown",
   "metadata": {
    "id": "60NotS9ehbO5"
   },
   "source": [
    "## Обучение модели"
   ]
  },
  {
   "cell_type": "code",
   "execution_count": 15,
   "metadata": {},
   "outputs": [],
   "source": [
    "from sklearn.metrics import recall_score\n",
    "\n",
    "def scorer(y_true, y_pred):\n",
    "\n",
    "    return 'recall', recall_score(y_true, y_pred > 0.01, average='macro'), True"
   ]
  },
  {
   "cell_type": "code",
   "execution_count": 16,
   "metadata": {},
   "outputs": [],
   "source": [
    "import lightgbm as lgb"
   ]
  },
  {
   "cell_type": "code",
   "execution_count": 17,
   "metadata": {
    "id": "jc-KKFlWf6_N"
   },
   "outputs": [],
   "source": [
    "clf = lgb.LGBMClassifier(num_leaves=12023, random_state=42, n_estimators=100)"
   ]
  },
  {
   "cell_type": "code",
   "execution_count": 18,
   "metadata": {
    "colab": {
     "base_uri": "https://localhost:8080/"
    },
    "id": "bc8JAH4yf7Bs",
    "outputId": "6cf27cb3-b919-402d-cae3-f1fabc8ecc10"
   },
   "outputs": [
    {
     "name": "stderr",
     "output_type": "stream",
     "text": [
      "/home/dro/.local/lib/python3.8/site-packages/sklearn/preprocessing/_label.py:98: DataConversionWarning: A column-vector y was passed when a 1d array was expected. Please change the shape of y to (n_samples, ), for example using ravel().\n",
      "  y = column_or_1d(y, warn=True)\n",
      "/home/dro/.local/lib/python3.8/site-packages/sklearn/preprocessing/_label.py:133: DataConversionWarning: A column-vector y was passed when a 1d array was expected. Please change the shape of y to (n_samples, ), for example using ravel().\n",
      "  y = column_or_1d(y, warn=True)\n"
     ]
    },
    {
     "name": "stdout",
     "output_type": "stream",
     "text": [
      "[1]\tvalid_0's binary_logloss: 0.106671\tvalid_0's recall: 0.5\n",
      "[2]\tvalid_0's binary_logloss: 0.100938\tvalid_0's recall: 0.5\n",
      "[3]\tvalid_0's binary_logloss: 0.0968316\tvalid_0's recall: 0.5\n",
      "[4]\tvalid_0's binary_logloss: 0.0936411\tvalid_0's recall: 0.5\n",
      "[5]\tvalid_0's binary_logloss: 0.0911032\tvalid_0's recall: 0.5\n",
      "[6]\tvalid_0's binary_logloss: 0.0890062\tvalid_0's recall: 0.5\n",
      "[7]\tvalid_0's binary_logloss: 0.0872493\tvalid_0's recall: 0.5\n",
      "[8]\tvalid_0's binary_logloss: 0.0857361\tvalid_0's recall: 0.5\n",
      "[9]\tvalid_0's binary_logloss: 0.0844627\tvalid_0's recall: 0.5\n",
      "[10]\tvalid_0's binary_logloss: 0.0833423\tvalid_0's recall: 0.5\n",
      "[11]\tvalid_0's binary_logloss: 0.08241\tvalid_0's recall: 0.823683\n",
      "[12]\tvalid_0's binary_logloss: 0.0816227\tvalid_0's recall: 0.830349\n",
      "[13]\tvalid_0's binary_logloss: 0.0809146\tvalid_0's recall: 0.836058\n",
      "[14]\tvalid_0's binary_logloss: 0.080289\tvalid_0's recall: 0.848343\n",
      "[15]\tvalid_0's binary_logloss: 0.0797558\tvalid_0's recall: 0.861075\n",
      "[16]\tvalid_0's binary_logloss: 0.0793178\tvalid_0's recall: 0.864522\n",
      "[17]\tvalid_0's binary_logloss: 0.0789298\tvalid_0's recall: 0.86716\n",
      "[18]\tvalid_0's binary_logloss: 0.0785697\tvalid_0's recall: 0.868855\n",
      "[19]\tvalid_0's binary_logloss: 0.0782725\tvalid_0's recall: 0.870103\n",
      "[20]\tvalid_0's binary_logloss: 0.0780185\tvalid_0's recall: 0.871468\n",
      "[21]\tvalid_0's binary_logloss: 0.0778019\tvalid_0's recall: 0.871827\n",
      "[22]\tvalid_0's binary_logloss: 0.0776333\tvalid_0's recall: 0.872716\n",
      "[23]\tvalid_0's binary_logloss: 0.0775261\tvalid_0's recall: 0.873266\n",
      "[24]\tvalid_0's binary_logloss: 0.0773386\tvalid_0's recall: 0.874009\n",
      "[25]\tvalid_0's binary_logloss: 0.0772355\tvalid_0's recall: 0.874231\n",
      "[26]\tvalid_0's binary_logloss: 0.0771301\tvalid_0's recall: 0.874997\n",
      "[27]\tvalid_0's binary_logloss: 0.0770512\tvalid_0's recall: 0.875306\n",
      "[28]\tvalid_0's binary_logloss: 0.0770386\tvalid_0's recall: 0.875716\n",
      "[29]\tvalid_0's binary_logloss: 0.0769915\tvalid_0's recall: 0.875913\n",
      "[30]\tvalid_0's binary_logloss: 0.0770077\tvalid_0's recall: 0.876236\n",
      "[31]\tvalid_0's binary_logloss: 0.0770447\tvalid_0's recall: 0.876712\n",
      "[32]\tvalid_0's binary_logloss: 0.0770248\tvalid_0's recall: 0.877128\n",
      "[33]\tvalid_0's binary_logloss: 0.0770228\tvalid_0's recall: 0.877463\n",
      "[34]\tvalid_0's binary_logloss: 0.0770358\tvalid_0's recall: 0.877635\n",
      "[35]\tvalid_0's binary_logloss: 0.0771018\tvalid_0's recall: 0.877975\n",
      "[36]\tvalid_0's binary_logloss: 0.0771316\tvalid_0's recall: 0.878051\n",
      "[37]\tvalid_0's binary_logloss: 0.0771906\tvalid_0's recall: 0.878383\n",
      "[38]\tvalid_0's binary_logloss: 0.0771412\tvalid_0's recall: 0.878494\n",
      "[39]\tvalid_0's binary_logloss: 0.0771959\tvalid_0's recall: 0.878719\n",
      "[40]\tvalid_0's binary_logloss: 0.0772306\tvalid_0's recall: 0.878895\n",
      "[41]\tvalid_0's binary_logloss: 0.0772608\tvalid_0's recall: 0.879069\n",
      "[42]\tvalid_0's binary_logloss: 0.0772997\tvalid_0's recall: 0.879259\n",
      "[43]\tvalid_0's binary_logloss: 0.077411\tvalid_0's recall: 0.879285\n",
      "[44]\tvalid_0's binary_logloss: 0.0774733\tvalid_0's recall: 0.879556\n",
      "[45]\tvalid_0's binary_logloss: 0.0776843\tvalid_0's recall: 0.8794\n",
      "[46]\tvalid_0's binary_logloss: 0.0776832\tvalid_0's recall: 0.879778\n",
      "[47]\tvalid_0's binary_logloss: 0.0780301\tvalid_0's recall: 0.880047\n",
      "[48]\tvalid_0's binary_logloss: 0.0777595\tvalid_0's recall: 0.880403\n",
      "[49]\tvalid_0's binary_logloss: 0.0780945\tvalid_0's recall: 0.880661\n",
      "[50]\tvalid_0's binary_logloss: 0.0781076\tvalid_0's recall: 0.880627\n",
      "[51]\tvalid_0's binary_logloss: 0.0780812\tvalid_0's recall: 0.880627\n",
      "[52]\tvalid_0's binary_logloss: 0.0782357\tvalid_0's recall: 0.880888\n",
      "[53]\tvalid_0's binary_logloss: 0.0781278\tvalid_0's recall: 0.881048\n",
      "[54]\tvalid_0's binary_logloss: 0.0783146\tvalid_0's recall: 0.88084\n",
      "[55]\tvalid_0's binary_logloss: 0.07831\tvalid_0's recall: 0.881437\n",
      "[56]\tvalid_0's binary_logloss: 0.0783197\tvalid_0's recall: 0.88168\n",
      "[57]\tvalid_0's binary_logloss: 0.0785571\tvalid_0's recall: 0.88152\n",
      "[58]\tvalid_0's binary_logloss: 0.0785048\tvalid_0's recall: 0.881697\n",
      "[59]\tvalid_0's binary_logloss: 0.0790318\tvalid_0's recall: 0.881807\n",
      "[60]\tvalid_0's binary_logloss: 0.0791339\tvalid_0's recall: 0.881561\n",
      "[61]\tvalid_0's binary_logloss: 0.0789497\tvalid_0's recall: 0.881268\n",
      "[62]\tvalid_0's binary_logloss: 0.0794331\tvalid_0's recall: 0.881303\n",
      "[63]\tvalid_0's binary_logloss: 0.0792534\tvalid_0's recall: 0.881261\n",
      "[64]\tvalid_0's binary_logloss: 0.0795351\tvalid_0's recall: 0.881334\n",
      "[65]\tvalid_0's binary_logloss: 0.0793269\tvalid_0's recall: 0.881321\n",
      "[66]\tvalid_0's binary_logloss: 0.0803449\tvalid_0's recall: 0.881279\n",
      "[67]\tvalid_0's binary_logloss: 0.0798119\tvalid_0's recall: 0.881327\n",
      "[68]\tvalid_0's binary_logloss: 0.0795744\tvalid_0's recall: 0.881281\n",
      "[69]\tvalid_0's binary_logloss: 0.0803187\tvalid_0's recall: 0.881385\n",
      "[70]\tvalid_0's binary_logloss: 0.0801918\tvalid_0's recall: 0.881593\n",
      "[71]\tvalid_0's binary_logloss: 0.0801688\tvalid_0's recall: 0.881549\n",
      "[72]\tvalid_0's binary_logloss: 0.0805957\tvalid_0's recall: 0.881203\n",
      "[73]\tvalid_0's binary_logloss: 0.0806525\tvalid_0's recall: 0.881006\n",
      "[74]\tvalid_0's binary_logloss: 0.080768\tvalid_0's recall: 0.88104\n",
      "[75]\tvalid_0's binary_logloss: 0.0812896\tvalid_0's recall: 0.881198\n",
      "[76]\tvalid_0's binary_logloss: 0.0820306\tvalid_0's recall: 0.881103\n",
      "[77]\tvalid_0's binary_logloss: 0.0815496\tvalid_0's recall: 0.881227\n",
      "[78]\tvalid_0's binary_logloss: 0.0818299\tvalid_0's recall: 0.880768\n",
      "[79]\tvalid_0's binary_logloss: 0.0822687\tvalid_0's recall: 0.880897\n",
      "[80]\tvalid_0's binary_logloss: 0.0816207\tvalid_0's recall: 0.880912\n",
      "[81]\tvalid_0's binary_logloss: 0.0833089\tvalid_0's recall: 0.881009\n",
      "[82]\tvalid_0's binary_logloss: 0.0816926\tvalid_0's recall: 0.881004\n",
      "[83]\tvalid_0's binary_logloss: 0.0816796\tvalid_0's recall: 0.88069\n",
      "[84]\tvalid_0's binary_logloss: 0.0829508\tvalid_0's recall: 0.880782\n",
      "[85]\tvalid_0's binary_logloss: 0.0827789\tvalid_0's recall: 0.880745\n",
      "[86]\tvalid_0's binary_logloss: 0.0813923\tvalid_0's recall: 0.880512\n",
      "[87]\tvalid_0's binary_logloss: 0.0832801\tvalid_0's recall: 0.880448\n",
      "[88]\tvalid_0's binary_logloss: 0.0832348\tvalid_0's recall: 0.880015\n",
      "[89]\tvalid_0's binary_logloss: 0.0829766\tvalid_0's recall: 0.879888\n",
      "[90]\tvalid_0's binary_logloss: 0.0847623\tvalid_0's recall: 0.879708\n",
      "[91]\tvalid_0's binary_logloss: 0.0852003\tvalid_0's recall: 0.87957\n",
      "[92]\tvalid_0's binary_logloss: 0.0859928\tvalid_0's recall: 0.879548\n",
      "[93]\tvalid_0's binary_logloss: 0.0856032\tvalid_0's recall: 0.879101\n",
      "[94]\tvalid_0's binary_logloss: 0.0827149\tvalid_0's recall: 0.879024\n",
      "[95]\tvalid_0's binary_logloss: 0.0848938\tvalid_0's recall: 0.878952\n",
      "[96]\tvalid_0's binary_logloss: 0.0873985\tvalid_0's recall: 0.879057\n",
      "[97]\tvalid_0's binary_logloss: 0.0828174\tvalid_0's recall: 0.878963\n",
      "[98]\tvalid_0's binary_logloss: 0.0901269\tvalid_0's recall: 0.878622\n",
      "[99]\tvalid_0's binary_logloss: 0.0903052\tvalid_0's recall: 0.878212\n",
      "[100]\tvalid_0's binary_logloss: 0.0847456\tvalid_0's recall: 0.878296\n"
     ]
    },
    {
     "data": {
      "text/plain": [
       "LGBMClassifier(num_leaves=12023, random_state=42)"
      ]
     },
     "execution_count": 18,
     "metadata": {},
     "output_type": "execute_result"
    }
   ],
   "source": [
    "clf.fit(X_train, y_train, eval_set=(X_test, y_test), eval_metric=scorer)"
   ]
  },
  {
   "cell_type": "markdown",
   "metadata": {
    "id": "DrF2LeJIBNYN"
   },
   "source": [
    "## Оценка точности"
   ]
  },
  {
   "cell_type": "code",
   "execution_count": 19,
   "metadata": {
    "id": "5Ph7vcoxBNYO"
   },
   "outputs": [],
   "source": [
    "pred = clf.predict_proba(X_test)[:, 1] > 0.009"
   ]
  },
  {
   "cell_type": "code",
   "execution_count": 20,
   "metadata": {
    "id": "wfAZwwLXBNYO"
   },
   "outputs": [],
   "source": [
    "from sklearn.metrics import recall_score\n",
    "\n",
    "score = recall_score(y_test, pred, average = \"macro\" )"
   ]
  },
  {
   "cell_type": "code",
   "execution_count": 21,
   "metadata": {
    "colab": {
     "base_uri": "https://localhost:8080/"
    },
    "id": "sX6yHTGUBNYO",
    "outputId": "ab784c04-2e8c-4595-a968-d22f9923b4bd"
   },
   "outputs": [
    {
     "name": "stdout",
     "output_type": "stream",
     "text": [
      "Recall 0.8791976966742499\n"
     ]
    }
   ],
   "source": [
    "print(\"Recall\", score)"
   ]
  },
  {
   "cell_type": "code",
   "execution_count": 22,
   "metadata": {},
   "outputs": [],
   "source": [
    "ss = pd.read_csv('sample_solution.csv')"
   ]
  },
  {
   "cell_type": "code",
   "execution_count": 26,
   "metadata": {},
   "outputs": [],
   "source": [
    "ss['label'] = (clf.predict_proba(test[X_test.columns])[:, 1] > 0.008).astype(int)\n"
   ]
  },
  {
   "cell_type": "code",
   "execution_count": 27,
   "metadata": {},
   "outputs": [],
   "source": [
    "ss.to_csv('solut.csv', index=False)"
   ]
  },
  {
   "cell_type": "code",
   "execution_count": 28,
   "metadata": {},
   "outputs": [
    {
     "data": {
      "text/plain": [
       "0.1903635"
      ]
     },
     "execution_count": 28,
     "metadata": {},
     "output_type": "execute_result"
    }
   ],
   "source": [
    "ss['label'].mean()"
   ]
  },
  {
   "cell_type": "code",
   "execution_count": 29,
   "metadata": {},
   "outputs": [
    {
     "data": {
      "text/plain": [
       "0.1903635"
      ]
     },
     "execution_count": 29,
     "metadata": {},
     "output_type": "execute_result"
    }
   ],
   "source": [
    "ss['label'].mean()"
   ]
  }
 ],
 "metadata": {
  "colab": {
   "provenance": []
  },
  "kernelspec": {
   "display_name": "Python 3 (ipykernel)",
   "language": "python",
   "name": "python3"
  },
  "language_info": {
   "codemirror_mode": {
    "name": "ipython",
    "version": 3
   },
   "file_extension": ".py",
   "mimetype": "text/x-python",
   "name": "python",
   "nbconvert_exporter": "python",
   "pygments_lexer": "ipython3",
   "version": "3.8.10"
  }
 },
 "nbformat": 4,
 "nbformat_minor": 1
}
