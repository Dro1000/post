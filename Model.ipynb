{
 "cells": [
  {
   "cell_type": "code",
   "execution_count": 1,
   "metadata": {
    "id": "uaKzqUxsdjDa"
   },
   "outputs": [
    {
     "name": "stderr",
     "output_type": "stream",
     "text": [
      "/home/dro/.local/lib/python3.8/site-packages/scipy/__init__.py:146: UserWarning: A NumPy version >=1.16.5 and <1.23.0 is required for this version of SciPy (detected version 1.23.3\n",
      "  warnings.warn(f\"A NumPy version >={np_minversion} and <{np_maxversion}\"\n"
     ]
    }
   ],
   "source": [
    "import pandas as pd\n",
    "import seaborn as sns\n",
    "import matplotlib.pyplot as plt\n",
    "from sklearn.model_selection import train_test_split\n",
    "from sklearn.ensemble import RandomForestClassifier\n",
    "\n",
    "%matplotlib inline"
   ]
  },
  {
   "cell_type": "code",
   "execution_count": 2,
   "metadata": {
    "colab": {
     "base_uri": "https://localhost:8080/"
    },
    "id": "2scLoULoXkT0",
    "outputId": "f34d3abd-0c25-4cb1-bc9a-36e9a8739c3a"
   },
   "outputs": [
    {
     "name": "stderr",
     "output_type": "stream",
     "text": [
      "/tmp/ipykernel_615702/398589533.py:1: DtypeWarning: Columns (2) have mixed types. Specify dtype option on import or set low_memory=False.\n",
      "  df = pd.read_csv(\"train_dataset_train.csv\")\n",
      "/tmp/ipykernel_615702/398589533.py:2: DtypeWarning: Columns (2) have mixed types. Specify dtype option on import or set low_memory=False.\n",
      "  test = pd.read_csv('test_dataset_test.csv')\n"
     ]
    }
   ],
   "source": [
    "df = pd.read_csv(\"train_dataset_train.csv\")\n",
    "test = pd.read_csv('test_dataset_test.csv')"
   ]
  },
  {
   "cell_type": "code",
   "execution_count": 3,
   "metadata": {
    "id": "wuSmnOhneooh"
   },
   "outputs": [],
   "source": [
    "df[\"is_in_yandex\"] = pd.Categorical(df[\"is_in_yandex\"])\n",
    "df[\"is_in_yandex\"].astype('category').cat.codes\n",
    "df[\"is_in_yandex\"] = df[\"is_in_yandex\"].cat.codes"
   ]
  },
  {
   "cell_type": "code",
   "execution_count": 4,
   "metadata": {
    "id": "wuSmnOhneooh"
   },
   "outputs": [],
   "source": [
    "test[\"is_in_yandex\"] = pd.Categorical(test[\"is_in_yandex\"])\n",
    "test[\"is_in_yandex\"].astype('category').cat.codes\n",
    "test[\"is_in_yandex\"] = test[\"is_in_yandex\"].cat.codes"
   ]
  },
  {
   "cell_type": "code",
   "execution_count": 5,
   "metadata": {
    "id": "vdTdoZs293hM"
   },
   "outputs": [],
   "source": [
    "df[\"is_return\"] = pd.Categorical(df[\"is_return\"])\n",
    "df[\"is_return\"].astype('category').cat.codes\n",
    "df[\"is_return\"] = df[\"is_return\"].cat.codes"
   ]
  },
  {
   "cell_type": "code",
   "execution_count": 6,
   "metadata": {
    "id": "vdTdoZs293hM"
   },
   "outputs": [],
   "source": [
    "test[\"is_return\"] = pd.Categorical(test[\"is_return\"])\n",
    "test[\"is_return\"].astype('category').cat.codes\n",
    "test[\"is_return\"] = test[\"is_return\"].cat.codes"
   ]
  },
  {
   "cell_type": "markdown",
   "metadata": {
    "id": "V-7e0uZ0As9z"
   },
   "source": [
    "Обьединим список не нужных строк с списком строк типа object"
   ]
  },
  {
   "cell_type": "code",
   "execution_count": 7,
   "metadata": {
    "id": "PYDt4hVn_GB9"
   },
   "outputs": [],
   "source": [
    "col_obj = df.select_dtypes(include=['object']).columns.values\n",
    "col_obj = list(set(col_obj) ^ set([\"id\", \"label\"]))"
   ]
  },
  {
   "cell_type": "code",
   "execution_count": 8,
   "metadata": {
    "colab": {
     "base_uri": "https://localhost:8080/"
    },
    "id": "lcpuRWOTAoGJ",
    "outputId": "5b4db5c0-e6f8-4208-b981-aafc9c5c23c5"
   },
   "outputs": [
    {
     "data": {
      "text/plain": [
       "['name_mfi',\n",
       " 'type',\n",
       " 'index_oper',\n",
       " 'is_privatecategory',\n",
       " 'label',\n",
       " 'oper_type + oper_attr',\n",
       " 'id']"
      ]
     },
     "execution_count": 8,
     "metadata": {},
     "output_type": "execute_result"
    }
   ],
   "source": [
    "col_obj"
   ]
  },
  {
   "cell_type": "code",
   "execution_count": 9,
   "metadata": {
    "id": "mkCL9b-8hmZ1"
   },
   "outputs": [],
   "source": [
    "X = df.drop(col_obj, axis = 1)\n",
    "y = df[[\"label\"]]"
   ]
  },
  {
   "cell_type": "code",
   "execution_count": 10,
   "metadata": {
    "id": "NfIOX9Lbik_i"
   },
   "outputs": [],
   "source": [
    "X_train, X_test, y_train, y_test = train_test_split(X, y, test_size=0.1, random_state=42)"
   ]
  },
  {
   "cell_type": "markdown",
   "metadata": {
    "id": "60NotS9ehbO5"
   },
   "source": [
    "## Обучение модели"
   ]
  },
  {
   "cell_type": "code",
   "execution_count": 11,
   "metadata": {},
   "outputs": [],
   "source": [
    "import lightgbm as lgb"
   ]
  },
  {
   "cell_type": "code",
   "execution_count": 30,
   "metadata": {
    "id": "jc-KKFlWf6_N"
   },
   "outputs": [],
   "source": [
    "clf = lgb.LGBMClassifier(num_leaves=4023, random_state=42)"
   ]
  },
  {
   "cell_type": "code",
   "execution_count": 30,
   "metadata": {
    "id": "jc-KKFlWf6_N"
   },
   "outputs": [],
   "source": [
    "#clf = lgb.LGBMClassifier(num_leaves=4023, random_state=42, n_estimators=400, learning_rate=0.02)"
   ]
  },
  {
   "cell_type": "code",
   "execution_count": null,
   "metadata": {
    "colab": {
     "base_uri": "https://localhost:8080/"
    },
    "id": "bc8JAH4yf7Bs",
    "outputId": "6cf27cb3-b919-402d-cae3-f1fabc8ecc10"
   },
   "outputs": [
    {
     "name": "stderr",
     "output_type": "stream",
     "text": [
      "/home/dro/.local/lib/python3.8/site-packages/sklearn/preprocessing/_label.py:98: DataConversionWarning: A column-vector y was passed when a 1d array was expected. Please change the shape of y to (n_samples, ), for example using ravel().\n",
      "  y = column_or_1d(y, warn=True)\n",
      "/home/dro/.local/lib/python3.8/site-packages/sklearn/preprocessing/_label.py:133: DataConversionWarning: A column-vector y was passed when a 1d array was expected. Please change the shape of y to (n_samples, ), for example using ravel().\n",
      "  y = column_or_1d(y, warn=True)\n"
     ]
    },
    {
     "name": "stdout",
     "output_type": "stream",
     "text": [
      "[1]\tvalid_0's binary_logloss: 0.125359\n",
      "[2]\tvalid_0's binary_logloss: 0.121582\n",
      "[3]\tvalid_0's binary_logloss: 0.118534\n",
      "[4]\tvalid_0's binary_logloss: 0.115944\n",
      "[5]\tvalid_0's binary_logloss: 0.113677\n",
      "[6]\tvalid_0's binary_logloss: 0.11167\n",
      "[7]\tvalid_0's binary_logloss: 0.109859\n",
      "[8]\tvalid_0's binary_logloss: 0.108215\n",
      "[9]\tvalid_0's binary_logloss: 0.106721\n",
      "[10]\tvalid_0's binary_logloss: 0.105322\n",
      "[11]\tvalid_0's binary_logloss: 0.104027\n",
      "[12]\tvalid_0's binary_logloss: 0.102821\n",
      "[13]\tvalid_0's binary_logloss: 0.101696\n",
      "[14]\tvalid_0's binary_logloss: 0.100638\n",
      "[15]\tvalid_0's binary_logloss: 0.0996443\n",
      "[16]\tvalid_0's binary_logloss: 0.0987058\n",
      "[17]\tvalid_0's binary_logloss: 0.0978247\n",
      "[18]\tvalid_0's binary_logloss: 0.0969857\n",
      "[19]\tvalid_0's binary_logloss: 0.0961927\n",
      "[20]\tvalid_0's binary_logloss: 0.0954327\n",
      "[21]\tvalid_0's binary_logloss: 0.0947068\n",
      "[22]\tvalid_0's binary_logloss: 0.0940187\n",
      "[23]\tvalid_0's binary_logloss: 0.0933605\n",
      "[24]\tvalid_0's binary_logloss: 0.09273\n",
      "[25]\tvalid_0's binary_logloss: 0.0921236\n",
      "[26]\tvalid_0's binary_logloss: 0.091549\n",
      "[27]\tvalid_0's binary_logloss: 0.0909962\n",
      "[28]\tvalid_0's binary_logloss: 0.0904677\n",
      "[29]\tvalid_0's binary_logloss: 0.0899594\n",
      "[30]\tvalid_0's binary_logloss: 0.0894678\n",
      "[31]\tvalid_0's binary_logloss: 0.0889898\n",
      "[32]\tvalid_0's binary_logloss: 0.0885367\n",
      "[33]\tvalid_0's binary_logloss: 0.0880955\n",
      "[34]\tvalid_0's binary_logloss: 0.087674\n",
      "[35]\tvalid_0's binary_logloss: 0.087264\n",
      "[36]\tvalid_0's binary_logloss: 0.0868659\n",
      "[37]\tvalid_0's binary_logloss: 0.0864872\n",
      "[38]\tvalid_0's binary_logloss: 0.0861214\n",
      "[39]\tvalid_0's binary_logloss: 0.085767\n",
      "[40]\tvalid_0's binary_logloss: 0.0854254\n",
      "[41]\tvalid_0's binary_logloss: 0.0850951\n",
      "[42]\tvalid_0's binary_logloss: 0.0847779\n",
      "[43]\tvalid_0's binary_logloss: 0.0844663\n",
      "[44]\tvalid_0's binary_logloss: 0.0841667\n",
      "[45]\tvalid_0's binary_logloss: 0.0838756\n",
      "[46]\tvalid_0's binary_logloss: 0.0835912\n",
      "[47]\tvalid_0's binary_logloss: 0.0833167\n",
      "[48]\tvalid_0's binary_logloss: 0.0830513\n",
      "[49]\tvalid_0's binary_logloss: 0.0827943\n",
      "[50]\tvalid_0's binary_logloss: 0.0825454\n",
      "[51]\tvalid_0's binary_logloss: 0.0823027\n",
      "[52]\tvalid_0's binary_logloss: 0.0820675\n",
      "[53]\tvalid_0's binary_logloss: 0.0818414\n",
      "[54]\tvalid_0's binary_logloss: 0.0816228\n",
      "[55]\tvalid_0's binary_logloss: 0.0814135\n",
      "[56]\tvalid_0's binary_logloss: 0.0812074\n",
      "[57]\tvalid_0's binary_logloss: 0.0810038\n",
      "[58]\tvalid_0's binary_logloss: 0.0808097\n",
      "[59]\tvalid_0's binary_logloss: 0.0806183\n",
      "[60]\tvalid_0's binary_logloss: 0.0804355\n",
      "[61]\tvalid_0's binary_logloss: 0.0802567\n",
      "[62]\tvalid_0's binary_logloss: 0.0800765\n",
      "[63]\tvalid_0's binary_logloss: 0.0799109\n",
      "[64]\tvalid_0's binary_logloss: 0.0797474\n",
      "[65]\tvalid_0's binary_logloss: 0.0795803\n",
      "[66]\tvalid_0's binary_logloss: 0.0794208\n",
      "[67]\tvalid_0's binary_logloss: 0.0792636\n",
      "[68]\tvalid_0's binary_logloss: 0.0791114\n",
      "[69]\tvalid_0's binary_logloss: 0.0789631\n",
      "[70]\tvalid_0's binary_logloss: 0.0788162\n",
      "[71]\tvalid_0's binary_logloss: 0.0786793\n",
      "[72]\tvalid_0's binary_logloss: 0.078546\n",
      "[73]\tvalid_0's binary_logloss: 0.0784147\n",
      "[74]\tvalid_0's binary_logloss: 0.0782873\n",
      "[75]\tvalid_0's binary_logloss: 0.0781652\n",
      "[76]\tvalid_0's binary_logloss: 0.0780427\n",
      "[77]\tvalid_0's binary_logloss: 0.0779267\n",
      "[78]\tvalid_0's binary_logloss: 0.0778084\n",
      "[79]\tvalid_0's binary_logloss: 0.077697\n",
      "[80]\tvalid_0's binary_logloss: 0.0775881\n",
      "[81]\tvalid_0's binary_logloss: 0.077486\n",
      "[82]\tvalid_0's binary_logloss: 0.0773843\n",
      "[83]\tvalid_0's binary_logloss: 0.0772785\n",
      "[84]\tvalid_0's binary_logloss: 0.0771748\n",
      "[85]\tvalid_0's binary_logloss: 0.0770787\n",
      "[86]\tvalid_0's binary_logloss: 0.0769852\n",
      "[87]\tvalid_0's binary_logloss: 0.0768995\n",
      "[88]\tvalid_0's binary_logloss: 0.076812\n",
      "[89]\tvalid_0's binary_logloss: 0.0767268\n",
      "[90]\tvalid_0's binary_logloss: 0.0766476\n",
      "[91]\tvalid_0's binary_logloss: 0.076562\n",
      "[92]\tvalid_0's binary_logloss: 0.0764855\n",
      "[93]\tvalid_0's binary_logloss: 0.0764062\n",
      "[94]\tvalid_0's binary_logloss: 0.0763271\n",
      "[95]\tvalid_0's binary_logloss: 0.0762512\n",
      "[96]\tvalid_0's binary_logloss: 0.076175\n",
      "[97]\tvalid_0's binary_logloss: 0.0761027\n",
      "[98]\tvalid_0's binary_logloss: 0.0760292\n",
      "[99]\tvalid_0's binary_logloss: 0.0759638\n",
      "[100]\tvalid_0's binary_logloss: 0.0758988\n",
      "[101]\tvalid_0's binary_logloss: 0.0758362\n",
      "[102]\tvalid_0's binary_logloss: 0.0757703\n",
      "[103]\tvalid_0's binary_logloss: 0.0757065\n",
      "[104]\tvalid_0's binary_logloss: 0.0756444\n",
      "[105]\tvalid_0's binary_logloss: 0.0755863\n",
      "[106]\tvalid_0's binary_logloss: 0.0755279\n",
      "[107]\tvalid_0's binary_logloss: 0.0754716\n",
      "[108]\tvalid_0's binary_logloss: 0.0754109\n",
      "[109]\tvalid_0's binary_logloss: 0.0753533\n",
      "[110]\tvalid_0's binary_logloss: 0.0753041\n",
      "[111]\tvalid_0's binary_logloss: 0.0752626\n",
      "[112]\tvalid_0's binary_logloss: 0.0752149\n",
      "[113]\tvalid_0's binary_logloss: 0.0751698\n",
      "[114]\tvalid_0's binary_logloss: 0.0751345\n",
      "[115]\tvalid_0's binary_logloss: 0.075095\n",
      "[116]\tvalid_0's binary_logloss: 0.0750529\n",
      "[117]\tvalid_0's binary_logloss: 0.0750186\n",
      "[118]\tvalid_0's binary_logloss: 0.0749844\n",
      "[119]\tvalid_0's binary_logloss: 0.0749506\n",
      "[120]\tvalid_0's binary_logloss: 0.0749163\n",
      "[121]\tvalid_0's binary_logloss: 0.0748835\n",
      "[122]\tvalid_0's binary_logloss: 0.0748469\n",
      "[123]\tvalid_0's binary_logloss: 0.0748189\n",
      "[124]\tvalid_0's binary_logloss: 0.0747885\n",
      "[125]\tvalid_0's binary_logloss: 0.0747576\n",
      "[126]\tvalid_0's binary_logloss: 0.0747304\n",
      "[127]\tvalid_0's binary_logloss: 0.0747004\n",
      "[128]\tvalid_0's binary_logloss: 0.0746751\n",
      "[129]\tvalid_0's binary_logloss: 0.0746421\n",
      "[130]\tvalid_0's binary_logloss: 0.0746178\n",
      "[131]\tvalid_0's binary_logloss: 0.0745928\n",
      "[132]\tvalid_0's binary_logloss: 0.0745641\n",
      "[133]\tvalid_0's binary_logloss: 0.074535\n",
      "[134]\tvalid_0's binary_logloss: 0.0745099\n",
      "[135]\tvalid_0's binary_logloss: 0.074484\n",
      "[136]\tvalid_0's binary_logloss: 0.0744591\n",
      "[137]\tvalid_0's binary_logloss: 0.0744316\n",
      "[138]\tvalid_0's binary_logloss: 0.0743959\n",
      "[139]\tvalid_0's binary_logloss: 0.0743688\n",
      "[140]\tvalid_0's binary_logloss: 0.0743464\n",
      "[141]\tvalid_0's binary_logloss: 0.0743215\n",
      "[142]\tvalid_0's binary_logloss: 0.0743038\n",
      "[143]\tvalid_0's binary_logloss: 0.0742868\n",
      "[144]\tvalid_0's binary_logloss: 0.0742648\n",
      "[145]\tvalid_0's binary_logloss: 0.0742434\n",
      "[146]\tvalid_0's binary_logloss: 0.0742284\n",
      "[147]\tvalid_0's binary_logloss: 0.0742136\n",
      "[148]\tvalid_0's binary_logloss: 0.0741835\n",
      "[149]\tvalid_0's binary_logloss: 0.0741518\n",
      "[150]\tvalid_0's binary_logloss: 0.0741235\n",
      "[151]\tvalid_0's binary_logloss: 0.0741014\n",
      "[152]\tvalid_0's binary_logloss: 0.0740819\n",
      "[153]\tvalid_0's binary_logloss: 0.0740617\n",
      "[154]\tvalid_0's binary_logloss: 0.0740422\n",
      "[155]\tvalid_0's binary_logloss: 0.0740281\n",
      "[156]\tvalid_0's binary_logloss: 0.0740082\n",
      "[157]\tvalid_0's binary_logloss: 0.0739819\n",
      "[158]\tvalid_0's binary_logloss: 0.0739595\n",
      "[159]\tvalid_0's binary_logloss: 0.0739391\n",
      "[160]\tvalid_0's binary_logloss: 0.0739159\n",
      "[161]\tvalid_0's binary_logloss: 0.0739021\n",
      "[162]\tvalid_0's binary_logloss: 0.0738775\n",
      "[163]\tvalid_0's binary_logloss: 0.0738612\n",
      "[164]\tvalid_0's binary_logloss: 0.0738421\n",
      "[165]\tvalid_0's binary_logloss: 0.0738295\n",
      "[166]\tvalid_0's binary_logloss: 0.0738133\n",
      "[167]\tvalid_0's binary_logloss: 0.0737988\n",
      "[168]\tvalid_0's binary_logloss: 0.0737844\n",
      "[169]\tvalid_0's binary_logloss: 0.0737667\n",
      "[170]\tvalid_0's binary_logloss: 0.0737601\n",
      "[171]\tvalid_0's binary_logloss: 0.0737399\n",
      "[172]\tvalid_0's binary_logloss: 0.0737293\n",
      "[173]\tvalid_0's binary_logloss: 0.0737097\n",
      "[174]\tvalid_0's binary_logloss: 0.0736986\n",
      "[175]\tvalid_0's binary_logloss: 0.0736883\n",
      "[176]\tvalid_0's binary_logloss: 0.0736778\n",
      "[177]\tvalid_0's binary_logloss: 0.0736636\n",
      "[178]\tvalid_0's binary_logloss: 0.0736506\n",
      "[179]\tvalid_0's binary_logloss: 0.0736292\n",
      "[180]\tvalid_0's binary_logloss: 0.0736223\n",
      "[181]\tvalid_0's binary_logloss: 0.0736122\n",
      "[182]\tvalid_0's binary_logloss: 0.0736071\n",
      "[183]\tvalid_0's binary_logloss: 0.0735851\n",
      "[184]\tvalid_0's binary_logloss: 0.0735664\n",
      "[185]\tvalid_0's binary_logloss: 0.0735643\n",
      "[186]\tvalid_0's binary_logloss: 0.0735456\n",
      "[187]\tvalid_0's binary_logloss: 0.0735389\n",
      "[188]\tvalid_0's binary_logloss: 0.0735231\n",
      "[189]\tvalid_0's binary_logloss: 0.073507\n",
      "[190]\tvalid_0's binary_logloss: 0.073494\n",
      "[191]\tvalid_0's binary_logloss: 0.0734854\n",
      "[192]\tvalid_0's binary_logloss: 0.073472\n",
      "[193]\tvalid_0's binary_logloss: 0.0734519\n",
      "[194]\tvalid_0's binary_logloss: 0.07345\n",
      "[195]\tvalid_0's binary_logloss: 0.073445\n",
      "[196]\tvalid_0's binary_logloss: 0.0734397\n",
      "[197]\tvalid_0's binary_logloss: 0.0734386\n",
      "[198]\tvalid_0's binary_logloss: 0.07343\n",
      "[199]\tvalid_0's binary_logloss: 0.073432\n"
     ]
    },
    {
     "name": "stdout",
     "output_type": "stream",
     "text": [
      "[200]\tvalid_0's binary_logloss: 0.0734199\n",
      "[201]\tvalid_0's binary_logloss: 0.0734081\n",
      "[202]\tvalid_0's binary_logloss: 0.0734094\n",
      "[203]\tvalid_0's binary_logloss: 0.073395\n",
      "[204]\tvalid_0's binary_logloss: 0.073394\n",
      "[205]\tvalid_0's binary_logloss: 0.073398\n",
      "[206]\tvalid_0's binary_logloss: 0.0733892\n",
      "[207]\tvalid_0's binary_logloss: 0.0733917\n",
      "[208]\tvalid_0's binary_logloss: 0.0733887\n",
      "[209]\tvalid_0's binary_logloss: 0.0733812\n",
      "[210]\tvalid_0's binary_logloss: 0.0733655\n",
      "[211]\tvalid_0's binary_logloss: 0.0733668\n",
      "[212]\tvalid_0's binary_logloss: 0.0733575\n",
      "[213]\tvalid_0's binary_logloss: 0.0733536\n",
      "[214]\tvalid_0's binary_logloss: 0.0733531\n",
      "[215]\tvalid_0's binary_logloss: 0.0733459\n",
      "[216]\tvalid_0's binary_logloss: 0.073348\n",
      "[217]\tvalid_0's binary_logloss: 0.0733419\n",
      "[218]\tvalid_0's binary_logloss: 0.073335\n",
      "[219]\tvalid_0's binary_logloss: 0.0733267\n",
      "[220]\tvalid_0's binary_logloss: 0.0733107\n",
      "[221]\tvalid_0's binary_logloss: 0.0733069\n",
      "[222]\tvalid_0's binary_logloss: 0.0733129\n",
      "[223]\tvalid_0's binary_logloss: 0.0733129\n",
      "[224]\tvalid_0's binary_logloss: 0.0732999\n",
      "[225]\tvalid_0's binary_logloss: 0.0732895\n",
      "[226]\tvalid_0's binary_logloss: 0.0732768\n",
      "[227]\tvalid_0's binary_logloss: 0.0732773\n",
      "[228]\tvalid_0's binary_logloss: 0.0732703\n",
      "[229]\tvalid_0's binary_logloss: 0.0732564\n",
      "[230]\tvalid_0's binary_logloss: 0.0732488\n",
      "[231]\tvalid_0's binary_logloss: 0.0732502\n",
      "[232]\tvalid_0's binary_logloss: 0.0732509\n",
      "[233]\tvalid_0's binary_logloss: 0.0732459\n",
      "[234]\tvalid_0's binary_logloss: 0.0732507\n",
      "[235]\tvalid_0's binary_logloss: 0.0732487\n",
      "[236]\tvalid_0's binary_logloss: 0.0732498\n",
      "[237]\tvalid_0's binary_logloss: 0.0732615\n",
      "[238]\tvalid_0's binary_logloss: 0.0732721\n",
      "[239]\tvalid_0's binary_logloss: 0.0732811\n",
      "[240]\tvalid_0's binary_logloss: 0.07329\n",
      "[241]\tvalid_0's binary_logloss: 0.0732984\n",
      "[242]\tvalid_0's binary_logloss: 0.0733059\n",
      "[243]\tvalid_0's binary_logloss: 0.0733136\n",
      "[244]\tvalid_0's binary_logloss: 0.0733151\n",
      "[245]\tvalid_0's binary_logloss: 0.0733218\n",
      "[246]\tvalid_0's binary_logloss: 0.0733299\n",
      "[247]\tvalid_0's binary_logloss: 0.0733346\n",
      "[248]\tvalid_0's binary_logloss: 0.0733404\n"
     ]
    }
   ],
   "source": [
    "clf.fit(X_train, y_train, eval_set=(X_test, y_test))"
   ]
  },
  {
   "cell_type": "markdown",
   "metadata": {
    "id": "DrF2LeJIBNYN"
   },
   "source": [
    "## Оценка точности"
   ]
  },
  {
   "cell_type": "code",
   "execution_count": 21,
   "metadata": {
    "id": "5Ph7vcoxBNYO"
   },
   "outputs": [],
   "source": [
    "pred = clf.predict_proba(X_test)[:, 1] > 0.009"
   ]
  },
  {
   "cell_type": "code",
   "execution_count": 22,
   "metadata": {
    "id": "wfAZwwLXBNYO"
   },
   "outputs": [],
   "source": [
    "from sklearn.metrics import recall_score\n",
    "\n",
    "score = recall_score(y_test, pred, average = \"macro\" )"
   ]
  },
  {
   "cell_type": "code",
   "execution_count": 23,
   "metadata": {
    "colab": {
     "base_uri": "https://localhost:8080/"
    },
    "id": "sX6yHTGUBNYO",
    "outputId": "ab784c04-2e8c-4595-a968-d22f9923b4bd"
   },
   "outputs": [
    {
     "name": "stdout",
     "output_type": "stream",
     "text": [
      "Recall 0.877085210667472\n"
     ]
    }
   ],
   "source": [
    "print(\"Recall\", score)"
   ]
  },
  {
   "cell_type": "code",
   "execution_count": 24,
   "metadata": {},
   "outputs": [],
   "source": [
    "ss = pd.read_csv('sample_solution.csv')"
   ]
  },
  {
   "cell_type": "code",
   "execution_count": 25,
   "metadata": {},
   "outputs": [],
   "source": [
    "ss['label'] = (clf.predict_proba(test[X_test.columns])[:, 1] > 0.009).astype(int)\n"
   ]
  },
  {
   "cell_type": "code",
   "execution_count": 26,
   "metadata": {},
   "outputs": [],
   "source": [
    "ss.to_csv('solut.csv', index=False)"
   ]
  },
  {
   "cell_type": "code",
   "execution_count": 27,
   "metadata": {},
   "outputs": [
    {
     "data": {
      "text/plain": [
       "0.232862"
      ]
     },
     "execution_count": 27,
     "metadata": {},
     "output_type": "execute_result"
    }
   ],
   "source": [
    "ss['label'].mean()"
   ]
  }
 ],
 "metadata": {
  "colab": {
   "provenance": []
  },
  "kernelspec": {
   "display_name": "Python 3 (ipykernel)",
   "language": "python",
   "name": "python3"
  },
  "language_info": {
   "codemirror_mode": {
    "name": "ipython",
    "version": 3
   },
   "file_extension": ".py",
   "mimetype": "text/x-python",
   "name": "python",
   "nbconvert_exporter": "python",
   "pygments_lexer": "ipython3",
   "version": "3.8.10"
  }
 },
 "nbformat": 4,
 "nbformat_minor": 1
}
