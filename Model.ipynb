{
 "cells": [
  {
   "cell_type": "code",
   "execution_count": 1,
   "metadata": {
    "id": "uaKzqUxsdjDa"
   },
   "outputs": [
    {
     "name": "stderr",
     "output_type": "stream",
     "text": [
      "/home/dro/.local/lib/python3.8/site-packages/scipy/__init__.py:146: UserWarning: A NumPy version >=1.16.5 and <1.23.0 is required for this version of SciPy (detected version 1.23.3\n",
      "  warnings.warn(f\"A NumPy version >={np_minversion} and <{np_maxversion}\"\n"
     ]
    }
   ],
   "source": [
    "import pandas as pd\n",
    "import seaborn as sns\n",
    "import matplotlib.pyplot as plt\n",
    "from sklearn.model_selection import train_test_split\n",
    "from sklearn.ensemble import RandomForestClassifier\n",
    "\n",
    "%matplotlib inline"
   ]
  },
  {
   "cell_type": "code",
   "execution_count": 2,
   "metadata": {
    "colab": {
     "base_uri": "https://localhost:8080/"
    },
    "id": "2scLoULoXkT0",
    "outputId": "f34d3abd-0c25-4cb1-bc9a-36e9a8739c3a"
   },
   "outputs": [
    {
     "name": "stderr",
     "output_type": "stream",
     "text": [
      "/tmp/ipykernel_652925/398589533.py:1: DtypeWarning: Columns (2) have mixed types. Specify dtype option on import or set low_memory=False.\n",
      "  df = pd.read_csv(\"train_dataset_train.csv\")\n",
      "/tmp/ipykernel_652925/398589533.py:2: DtypeWarning: Columns (2) have mixed types. Specify dtype option on import or set low_memory=False.\n",
      "  test = pd.read_csv('test_dataset_test.csv')\n"
     ]
    }
   ],
   "source": [
    "df = pd.read_csv(\"train_dataset_train.csv\")\n",
    "test = pd.read_csv('test_dataset_test.csv')"
   ]
  },
  {
   "cell_type": "code",
   "execution_count": 3,
   "metadata": {},
   "outputs": [],
   "source": [
    "df['index_oper'] = df['index_oper'].astype(str).apply(lambda x: x if len(x) >= 4 else '0').astype(float).astype(int)\n",
    "test['index_oper'] = test['index_oper'].astype(str).apply(lambda x: x if len(x) >= 4 else '0').astype(float).astype(int)"
   ]
  },
  {
   "cell_type": "code",
   "execution_count": 4,
   "metadata": {
    "id": "wuSmnOhneooh"
   },
   "outputs": [],
   "source": [
    "df[\"is_in_yandex\"] = pd.Categorical(df[\"is_in_yandex\"])\n",
    "df[\"is_in_yandex\"].astype('category').cat.codes\n",
    "df[\"is_in_yandex\"] = df[\"is_in_yandex\"].cat.codes"
   ]
  },
  {
   "cell_type": "code",
   "execution_count": 5,
   "metadata": {
    "id": "wuSmnOhneooh"
   },
   "outputs": [],
   "source": [
    "test[\"is_in_yandex\"] = pd.Categorical(test[\"is_in_yandex\"])\n",
    "test[\"is_in_yandex\"].astype('category').cat.codes\n",
    "test[\"is_in_yandex\"] = test[\"is_in_yandex\"].cat.codes"
   ]
  },
  {
   "cell_type": "code",
   "execution_count": 6,
   "metadata": {
    "id": "vdTdoZs293hM"
   },
   "outputs": [],
   "source": [
    "df[\"is_return\"] = pd.Categorical(df[\"is_return\"])\n",
    "df[\"is_return\"].astype('category').cat.codes\n",
    "df[\"is_return\"] = df[\"is_return\"].cat.codes"
   ]
  },
  {
   "cell_type": "code",
   "execution_count": 7,
   "metadata": {
    "id": "vdTdoZs293hM"
   },
   "outputs": [],
   "source": [
    "test[\"is_return\"] = pd.Categorical(test[\"is_return\"])\n",
    "test[\"is_return\"].astype('category').cat.codes\n",
    "test[\"is_return\"] = test[\"is_return\"].cat.codes"
   ]
  },
  {
   "cell_type": "markdown",
   "metadata": {
    "id": "V-7e0uZ0As9z"
   },
   "source": [
    "Обьединим список не нужных строк с списком строк типа object"
   ]
  },
  {
   "cell_type": "code",
   "execution_count": 8,
   "metadata": {},
   "outputs": [],
   "source": [
    "cols_to_enc = ['type']"
   ]
  },
  {
   "cell_type": "code",
   "execution_count": 9,
   "metadata": {},
   "outputs": [],
   "source": [
    "from sklearn.preprocessing import LabelEncoder\n",
    "\n",
    "for col in cols_to_enc:\n",
    "    enc = LabelEncoder()\n",
    "    enc.fit(df[col])\n",
    "    \n",
    "    df[col] = enc.transform(df[col])\n",
    "    test[col] = enc.transform(test[col])"
   ]
  },
  {
   "cell_type": "code",
   "execution_count": 10,
   "metadata": {
    "id": "PYDt4hVn_GB9"
   },
   "outputs": [],
   "source": [
    "col_obj = df.select_dtypes(include=['object']).columns.values\n",
    "col_obj = list(set(col_obj) ^ set([\"id\", \"label\"]))"
   ]
  },
  {
   "cell_type": "code",
   "execution_count": 11,
   "metadata": {
    "colab": {
     "base_uri": "https://localhost:8080/"
    },
    "id": "lcpuRWOTAoGJ",
    "outputId": "5b4db5c0-e6f8-4208-b981-aafc9c5c23c5"
   },
   "outputs": [
    {
     "data": {
      "text/plain": [
       "['oper_type + oper_attr', 'label', 'is_privatecategory', 'name_mfi', 'id']"
      ]
     },
     "execution_count": 11,
     "metadata": {},
     "output_type": "execute_result"
    }
   ],
   "source": [
    "col_obj"
   ]
  },
  {
   "cell_type": "code",
   "execution_count": 12,
   "metadata": {
    "id": "mkCL9b-8hmZ1"
   },
   "outputs": [],
   "source": [
    "X = df.drop(col_obj, axis = 1)\n",
    "y = df[[\"label\"]]"
   ]
  },
  {
   "cell_type": "code",
   "execution_count": 13,
   "metadata": {
    "id": "NfIOX9Lbik_i"
   },
   "outputs": [],
   "source": [
    "X_train, X_test, y_train, y_test = train_test_split(X, y, test_size=0.1, random_state=42)"
   ]
  },
  {
   "cell_type": "markdown",
   "metadata": {
    "id": "60NotS9ehbO5"
   },
   "source": [
    "## Обучение модели"
   ]
  },
  {
   "cell_type": "code",
   "execution_count": 14,
   "metadata": {},
   "outputs": [],
   "source": [
    "from sklearn.metrics import recall_score\n",
    "\n",
    "def scorer(y_true, y_pred):\n",
    "\n",
    "    return 'recall', recall_score(y_true, y_pred > 0.01, average='macro'), True"
   ]
  },
  {
   "cell_type": "code",
   "execution_count": 15,
   "metadata": {},
   "outputs": [],
   "source": [
    "import lightgbm as lgb"
   ]
  },
  {
   "cell_type": "code",
   "execution_count": 16,
   "metadata": {
    "id": "jc-KKFlWf6_N"
   },
   "outputs": [],
   "source": [
    "clf = lgb.LGBMClassifier(num_leaves=12023, random_state=42, n_estimators=100)"
   ]
  },
  {
   "cell_type": "code",
   "execution_count": 17,
   "metadata": {
    "colab": {
     "base_uri": "https://localhost:8080/"
    },
    "id": "bc8JAH4yf7Bs",
    "outputId": "6cf27cb3-b919-402d-cae3-f1fabc8ecc10"
   },
   "outputs": [
    {
     "name": "stderr",
     "output_type": "stream",
     "text": [
      "/home/dro/.local/lib/python3.8/site-packages/sklearn/preprocessing/_label.py:98: DataConversionWarning: A column-vector y was passed when a 1d array was expected. Please change the shape of y to (n_samples, ), for example using ravel().\n",
      "  y = column_or_1d(y, warn=True)\n",
      "/home/dro/.local/lib/python3.8/site-packages/sklearn/preprocessing/_label.py:133: DataConversionWarning: A column-vector y was passed when a 1d array was expected. Please change the shape of y to (n_samples, ), for example using ravel().\n",
      "  y = column_or_1d(y, warn=True)\n"
     ]
    },
    {
     "name": "stdout",
     "output_type": "stream",
     "text": [
      "[1]\tvalid_0's binary_logloss: 0.106418\tvalid_0's recall: 0.5\n",
      "[2]\tvalid_0's binary_logloss: 0.100703\tvalid_0's recall: 0.5\n",
      "[3]\tvalid_0's binary_logloss: 0.0965608\tvalid_0's recall: 0.5\n",
      "[4]\tvalid_0's binary_logloss: 0.0934142\tvalid_0's recall: 0.5\n",
      "[5]\tvalid_0's binary_logloss: 0.090864\tvalid_0's recall: 0.5\n",
      "[6]\tvalid_0's binary_logloss: 0.0887568\tvalid_0's recall: 0.5\n",
      "[7]\tvalid_0's binary_logloss: 0.0869673\tvalid_0's recall: 0.5\n",
      "[8]\tvalid_0's binary_logloss: 0.0854861\tvalid_0's recall: 0.5\n",
      "[9]\tvalid_0's binary_logloss: 0.0842565\tvalid_0's recall: 0.5\n",
      "[10]\tvalid_0's binary_logloss: 0.0831856\tvalid_0's recall: 0.5\n",
      "[11]\tvalid_0's binary_logloss: 0.0822713\tvalid_0's recall: 0.825034\n",
      "[12]\tvalid_0's binary_logloss: 0.081461\tvalid_0's recall: 0.832267\n",
      "[13]\tvalid_0's binary_logloss: 0.0808018\tvalid_0's recall: 0.837693\n",
      "[14]\tvalid_0's binary_logloss: 0.0802006\tvalid_0's recall: 0.851983\n",
      "[15]\tvalid_0's binary_logloss: 0.0796789\tvalid_0's recall: 0.862257\n",
      "[16]\tvalid_0's binary_logloss: 0.0791939\tvalid_0's recall: 0.866003\n",
      "[17]\tvalid_0's binary_logloss: 0.0787953\tvalid_0's recall: 0.867939\n",
      "[18]\tvalid_0's binary_logloss: 0.0784017\tvalid_0's recall: 0.870012\n",
      "[19]\tvalid_0's binary_logloss: 0.0780887\tvalid_0's recall: 0.87101\n",
      "[20]\tvalid_0's binary_logloss: 0.0778712\tvalid_0's recall: 0.871778\n",
      "[21]\tvalid_0's binary_logloss: 0.0776246\tvalid_0's recall: 0.872772\n",
      "[22]\tvalid_0's binary_logloss: 0.0774279\tvalid_0's recall: 0.873644\n",
      "[23]\tvalid_0's binary_logloss: 0.0773011\tvalid_0's recall: 0.874442\n",
      "[24]\tvalid_0's binary_logloss: 0.0771968\tvalid_0's recall: 0.874869\n",
      "[25]\tvalid_0's binary_logloss: 0.0770993\tvalid_0's recall: 0.875579\n",
      "[26]\tvalid_0's binary_logloss: 0.0769813\tvalid_0's recall: 0.876066\n",
      "[27]\tvalid_0's binary_logloss: 0.0768692\tvalid_0's recall: 0.876505\n",
      "[28]\tvalid_0's binary_logloss: 0.0768508\tvalid_0's recall: 0.87699\n",
      "[29]\tvalid_0's binary_logloss: 0.0767451\tvalid_0's recall: 0.877447\n",
      "[30]\tvalid_0's binary_logloss: 0.0767278\tvalid_0's recall: 0.878465\n",
      "[31]\tvalid_0's binary_logloss: 0.0767121\tvalid_0's recall: 0.878796\n",
      "[32]\tvalid_0's binary_logloss: 0.0766969\tvalid_0's recall: 0.878856\n",
      "[33]\tvalid_0's binary_logloss: 0.0766592\tvalid_0's recall: 0.879208\n",
      "[34]\tvalid_0's binary_logloss: 0.07668\tvalid_0's recall: 0.879307\n",
      "[35]\tvalid_0's binary_logloss: 0.0767275\tvalid_0's recall: 0.879761\n",
      "[36]\tvalid_0's binary_logloss: 0.0767933\tvalid_0's recall: 0.880111\n",
      "[37]\tvalid_0's binary_logloss: 0.0767943\tvalid_0's recall: 0.88049\n",
      "[38]\tvalid_0's binary_logloss: 0.0768572\tvalid_0's recall: 0.880753\n",
      "[39]\tvalid_0's binary_logloss: 0.0769345\tvalid_0's recall: 0.880858\n",
      "[40]\tvalid_0's binary_logloss: 0.0770774\tvalid_0's recall: 0.880952\n",
      "[41]\tvalid_0's binary_logloss: 0.0771359\tvalid_0's recall: 0.881062\n",
      "[42]\tvalid_0's binary_logloss: 0.0772596\tvalid_0's recall: 0.881137\n",
      "[43]\tvalid_0's binary_logloss: 0.0772745\tvalid_0's recall: 0.881115\n",
      "[44]\tvalid_0's binary_logloss: 0.0773944\tvalid_0's recall: 0.881215\n",
      "[45]\tvalid_0's binary_logloss: 0.0774943\tvalid_0's recall: 0.881329\n",
      "[46]\tvalid_0's binary_logloss: 0.0775196\tvalid_0's recall: 0.881632\n",
      "[47]\tvalid_0's binary_logloss: 0.0776187\tvalid_0's recall: 0.881965\n",
      "[48]\tvalid_0's binary_logloss: 0.0776834\tvalid_0's recall: 0.882245\n",
      "[49]\tvalid_0's binary_logloss: 0.0777901\tvalid_0's recall: 0.882135\n",
      "[50]\tvalid_0's binary_logloss: 0.0778565\tvalid_0's recall: 0.882174\n",
      "[51]\tvalid_0's binary_logloss: 0.0779832\tvalid_0's recall: 0.882167\n",
      "[52]\tvalid_0's binary_logloss: 0.078404\tvalid_0's recall: 0.882245\n",
      "[53]\tvalid_0's binary_logloss: 0.0783067\tvalid_0's recall: 0.882113\n",
      "[54]\tvalid_0's binary_logloss: 0.0787716\tvalid_0's recall: 0.882199\n",
      "[55]\tvalid_0's binary_logloss: 0.0785553\tvalid_0's recall: 0.882141\n",
      "[56]\tvalid_0's binary_logloss: 0.0788735\tvalid_0's recall: 0.882304\n",
      "[57]\tvalid_0's binary_logloss: 0.0788615\tvalid_0's recall: 0.882327\n",
      "[58]\tvalid_0's binary_logloss: 0.079032\tvalid_0's recall: 0.882421\n",
      "[59]\tvalid_0's binary_logloss: 0.0792761\tvalid_0's recall: 0.882645\n",
      "[60]\tvalid_0's binary_logloss: 0.079619\tvalid_0's recall: 0.882861\n",
      "[61]\tvalid_0's binary_logloss: 0.0796417\tvalid_0's recall: 0.882868\n",
      "[62]\tvalid_0's binary_logloss: 0.0798693\tvalid_0's recall: 0.882823\n",
      "[63]\tvalid_0's binary_logloss: 0.0799021\tvalid_0's recall: 0.882854\n",
      "[64]\tvalid_0's binary_logloss: 0.0794701\tvalid_0's recall: 0.88279\n",
      "[65]\tvalid_0's binary_logloss: 0.080158\tvalid_0's recall: 0.882717\n",
      "[66]\tvalid_0's binary_logloss: 0.0795792\tvalid_0's recall: 0.882804\n",
      "[67]\tvalid_0's binary_logloss: 0.0803436\tvalid_0's recall: 0.882816\n",
      "[68]\tvalid_0's binary_logloss: 0.0806277\tvalid_0's recall: 0.882797\n",
      "[69]\tvalid_0's binary_logloss: 0.0808788\tvalid_0's recall: 0.882791\n",
      "[70]\tvalid_0's binary_logloss: 0.0808325\tvalid_0's recall: 0.882618\n",
      "[71]\tvalid_0's binary_logloss: 0.080974\tvalid_0's recall: 0.882681\n",
      "[72]\tvalid_0's binary_logloss: 0.0814766\tvalid_0's recall: 0.882587\n",
      "[73]\tvalid_0's binary_logloss: 0.0816783\tvalid_0's recall: 0.882573\n",
      "[74]\tvalid_0's binary_logloss: 0.0813855\tvalid_0's recall: 0.88222\n",
      "[75]\tvalid_0's binary_logloss: 0.0818633\tvalid_0's recall: 0.882265\n",
      "[76]\tvalid_0's binary_logloss: 0.0818055\tvalid_0's recall: 0.882237\n",
      "[77]\tvalid_0's binary_logloss: 0.082312\tvalid_0's recall: 0.881493\n",
      "[78]\tvalid_0's binary_logloss: 0.0824157\tvalid_0's recall: 0.881435\n",
      "[79]\tvalid_0's binary_logloss: 0.0834883\tvalid_0's recall: 0.881295\n",
      "[80]\tvalid_0's binary_logloss: 0.0837228\tvalid_0's recall: 0.881215\n",
      "[81]\tvalid_0's binary_logloss: 0.0843757\tvalid_0's recall: 0.881593\n",
      "[82]\tvalid_0's binary_logloss: 0.0851602\tvalid_0's recall: 0.881501\n",
      "[83]\tvalid_0's binary_logloss: 0.0840778\tvalid_0's recall: 0.881636\n",
      "[84]\tvalid_0's binary_logloss: 0.0837556\tvalid_0's recall: 0.881479\n",
      "[85]\tvalid_0's binary_logloss: 0.0858888\tvalid_0's recall: 0.881619\n",
      "[86]\tvalid_0's binary_logloss: 0.0850924\tvalid_0's recall: 0.881449\n",
      "[87]\tvalid_0's binary_logloss: 0.0847488\tvalid_0's recall: 0.881526\n",
      "[88]\tvalid_0's binary_logloss: 0.0884202\tvalid_0's recall: 0.881439\n",
      "[89]\tvalid_0's binary_logloss: 0.0872906\tvalid_0's recall: 0.881338\n",
      "[90]\tvalid_0's binary_logloss: 0.0887904\tvalid_0's recall: 0.881113\n",
      "[91]\tvalid_0's binary_logloss: 0.0869385\tvalid_0's recall: 0.880985\n",
      "[92]\tvalid_0's binary_logloss: 0.087878\tvalid_0's recall: 0.881129\n",
      "[93]\tvalid_0's binary_logloss: 0.0889017\tvalid_0's recall: 0.880996\n",
      "[94]\tvalid_0's binary_logloss: 0.0902428\tvalid_0's recall: 0.88074\n",
      "[95]\tvalid_0's binary_logloss: 0.089057\tvalid_0's recall: 0.880657\n",
      "[96]\tvalid_0's binary_logloss: 0.0936503\tvalid_0's recall: 0.880306\n",
      "[97]\tvalid_0's binary_logloss: 0.0865531\tvalid_0's recall: 0.880414\n",
      "[98]\tvalid_0's binary_logloss: 0.0903778\tvalid_0's recall: 0.880125\n",
      "[99]\tvalid_0's binary_logloss: 0.0918272\tvalid_0's recall: 0.880062\n",
      "[100]\tvalid_0's binary_logloss: 0.103573\tvalid_0's recall: 0.879826\n"
     ]
    },
    {
     "data": {
      "text/plain": [
       "LGBMClassifier(num_leaves=12023, random_state=42)"
      ]
     },
     "execution_count": 17,
     "metadata": {},
     "output_type": "execute_result"
    }
   ],
   "source": [
    "clf.fit(X_train, y_train, eval_set=(X_test, y_test), eval_metric=scorer)"
   ]
  },
  {
   "cell_type": "markdown",
   "metadata": {
    "id": "DrF2LeJIBNYN"
   },
   "source": [
    "## Оценка точности"
   ]
  },
  {
   "cell_type": "code",
   "execution_count": 18,
   "metadata": {
    "id": "5Ph7vcoxBNYO"
   },
   "outputs": [],
   "source": [
    "pred = clf.predict_proba(X_test)[:, 1] > 0.007"
   ]
  },
  {
   "cell_type": "code",
   "execution_count": 19,
   "metadata": {
    "id": "wfAZwwLXBNYO"
   },
   "outputs": [],
   "source": [
    "from sklearn.metrics import recall_score\n",
    "\n",
    "score = recall_score(y_test, pred, average = \"macro\" )"
   ]
  },
  {
   "cell_type": "code",
   "execution_count": 20,
   "metadata": {
    "colab": {
     "base_uri": "https://localhost:8080/"
    },
    "id": "sX6yHTGUBNYO",
    "outputId": "ab784c04-2e8c-4595-a968-d22f9923b4bd"
   },
   "outputs": [
    {
     "name": "stdout",
     "output_type": "stream",
     "text": [
      "Recall 0.8808320819092286\n"
     ]
    }
   ],
   "source": [
    "print(\"Recall\", score)"
   ]
  },
  {
   "cell_type": "code",
   "execution_count": 21,
   "metadata": {},
   "outputs": [],
   "source": [
    "ss = pd.read_csv('sample_solution.csv')"
   ]
  },
  {
   "cell_type": "code",
   "execution_count": 22,
   "metadata": {},
   "outputs": [],
   "source": [
    "ss['label'] = (clf.predict_proba(test[X_test.columns])[:, 1] > 0.007).astype(int)\n"
   ]
  },
  {
   "cell_type": "code",
   "execution_count": 23,
   "metadata": {},
   "outputs": [],
   "source": [
    "ss.to_csv('solut.csv', index=False)"
   ]
  },
  {
   "cell_type": "code",
   "execution_count": 24,
   "metadata": {},
   "outputs": [
    {
     "data": {
      "text/plain": [
       "0.1928735"
      ]
     },
     "execution_count": 24,
     "metadata": {},
     "output_type": "execute_result"
    }
   ],
   "source": [
    "ss['label'].mean()"
   ]
  }
 ],
 "metadata": {
  "colab": {
   "provenance": []
  },
  "kernelspec": {
   "display_name": "Python 3 (ipykernel)",
   "language": "python",
   "name": "python3"
  },
  "language_info": {
   "codemirror_mode": {
    "name": "ipython",
    "version": 3
   },
   "file_extension": ".py",
   "mimetype": "text/x-python",
   "name": "python",
   "nbconvert_exporter": "python",
   "pygments_lexer": "ipython3",
   "version": "3.8.10"
  }
 },
 "nbformat": 4,
 "nbformat_minor": 1
}
